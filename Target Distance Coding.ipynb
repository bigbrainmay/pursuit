{
 "cells": [
  {
   "cell_type": "code",
   "execution_count": 1,
   "id": "c77f2ad1",
   "metadata": {},
   "outputs": [],
   "source": [
    "#import packages and functions\n",
    "\n",
    "%load_ext autoreload\n",
    "%autoreload 2\n",
    "\n",
    "import pursuit_functions as pursuit\n",
    "    \n",
    "import pandas as pd\n",
    "import numpy as np\n",
    "import random\n",
    "from itertools import product\n",
    "import matplotlib.pyplot as plt\n",
    "import seaborn as sns\n",
    "\n",
    "\n",
    "from sklearn.decomposition import PCA\n",
    "from xgboost import XGBClassifier\n",
    "from sklearn.neighbors import KNeighborsClassifier\n",
    "\n",
    "from sklearn.model_selection import cross_val_score\n",
    "from sklearn.preprocessing import StandardScaler\n",
    "from sklearn.utils import resample\n",
    "from sklearn.metrics import accuracy_score, confusion_matrix, ConfusionMatrixDisplay"
   ]
  },
  {
   "cell_type": "code",
   "execution_count": 7,
   "id": "73790b5b",
   "metadata": {},
   "outputs": [],
   "source": [
    "#load data set\n",
    "\n",
    "all_pursuit_tasks = pd.read_parquet(\"ca1_ca3_rsc_pursuit_data.parquet\", engine=\"pyarrow\")"
   ]
  },
  {
   "cell_type": "code",
   "execution_count": 8,
   "id": "23e09015",
   "metadata": {},
   "outputs": [
    {
     "data": {
      "text/html": [
       "<div>\n",
       "<style scoped>\n",
       "    .dataframe tbody tr th:only-of-type {\n",
       "        vertical-align: middle;\n",
       "    }\n",
       "\n",
       "    .dataframe tbody tr th {\n",
       "        vertical-align: top;\n",
       "    }\n",
       "\n",
       "    .dataframe thead th {\n",
       "        text-align: right;\n",
       "    }\n",
       "</style>\n",
       "<table border=\"1\" class=\"dataframe\">\n",
       "  <thead>\n",
       "    <tr style=\"text-align: right;\">\n",
       "      <th></th>\n",
       "      <th>time</th>\n",
       "      <th>ind</th>\n",
       "      <th>ratPos_1</th>\n",
       "      <th>ratPos_2</th>\n",
       "      <th>laserPos_1</th>\n",
       "      <th>laserPos_2</th>\n",
       "      <th>ratVel</th>\n",
       "      <th>ratAcc</th>\n",
       "      <th>laserVel</th>\n",
       "      <th>laserAcc</th>\n",
       "      <th>...</th>\n",
       "      <th>spkTable_28</th>\n",
       "      <th>spkTable_29</th>\n",
       "      <th>spkTable_30</th>\n",
       "      <th>spkTable_31</th>\n",
       "      <th>spkTable_32</th>\n",
       "      <th>spkTable_33</th>\n",
       "      <th>spkTable_34</th>\n",
       "      <th>region</th>\n",
       "      <th>trial_block</th>\n",
       "      <th>sessFile</th>\n",
       "    </tr>\n",
       "  </thead>\n",
       "  <tbody>\n",
       "    <tr>\n",
       "      <th>0</th>\n",
       "      <td>46.71875</td>\n",
       "      <td>2804</td>\n",
       "      <td>136.375</td>\n",
       "      <td>127.6875</td>\n",
       "      <td>153.25</td>\n",
       "      <td>115.5625</td>\n",
       "      <td>28.453125</td>\n",
       "      <td>83.1875</td>\n",
       "      <td>30.0</td>\n",
       "      <td>27.328125</td>\n",
       "      <td>...</td>\n",
       "      <td>&lt;NA&gt;</td>\n",
       "      <td>&lt;NA&gt;</td>\n",
       "      <td>&lt;NA&gt;</td>\n",
       "      <td>&lt;NA&gt;</td>\n",
       "      <td>&lt;NA&gt;</td>\n",
       "      <td>&lt;NA&gt;</td>\n",
       "      <td>&lt;NA&gt;</td>\n",
       "      <td>CA1</td>\n",
       "      <td>pursuit</td>\n",
       "      <td>KB09_20_pursuitRoot.mat</td>\n",
       "    </tr>\n",
       "    <tr>\n",
       "      <th>1</th>\n",
       "      <td>46.75</td>\n",
       "      <td>2805</td>\n",
       "      <td>136.5</td>\n",
       "      <td>127.25</td>\n",
       "      <td>153.25</td>\n",
       "      <td>114.9375</td>\n",
       "      <td>29.046875</td>\n",
       "      <td>83.4375</td>\n",
       "      <td>30.390625</td>\n",
       "      <td>30.21875</td>\n",
       "      <td>...</td>\n",
       "      <td>&lt;NA&gt;</td>\n",
       "      <td>&lt;NA&gt;</td>\n",
       "      <td>&lt;NA&gt;</td>\n",
       "      <td>&lt;NA&gt;</td>\n",
       "      <td>&lt;NA&gt;</td>\n",
       "      <td>&lt;NA&gt;</td>\n",
       "      <td>&lt;NA&gt;</td>\n",
       "      <td>CA1</td>\n",
       "      <td>pursuit</td>\n",
       "      <td>KB09_20_pursuitRoot.mat</td>\n",
       "    </tr>\n",
       "    <tr>\n",
       "      <th>2</th>\n",
       "      <td>46.78125</td>\n",
       "      <td>2806</td>\n",
       "      <td>136.625</td>\n",
       "      <td>126.75</td>\n",
       "      <td>153.25</td>\n",
       "      <td>114.4375</td>\n",
       "      <td>29.671875</td>\n",
       "      <td>83.0</td>\n",
       "      <td>30.8125</td>\n",
       "      <td>33.0625</td>\n",
       "      <td>...</td>\n",
       "      <td>&lt;NA&gt;</td>\n",
       "      <td>&lt;NA&gt;</td>\n",
       "      <td>&lt;NA&gt;</td>\n",
       "      <td>&lt;NA&gt;</td>\n",
       "      <td>&lt;NA&gt;</td>\n",
       "      <td>&lt;NA&gt;</td>\n",
       "      <td>&lt;NA&gt;</td>\n",
       "      <td>CA1</td>\n",
       "      <td>pursuit</td>\n",
       "      <td>KB09_20_pursuitRoot.mat</td>\n",
       "    </tr>\n",
       "    <tr>\n",
       "      <th>3</th>\n",
       "      <td>46.78125</td>\n",
       "      <td>2807</td>\n",
       "      <td>136.75</td>\n",
       "      <td>126.25</td>\n",
       "      <td>153.25</td>\n",
       "      <td>114.0</td>\n",
       "      <td>30.328125</td>\n",
       "      <td>81.8125</td>\n",
       "      <td>31.25</td>\n",
       "      <td>35.8125</td>\n",
       "      <td>...</td>\n",
       "      <td>&lt;NA&gt;</td>\n",
       "      <td>&lt;NA&gt;</td>\n",
       "      <td>&lt;NA&gt;</td>\n",
       "      <td>&lt;NA&gt;</td>\n",
       "      <td>&lt;NA&gt;</td>\n",
       "      <td>&lt;NA&gt;</td>\n",
       "      <td>&lt;NA&gt;</td>\n",
       "      <td>CA1</td>\n",
       "      <td>pursuit</td>\n",
       "      <td>KB09_20_pursuitRoot.mat</td>\n",
       "    </tr>\n",
       "    <tr>\n",
       "      <th>4</th>\n",
       "      <td>46.8125</td>\n",
       "      <td>2808</td>\n",
       "      <td>137.0</td>\n",
       "      <td>125.75</td>\n",
       "      <td>153.375</td>\n",
       "      <td>113.5625</td>\n",
       "      <td>30.984375</td>\n",
       "      <td>79.875</td>\n",
       "      <td>31.71875</td>\n",
       "      <td>38.3125</td>\n",
       "      <td>...</td>\n",
       "      <td>&lt;NA&gt;</td>\n",
       "      <td>&lt;NA&gt;</td>\n",
       "      <td>&lt;NA&gt;</td>\n",
       "      <td>&lt;NA&gt;</td>\n",
       "      <td>&lt;NA&gt;</td>\n",
       "      <td>&lt;NA&gt;</td>\n",
       "      <td>&lt;NA&gt;</td>\n",
       "      <td>CA1</td>\n",
       "      <td>pursuit</td>\n",
       "      <td>KB09_20_pursuitRoot.mat</td>\n",
       "    </tr>\n",
       "  </tbody>\n",
       "</table>\n",
       "<p>5 rows × 58 columns</p>\n",
       "</div>"
      ],
      "text/plain": [
       "       time   ind  ratPos_1  ratPos_2  laserPos_1  laserPos_2     ratVel  \\\n",
       "0  46.71875  2804   136.375  127.6875      153.25    115.5625  28.453125   \n",
       "1     46.75  2805     136.5    127.25      153.25    114.9375  29.046875   \n",
       "2  46.78125  2806   136.625    126.75      153.25    114.4375  29.671875   \n",
       "3  46.78125  2807    136.75    126.25      153.25       114.0  30.328125   \n",
       "4   46.8125  2808     137.0    125.75     153.375    113.5625  30.984375   \n",
       "\n",
       "    ratAcc   laserVel   laserAcc  ...  spkTable_28  spkTable_29  spkTable_30  \\\n",
       "0  83.1875       30.0  27.328125  ...         <NA>         <NA>         <NA>   \n",
       "1  83.4375  30.390625   30.21875  ...         <NA>         <NA>         <NA>   \n",
       "2     83.0    30.8125    33.0625  ...         <NA>         <NA>         <NA>   \n",
       "3  81.8125      31.25    35.8125  ...         <NA>         <NA>         <NA>   \n",
       "4   79.875   31.71875    38.3125  ...         <NA>         <NA>         <NA>   \n",
       "\n",
       "   spkTable_31  spkTable_32  spkTable_33  spkTable_34  region  trial_block  \\\n",
       "0         <NA>         <NA>         <NA>         <NA>     CA1      pursuit   \n",
       "1         <NA>         <NA>         <NA>         <NA>     CA1      pursuit   \n",
       "2         <NA>         <NA>         <NA>         <NA>     CA1      pursuit   \n",
       "3         <NA>         <NA>         <NA>         <NA>     CA1      pursuit   \n",
       "4         <NA>         <NA>         <NA>         <NA>     CA1      pursuit   \n",
       "\n",
       "                  sessFile  \n",
       "0  KB09_20_pursuitRoot.mat  \n",
       "1  KB09_20_pursuitRoot.mat  \n",
       "2  KB09_20_pursuitRoot.mat  \n",
       "3  KB09_20_pursuitRoot.mat  \n",
       "4  KB09_20_pursuitRoot.mat  \n",
       "\n",
       "[5 rows x 58 columns]"
      ]
     },
     "execution_count": 8,
     "metadata": {},
     "output_type": "execute_result"
    }
   ],
   "source": [
    "all_pursuit_tasks.head()"
   ]
  },
  {
   "cell_type": "code",
   "execution_count": 9,
   "id": "8edc7993",
   "metadata": {},
   "outputs": [
    {
     "name": "stdout",
     "output_type": "stream",
     "text": [
      "['CA1' 'CA3' 'RSC']\n"
     ]
    }
   ],
   "source": [
    "print(all_pursuit_tasks[\"region\"].unique())"
   ]
  },
  {
   "cell_type": "code",
   "execution_count": 15,
   "id": "256120d0",
   "metadata": {},
   "outputs": [],
   "source": [
    "RSC_sessions = all_pursuit_tasks[all_pursuit_tasks[\"region\"] == \"RSC\"]\n",
    "\n",
    "RSC_sessions_cleaned = RSC_sessions.dropna(subset=['ratPos_1', 'ratPos_2', 'laserPos_1', 'laserPos_2'])\n"
   ]
  },
  {
   "cell_type": "code",
   "execution_count": 20,
   "id": "f7cd9231",
   "metadata": {},
   "outputs": [
    {
     "data": {
      "text/plain": [
       "array(['KB10_02_pursuitRoot.mat', 'KB10_03_pursuitRoot.mat',\n",
       "       'KB10_08_pursuitRoot.mat', 'KB10_09_pursuitRoot.mat',\n",
       "       'KB10_10_pursuitRoot.mat', 'KB10_11_pursuitRoot.mat',\n",
       "       'KB10_13_pursuitRoot.mat', 'KB10_15_pursuitRoot.mat',\n",
       "       'KB10_17_pursuitRoot.mat', 'KB10_20_pursuitRoot.mat',\n",
       "       'KB20_02_pursuitRoot.mat', 'KB20_03_pursuitRoot.mat',\n",
       "       'KB20_04_pursuitRoot.mat', 'KB20_05_pursuitRoot.mat',\n",
       "       'KB20_06_pursuitRoot.mat', 'KB20_07_pursuitRoot.mat',\n",
       "       'KB20_09_pursuitRoot.mat', 'KB20_10_pursuitRoot.mat',\n",
       "       'KB20_11_pursuitRoot.mat', 'KB20_12_pursuitRoot.mat',\n",
       "       'KB20_13_pursuitRoot.mat', 'KB20_14_pursuitRoot.mat',\n",
       "       'KB20_15_pursuitRoot.mat', 'KB20_19_pursuitRoot.mat',\n",
       "       'KB20_21_pursuitRoot.mat', 'KB20_22_pursuitRoot.mat',\n",
       "       'KB20_24_pursuitRoot.mat', 'KB20_25_pursuitRoot.mat',\n",
       "       'KB20_26_pursuitRoot.mat', 'KB20_34_pursuitRoot.mat',\n",
       "       'KB20_35_pursuitRoot.mat', 'LP03_03_pursuitRoot.mat',\n",
       "       'LP03_04_pursuitRoot.mat', 'LP03_05_pursuitRoot.mat',\n",
       "       'LP03_06_pursuitRoot.mat', 'LP03_07_pursuitRoot.mat',\n",
       "       'LP03_10_pursuitRoot.mat', 'LP03_12_pursuitRoot.mat',\n",
       "       'LP03_17_pursuitRoot.mat', 'LP03_18_pursuitRoot.mat',\n",
       "       'LP03_20_pursuitRoot.mat', 'LP03_24_pursuitRoot.mat',\n",
       "       'LP03_25_pursuitRoot.mat', 'LP03_26_pursuitRoot.mat',\n",
       "       'LP06_24_pursuitRoot.mat', 'LP06_29_pursuitRoot.mat'], dtype=object)"
      ]
     },
     "execution_count": 20,
     "metadata": {},
     "output_type": "execute_result"
    }
   ],
   "source": [
    "RSC_sessions_cleaned[\"sessFile\"].unique()"
   ]
  },
  {
   "cell_type": "code",
   "execution_count": 24,
   "id": "12957b31",
   "metadata": {},
   "outputs": [
    {
     "name": "stdout",
     "output_type": "stream",
     "text": [
      "132.37856945935147 85.41859633085642\n",
      "1951.1716698587406\n"
     ]
    }
   ],
   "source": [
    "#find midpoint of arena\n",
    "\n",
    "\n",
    "def circle_fit(dataframe, rat_x, rat_y, laser_x, laser_y):\n",
    "    rat_x = dataframe[rat_x].values.astype(\"float64\")\n",
    "    rat_y = dataframe[rat_y].values.astype(\"float64\")\n",
    "    laser_x = dataframe[laser_x].values.astype(\"float64\")\n",
    "    laser_y = dataframe[laser_y].values.astype(\"float64\")\n",
    "\n",
    "    x = np.concatenate((rat_x, laser_x))\n",
    "    y = np.concatenate((rat_y, laser_y))\n",
    "    \n",
    "    #A * [a,b,c].T = b_vec\n",
    "    A = np.column_stack((-2*x, -2*y, np.ones_like(x)))\n",
    "    b_vec = -(x**2 + y**2)\n",
    "\n",
    "    solution, residuals, rank, s = np.linalg.lstsq(A, b_vec)\n",
    "    a, b, c = solution\n",
    "\n",
    "    r = a**2 + b**2 - c\n",
    "\n",
    "    \n",
    "    return a, b, r\n",
    "\n",
    "#center_x, center_y, radius = circle_fit(RSC_sessions_cleaned[RSC_sessions_cleaned[\"sessFile\"] == 'KB10_02_pursuitRoot.mat'], \"ratPos_1\", \"ratPos_2\", \"laserPos_1\", \"laserPos_2\")\n",
    "center_x, center_y, radius = circle_fit(RSC_sessions_cleaned, \"ratPos_1\", \"ratPos_2\", \"laserPos_1\", \"laserPos_2\")\n",
    "\n",
    "print(center_x, center_y)\n",
    "print(radius)\n",
    "\n"
   ]
  },
  {
   "cell_type": "code",
   "execution_count": 16,
   "id": "d10075f5",
   "metadata": {},
   "outputs": [
    {
     "name": "stderr",
     "output_type": "stream",
     "text": [
      "c:\\Users\\maygc\\Miniconda3\\envs\\pursuit\\Lib\\site-packages\\IPython\\core\\events.py:82: UserWarning: Creating legend with loc=\"best\" can be slow with large amounts of data.\n",
      "  func(*args, **kwargs)\n",
      "c:\\Users\\maygc\\Miniconda3\\envs\\pursuit\\Lib\\site-packages\\IPython\\core\\pylabtools.py:170: UserWarning: Creating legend with loc=\"best\" can be slow with large amounts of data.\n",
      "  fig.canvas.print_figure(bytes_io, **kw)\n"
     ]
    },
    {
     "data": {
      "image/png": "[encoded data removed]",
      "text/plain": [
       "<Figure size 640x480 with 1 Axes>"
      ]
     },
     "metadata": {},
     "output_type": "display_data"
    }
   ],
   "source": [
    "#plot trajectories\n",
    "\n",
    "pursuit.plot.plot_trajectory(RSC_sessions_cleaned, rat_color='blue', laser_color='red')"
   ]
  },
  {
   "cell_type": "code",
   "execution_count": null,
   "id": "e856617d",
   "metadata": {},
   "outputs": [],
   "source": []
  }
 ],
 "metadata": {
  "kernelspec": {
   "display_name": "pursuit",
   "language": "python",
   "name": "python3"
  },
  "language_info": {
   "codemirror_mode": {
    "name": "ipython",
    "version": 3
   },
   "file_extension": ".py",
   "mimetype": "text/x-python",
   "name": "python",
   "nbconvert_exporter": "python",
   "pygments_lexer": "ipython3",
   "version": "3.13.2"
  }
 },
 "nbformat": 4,
 "nbformat_minor": 5
}
