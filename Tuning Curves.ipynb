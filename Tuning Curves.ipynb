{
 "cells": [
  {
   "cell_type": "code",
   "execution_count": null,
   "id": "0",
   "metadata": {},
   "outputs": [],
   "source": [
    "#import packages and functions\n",
    "\n",
    "%load_ext autoreload\n",
    "%autoreload 2\n",
    "\n",
    "import pursuit_functions as pursuit\n",
    "    \n",
    "import pandas as pd\n",
    "import numpy as np\n",
    "from itertools import product\n",
    "import matplotlib.pyplot as plt\n",
    "import seaborn as sns\n",
    "\n",
    "\n",
    "from sklearn.decomposition import PCA\n",
    "from xgboost import XGBClassifier\n",
    "from sklearn.neighbors import KNeighborsClassifier\n",
    "\n",
    "from sklearn.model_selection import cross_val_score\n",
    "from sklearn.preprocessing import StandardScaler\n",
    "from sklearn.utils import resample\n",
    "from sklearn.metrics import accuracy_score, confusion_matrix, ConfusionMatrixDisplay"
   ]
  },
  {
   "cell_type": "code",
   "execution_count": null,
   "id": "1",
   "metadata": {},
   "outputs": [],
   "source": [
    "#load data set\n",
    "\n",
    "all_pursuit_tasks = pd.read_parquet(\"ca1_ca3_rsc_pursuit_data.parquet\", engine=\"pyarrow\")"
   ]
  },
  {
   "cell_type": "code",
   "execution_count": null,
   "id": "2",
   "metadata": {},
   "outputs": [],
   "source": [
    "#drop NA values for RSC, CA1, and CA3 sessions\n",
    "RSC_sessions = all_pursuit_tasks[all_pursuit_tasks[\"region\"] == \"RSC\"]\n",
    "CA1_sessions = all_pursuit_tasks[all_pursuit_tasks[\"region\"] == \"CA1\"]\n",
    "CA3_sessions = all_pursuit_tasks[all_pursuit_tasks[\"region\"] == \"CA3\"]\n",
    "\n",
    "RSC_cleaned = pursuit.tuning.drop_NA_vals(RSC_sessions)\n",
    "CA1_cleaned = pursuit.tuning.drop_NA_vals(CA1_sessions)\n",
    "CA3_cleaned = pursuit.tuning.drop_NA_vals(CA3_sessions)"
   ]
  },
  {
   "cell_type": "code",
   "execution_count": null,
   "id": "3",
   "metadata": {},
   "outputs": [],
   "source": [
    "RSC_cleaned.head()"
   ]
  },
  {
   "cell_type": "code",
   "execution_count": null,
   "id": "4",
   "metadata": {},
   "outputs": [],
   "source": [
    "#get all coordinate values below 99th percentile and normalize points for all regions \n",
    "\n",
    "normalized_sessions = pursuit.tuning.normalize_points(all_pursuit_tasks)"
   ]
  },
  {
   "cell_type": "code",
   "execution_count": null,
   "id": "5",
   "metadata": {},
   "outputs": [],
   "source": [
    "normalized_sessions.head()"
   ]
  },
  {
   "cell_type": "code",
   "execution_count": null,
   "id": "6",
   "metadata": {},
   "outputs": [],
   "source": [
    "#find the mean center and overall radius of the arena for all normalized data points\n",
    "#you can specify the percentile value to be considered for the overall radius; default is 95th percentile\n",
    "#calculates the individual center point for each session\n",
    "\n",
    "circle_boundaries, radius = pursuit.tuning.fit_circle_bounds(normalized_sessions)\n",
    "print(radius)"
   ]
  },
  {
   "cell_type": "code",
   "execution_count": null,
   "id": "7",
   "metadata": {},
   "outputs": [],
   "source": [
    "circle_boundaries.head()"
   ]
  },
  {
   "cell_type": "code",
   "execution_count": null,
   "id": "8",
   "metadata": {},
   "outputs": [],
   "source": [
    "#find circumference points for plotting using the center coordinates and overall radius\n",
    "all_circ_points = pursuit.tuning.circumference(circle_boundaries)"
   ]
  },
  {
   "cell_type": "code",
   "execution_count": null,
   "id": "9",
   "metadata": {},
   "outputs": [],
   "source": [
    "#plot normalized concatenated laser and rat paths with center point and boundary\n",
    "#the function takes the normalized_sessions, circle_boundaries, and all_circ_points dataframes\n",
    "\n",
    "pursuit.tuning.plot_arena_bounds(normalized_sessions, circle_boundaries, all_circ_points)"
   ]
  },
  {
   "cell_type": "code",
   "execution_count": null,
   "id": "10",
   "metadata": {},
   "outputs": [],
   "source": [
    "#normalize only laser points and make a dataframe containing spike data using the normalized data mask\n",
    "#function takes the cleaned df\n",
    "RSC_laser_spks = pursuit.tuning.norm_laser_get_spks(RSC_cleaned)\n",
    "CA1_laser_spks = pursuit.tuning.norm_laser_get_spks(CA1_cleaned)\n",
    "CA3_laser_spks = pursuit.tuning.norm_laser_get_spks(CA3_cleaned)"
   ]
  },
  {
   "cell_type": "code",
   "execution_count": null,
   "id": "11",
   "metadata": {},
   "outputs": [],
   "source": [
    "CA1_laser_spks.head(50)"
   ]
  },
  {
   "cell_type": "code",
   "execution_count": null,
   "id": "12",
   "metadata": {},
   "outputs": [],
   "source": [
    "#find distance of normalized laser points to circle boundary by each session\n",
    "#function takes the normalized laser/spikes and circle boundaries dataframes\n",
    "\n",
    "RSC_laser_spks_bounds = pursuit.tuning.dist_to_bounds(RSC_laser_spks, circle_boundaries)\n",
    "CA1_laser_spks_bounds = pursuit.tuning.dist_to_bounds(CA1_laser_spks, circle_boundaries)\n",
    "CA3_laser_spks_bounds = pursuit.tuning.dist_to_bounds(CA3_laser_spks, circle_boundaries)"
   ]
  },
  {
   "cell_type": "code",
   "execution_count": null,
   "id": "13",
   "metadata": {},
   "outputs": [],
   "source": [
    "CA3_laser_spks_bounds.head(50)"
   ]
  },
  {
   "cell_type": "markdown",
   "id": "14",
   "metadata": {},
   "source": [
    "### Continue from here!"
   ]
  },
  {
   "cell_type": "code",
   "execution_count": null,
   "id": "15",
   "metadata": {},
   "outputs": [],
   "source": [
    "#put raw spike counts and laser coords into bins calculated from the overall min and max bound_dist values\n",
    "#function takes laser_spks_bounds dataframes \n",
    "\n",
    "def bin_spikes_laser(dataframe, \n",
    "                     spk_prefix=\"spkTable\", \n",
    "                     dist_col=\"bound_dist\",\n",
    "                     num_bins=20, \n",
    "                     bin_edges=None):\n",
    "    \n",
    "    \n",
    "    if bin_edges is None:\n",
    "        overall_min = dataframe[dist_col].min()\n",
    "        overall_max = dataframe[dist_col].max()\n",
    "        bin_edges = np.linspace(overall_min, overall_max, num_bins+1)\n",
    "\n",
    "    intervals = pd.IntervalIndex.from_breaks(bin_edges)\n",
    "    bin_midpoints = (intervals.left + intervals.right) / 2\n",
    "\n",
    "    bin_mid_lookup = dict(zip(intervals, bin_midpoints))\n",
    "    \n",
    "    rows = []\n",
    "\n",
    "    for sessFile in dataframe[\"sessFile\"].unique():\n",
    "        \n",
    "        session = dataframe[dataframe[\"sessFile\"] == sessFile].copy()\n",
    "\n",
    "        session[\"bound_bin\"] = pd.cut(session[dist_col], bins=intervals, include_lowest=True)\n",
    "\n",
    "        laser_occupancy = session[\"bound_bin\"].value_counts().reindex(intervals, fill_value=0, observed=False)\n",
    "\n",
    "        spk_cols = [col for col in session.columns if spk_prefix in col and not session[col].isna().all()]\n",
    "\n",
    "        for neuron in spk_cols:\n",
    "            spks_by_bin = session.groupby(\"bound_bin\")[neuron].sum().reindex(intervals, fill_value=0)\n",
    "\n",
    "            for i in intervals:\n",
    "                rows.append({\n",
    "                    \"sessFile\": sessFile,\n",
    "                    \"neuron\": neuron,\n",
    "                    \"bin_midpoint\": round(bin_mid_lookup[i], 2),\n",
    "                    \"spike_count\": int(spks_by_bin[i]),\n",
    "                    \"laser_occupancy\": int(laser_occupancy[i])\n",
    "                })\n",
    "\n",
    "    return pd.DataFrame(rows)\n",
    "\n"
   ]
  },
  {
   "cell_type": "code",
   "execution_count": null,
   "id": "16",
   "metadata": {},
   "outputs": [],
   "source": [
    "#put raw spike counts into bins calculated from the overall min and max bound_dist values \n",
    "\n",
    "def bin_spike_data(dataframe, spk_prefix=\"spkTable\", num_bins=20, bin_edges=None):\n",
    "\n",
    "    rows = []\n",
    "\n",
    "    if bin_edges is None:\n",
    "        bin_edges = pursuit.tuning.find_bin_edges(dataframe, \"bound_dist\", num_bins)\n",
    "\n",
    "    for sessFile in dataframe[\"sessFile\"].unique():\n",
    "\n",
    "        session = dataframe[dataframe[\"sessFile\"] == sessFile].copy()\n",
    "\n",
    "        session[\"bound_bin\"] = pd.cut(session[\"bound_dist\"], bins=bin_edges, include_lowest=True)\n",
    "\n",
    "        spk_cols = [col for col in session.columns if spk_prefix in col and not session[col].isna().all()]\n",
    "\n",
    "        for spk in spk_cols:\n",
    "            spk_by_bin = session.groupby(\"bound_bin\")[spk].sum()\n",
    "\n",
    "            bin_midpoints = pd.IntervalIndex.from_breaks(bin_edges).to_series().apply(\n",
    "                lambda interval: round((interval.left + interval.right) / 2, 2)\n",
    "                )\n",
    "\n",
    "            for bin_mid, spk_count in zip(bin_midpoints, spk_by_bin):\n",
    "                rows.append({\n",
    "                    \"sessFile\": sessFile,\n",
    "                    \"neuron\": spk,\n",
    "                    \"spike_count\": spk_count,\n",
    "                    \"bin_midpoint\": bin_mid        \n",
    "                })\n",
    "\n",
    "    binned_spks_df = pd.DataFrame(rows)\n",
    "    return binned_spks_df\n",
    "\n",
    "\n"
   ]
  },
  {
   "cell_type": "code",
   "execution_count": null,
   "id": "17",
   "metadata": {},
   "outputs": [],
   "source": [
    "#put laser coordinates into bins calculated from the overall min and max bound_dist values\n",
    "def bin_laser_data(dataframe, num_bins=20, bin_edges=None):\n",
    "\n",
    "    rows = []\n",
    "\n",
    "    if bin_edges is None:\n",
    "        bin_edges = pursuit.tuning.find_bin_edges(dataframe, \"bound_dist\", num_bins)\n",
    "\n",
    "    for sessFile in dataframe[\"sessFile\"].unique():\n",
    "\n",
    "        session = dataframe[dataframe[\"sessFile\"] == sessFile].copy()\n",
    "\n",
    "        session[\"bound_bin\"] = pd.cut(session[\"bound_dist\"], bins=bin_edges, include_lowest=True)\n",
    "\n",
    "        coords_by_bin = session.groupby([\"bound_bin\"], observed=False).size()\n",
    "\n",
    "        for bin_interval, laser_count in coords_by_bin.items():\n",
    "            bin_mid = round((bin_interval.left + bin_interval.right) / 2, 2)\n",
    "            \n",
    "            rows.append({\n",
    "                    \"sessFile\": sessFile,\n",
    "                    \"laser_occupancy\": laser_count,\n",
    "                    \"bin_midpoint\": bin_mid\n",
    "                })\n",
    "\n",
    "    binned_laser_df = pd.DataFrame(rows)\n",
    "    return binned_laser_df\n"
   ]
  },
  {
   "cell_type": "code",
   "execution_count": null,
   "id": "18",
   "metadata": {},
   "outputs": [],
   "source": [
    "#bin the data!\n",
    "RSC_laser_spikes_binned = pursuit.tuning.bin_spikes_laser(RSC_laser_spks_bounds)\n",
    "CA1_laser_spikes_binned = pursuit.tuning.bin_spikes_laser(CA1_laser_spks_bounds)\n",
    "CA3_laser_spikes_binned = pursuit.tuning.bin_spikes_laser(CA3_laser_spks_bounds)"
   ]
  },
  {
   "cell_type": "code",
   "execution_count": null,
   "id": "19",
   "metadata": {},
   "outputs": [],
   "source": [
    "#normalize spike counts by laser occupancy using bins calculated from the overall min and max bound_dist values \n",
    "\n",
    "def calculate_tuning(laser_spikes_binned_df):\n",
    "\n",
    "    laser_spikes_binned_df[\"tuning\"] = laser_spikes_binned_df[\"spike_count\"] / laser_spikes_binned_df[\"laser_occupancy\"]\n",
    "\n",
    "    return laser_spikes_binned_df"
   ]
  },
  {
   "cell_type": "code",
   "execution_count": null,
   "id": "20",
   "metadata": {},
   "outputs": [],
   "source": [
    "RSC_tuning = pursuit.tuning.calculate_tuning(RSC_laser_spikes_binned)\n",
    "CA1_tuning = pursuit.tuning.calculate_tuning(CA1_laser_spikes_binned)\n",
    "CA3_tuning = pursuit.tuning.calculate_tuning(CA3_laser_spikes_binned)"
   ]
  },
  {
   "cell_type": "code",
   "execution_count": null,
   "id": "21",
   "metadata": {},
   "outputs": [],
   "source": [
    "#plot all neuron tuning curves\n",
    "\n",
    "pursuit.tuning.plot_tuning_curves(CA3_tuning)"
   ]
  },
  {
   "cell_type": "code",
   "execution_count": null,
   "id": "22",
   "metadata": {},
   "outputs": [],
   "source": [
    "RSC_z_scored = pursuit.tuning.z_score_norm(RSC_tuning)\n",
    "CA1_z_scored = pursuit.tuning.z_score_norm(CA1_tuning)\n",
    "CA3_z_scored = pursuit.tuning.z_score_norm(CA3_tuning)"
   ]
  },
  {
   "cell_type": "code",
   "execution_count": null,
   "id": "23",
   "metadata": {},
   "outputs": [],
   "source": [
    "RSC_smoothed = pursuit.tuning.pivot_smooth(RSC_z_scored)\n",
    "CA1_smoothed = pursuit.tuning.pivot_smooth(CA1_z_scored)\n",
    "CA3_smoothed = pursuit.tuning.pivot_smooth(CA3_z_scored)"
   ]
  },
  {
   "cell_type": "code",
   "execution_count": null,
   "id": "24",
   "metadata": {},
   "outputs": [],
   "source": [
    "RSC_smoothed_sorted = pursuit.tuning.peak_sort(RSC_smoothed)\n",
    "CA1_smoothed_sorted = pursuit.tuning.peak_sort(CA1_smoothed)\n",
    "CA3_smoothed_sorted = pursuit.tuning.peak_sort(CA3_smoothed)"
   ]
  },
  {
   "cell_type": "code",
   "execution_count": null,
   "id": "25",
   "metadata": {},
   "outputs": [],
   "source": [
    "pursuit.tuning.heatmap(RSC_smoothed_sorted)\n",
    "pursuit.tuning.heatmap(CA1_smoothed_sorted)\n",
    "pursuit.tuning.heatmap(CA3_smoothed_sorted)"
   ]
  },
  {
   "cell_type": "code",
   "execution_count": null,
   "id": "26",
   "metadata": {},
   "outputs": [],
   "source": []
  }
 ],
 "metadata": {
  "kernelspec": {
   "display_name": "pursuit",
   "language": "python",
   "name": "python3"
  },
  "language_info": {
   "codemirror_mode": {
    "name": "ipython",
    "version": 3
   },
   "file_extension": ".py",
   "mimetype": "text/x-python",
   "name": "python",
   "nbconvert_exporter": "python",
   "pygments_lexer": "ipython3",
   "version": "3.13.2"
  }
 },
 "nbformat": 4,
 "nbformat_minor": 5
}
