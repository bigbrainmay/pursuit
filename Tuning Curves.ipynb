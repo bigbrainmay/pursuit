{
 "cells": [
  {
   "cell_type": "code",
   "execution_count": null,
   "id": "0",
   "metadata": {},
   "outputs": [],
   "source": [
    "#import packages and functions\n",
    "\n",
    "%load_ext autoreload\n",
    "%autoreload 2\n",
    "\n",
    "import pursuit_functions as pursuit\n",
    "    \n",
    "import pandas as pd\n",
    "import numpy as np\n",
    "import polars as pl\n",
    "from itertools import product\n",
    "import matplotlib.pyplot as plt\n",
    "import seaborn as sns\n",
    "from tqdm import tqdm \n",
    "from numba import njit\n",
    "\n",
    "from scipy import stats\n",
    "from sklearn.decomposition import PCA\n",
    "from xgboost import XGBClassifier\n",
    "from sklearn.neighbors import KNeighborsClassifier\n",
    "\n",
    "from sklearn.model_selection import cross_val_score\n",
    "from sklearn.preprocessing import StandardScaler\n",
    "from sklearn.utils import resample\n",
    "from sklearn.metrics import accuracy_score, confusion_matrix, ConfusionMatrixDisplay"
   ]
  },
  {
   "cell_type": "code",
   "execution_count": null,
   "id": "1",
   "metadata": {},
   "outputs": [],
   "source": [
    "#load data sets\n",
    "\n",
    "RSC_tasks = pd.read_parquet(\"RSC_sessions.parquet\", engine=\"pyarrow\")\n",
    "PPC_tasks = pd.read_parquet(\"PPC_sessions.parquet\", engine=\"pyarrow\")"
   ]
  },
  {
   "cell_type": "markdown",
   "id": "2",
   "metadata": {},
   "source": [
    "# Normalize points and find circle boundaries."
   ]
  },
  {
   "cell_type": "code",
   "execution_count": null,
   "id": "3",
   "metadata": {},
   "outputs": [],
   "source": [
    "#get all coordinate values below 99th percentile and normalize points for all regions \n",
    "\n",
    "#normalized_sessions = pursuit.tuning.normalize_points(all_pursuit_tasks)\n",
    "RSC_norm_sessions = pursuit.tuning.normalize_points(RSC_tasks)\n",
    "PPC_norm_sessions = pursuit.tuning.normalize_points(PPC_tasks)"
   ]
  },
  {
   "cell_type": "code",
   "execution_count": null,
   "id": "4",
   "metadata": {},
   "outputs": [],
   "source": [
    "#find the mean center and overall radius of the arena for all normalized data points\n",
    "#you can specify the percentile value to be considered for the overall radius; default is 95th percentile\n",
    "#calculates the individual center point for each session\n",
    "\n",
    "#circle_boundaries, radius = pursuit.tuning.fit_circle_bounds(normalized_sessions)\n",
    "#print(radius)\n",
    "\n",
    "RSC_circle_boundaries, RSC_radius = pursuit.tuning.fit_circle_bounds(RSC_norm_sessions)\n",
    "PPC_circle_boundaries, PPC_radius = pursuit.tuning.fit_circle_bounds(PPC_norm_sessions)\n",
    "print(RSC_radius)\n",
    "print(PPC_radius)"
   ]
  },
  {
   "cell_type": "code",
   "execution_count": null,
   "id": "5",
   "metadata": {},
   "outputs": [],
   "source": [
    "#find circumference points for plotting using the center coordinates and overall radius\n",
    "#all_circ_points = pursuit.tuning.circumference(circle_boundaries)\n",
    "\n",
    "RSC_circ_points = pursuit.tuning.circumference(RSC_circle_boundaries)\n",
    "PPC_circ_points = pursuit.tuning.circumference(PPC_circle_boundaries)"
   ]
  },
  {
   "cell_type": "markdown",
   "id": "6",
   "metadata": {},
   "source": [
    "# Plot the laser coordinates and boundaries."
   ]
  },
  {
   "cell_type": "code",
   "execution_count": null,
   "id": "7",
   "metadata": {},
   "outputs": [],
   "source": [
    "#plot normalized concatenated laser and rat paths with center point and boundary\n",
    "#the function takes the normalized_sessions, circle_boundaries, and all_circ_points dataframes\n",
    "\n",
    "pursuit.tuning.plot_arena_bounds(PPC_norm_sessions, PPC_circle_boundaries, PPC_circ_points)"
   ]
  },
  {
   "cell_type": "code",
   "execution_count": null,
   "id": "8",
   "metadata": {},
   "outputs": [],
   "source": [
    "#plot normalized concatenated laser and rat paths with center point and boundary\n",
    "#the function takes the normalized_sessions, circle_boundaries, and all_circ_points dataframes\n",
    "\n",
    "pursuit.tuning.plot_arena_bounds(RSC_norm_sessions, RSC_circle_boundaries, RSC_circ_points)"
   ]
  },
  {
   "cell_type": "markdown",
   "id": "9",
   "metadata": {},
   "source": [
    "# Clean data and pull spike data."
   ]
  },
  {
   "cell_type": "code",
   "execution_count": null,
   "id": "10",
   "metadata": {},
   "outputs": [],
   "source": [
    "#obtain trial block-specific sessions\n",
    "\n",
    "RSC_pursuit = RSC_tasks[RSC_tasks[\"block\"] == \"pursuit\"]\n",
    "PPC_pursuit = PPC_tasks[PPC_tasks[\"block\"] == \"pursuit\"]"
   ]
  },
  {
   "cell_type": "code",
   "execution_count": null,
   "id": "11",
   "metadata": {},
   "outputs": [],
   "source": [
    "#drop NA values for RSC, CA1, and CA3 sessions\n",
    "\n",
    "RSC_cleaned = pursuit.tuning.drop_NA_vals(RSC_pursuit)\n",
    "PPC_cleaned = pursuit.tuning.drop_NA_vals(PPC_pursuit)"
   ]
  },
  {
   "cell_type": "markdown",
   "id": "12",
   "metadata": {},
   "source": [
    "# Normalizing time for bootstrapping."
   ]
  },
  {
   "cell_type": "code",
   "execution_count": null,
   "id": "13",
   "metadata": {},
   "outputs": [],
   "source": [
    "#RSC_clean_time = pursuit.tuning.normalize_time(RSC_cleaned)\n",
    "#CA1_clean_time = pursuit.tuning.normalize_time(CA1_cleaned)\n",
    "#CA3_clean_time = pursuit.tuning.normalize_time(CA3_cleaned)\n",
    "\n",
    "RSC_clean_time = pursuit.tuning.normalize_time(RSC_cleaned)\n",
    "PPC_clean_time = pursuit.tuning.normalize_time(PPC_cleaned)"
   ]
  },
  {
   "cell_type": "markdown",
   "id": "14",
   "metadata": {},
   "source": [
    "# Assigning epochs to dataframes with normalized time."
   ]
  },
  {
   "cell_type": "code",
   "execution_count": null,
   "id": "15",
   "metadata": {},
   "outputs": [],
   "source": [
    "# for epoch_half, True:1, False:2 will result in the first half labeled as 1 (<= cutoff) and the second half labeled as 2\n",
    "# for epoch_odd_even, we take the minutes divided by 2 and find the remainder. If the remainder is 1 (odd), it will be labeled as 1 and if the remainder is 0 (even), it will be labeled as 2\n",
    "\n",
    "RSC_clean_time_epochs = pursuit.tuning.assign_epochs(RSC_clean_time)\n",
    "PPC_clean_time_epochs = pursuit.tuning.assign_epochs(PPC_clean_time)"
   ]
  },
  {
   "cell_type": "markdown",
   "id": "16",
   "metadata": {},
   "source": [
    "# Create concise dataframes with only sessFile, laser, epoch, spike, and relative time data."
   ]
  },
  {
   "cell_type": "code",
   "execution_count": null,
   "id": "17",
   "metadata": {},
   "outputs": [],
   "source": [
    "#make a new df with only sessFile, laser, epoch, spike, and relative time data.\n",
    "\n",
    "RSC_epoch_laser_spks = pursuit.tuning.epoch_laser_spks(RSC_clean_time_epochs)\n",
    "PPC_epoch_laser_spks = pursuit.tuning.epoch_laser_spks(PPC_clean_time_epochs)"
   ]
  },
  {
   "cell_type": "markdown",
   "id": "18",
   "metadata": {},
   "source": [
    "# Pull epoch halves into two data frames for tuning correlation."
   ]
  },
  {
   "cell_type": "code",
   "execution_count": null,
   "id": "19",
   "metadata": {},
   "outputs": [],
   "source": [
    "#make separate dfs for df subsets used for tuning\n",
    "\n",
    "RSC_epoch_first_half, RSC_epoch_second_half, RSC_epoch_odd_min, RSC_epoch_even_min = pursuit.tuning.pull_epochs(RSC_epoch_laser_spks)\n",
    "PPC_epoch_first_half, PPC_epoch_second_half, PPC_epoch_odd_min, PPC_epoch_even_min = pursuit.tuning.pull_epochs(PPC_epoch_laser_spks)\n"
   ]
  },
  {
   "cell_type": "markdown",
   "id": "20",
   "metadata": {},
   "source": [
    "# Bootstrapping."
   ]
  },
  {
   "cell_type": "code",
   "execution_count": null,
   "id": "21",
   "metadata": {},
   "outputs": [],
   "source": [
    "#bootstrap sessions\n",
    "#RSC_first_second_tuning = pursuit.tuning.bootstrap_all_sessions(RSC_epoch_first_half, RSC_epoch_second_half, RSC_circle_boundaries)\n",
    "RSC_odd_even_tuning = pursuit.tuning.bootstrap_all_sessions(RSC_epoch_odd_min, RSC_epoch_even_min, RSC_circle_boundaries)\n",
    "\n",
    "#PPC_first_second_tuning = pursuit.tuning.bootstrap_all_sessions(PPC_epoch_first_half, PPC_epoch_second_half, PPC_circle_boundaries)\n",
    "PPC_odd_even_tuning = pursuit.tuning.bootstrap_all_sessions(PPC_epoch_odd_min, PPC_epoch_even_min, PPC_circle_boundaries)\n"
   ]
  },
  {
   "cell_type": "markdown",
   "id": "22",
   "metadata": {},
   "source": [
    "# Find cells with corr values over the 95th and 99th percentiles and compare them to the true tuning values."
   ]
  },
  {
   "cell_type": "code",
   "execution_count": null,
   "id": "23",
   "metadata": {},
   "outputs": [],
   "source": [
    "#plot null distribution of spearman r values with true, 95th, 99th percentile lines for all cells\n",
    "#function takes a tuning epoch df\n",
    "pursuit.tuning.plot_null_dist(RSC_odd_even_tuning)"
   ]
  },
  {
   "cell_type": "code",
   "execution_count": null,
   "id": "24",
   "metadata": {},
   "outputs": [],
   "source": [
    "#ID significant cells above 95th percentile corr values\n",
    "#specify the percentile\n",
    "\n",
    "#RSC_first_second_cells_95 = pursuit.tuning.get_significant_cells(RSC_first_second_tuning, percentile=95)\n",
    "RSC_odd_even_cells_95 = pursuit.tuning.get_significant_cells(RSC_odd_even_tuning, percentile=95)\n",
    "#PPC_first_second_cells_95 = pursuit.tuning.get_significant_cells(PPC_first_second_tuning, percentile=95)\n",
    "PPC_odd_even_cells_95 = pursuit.tuning.get_significant_cells(PPC_odd_even_tuning, percentile=95)"
   ]
  },
  {
   "cell_type": "code",
   "execution_count": null,
   "id": "25",
   "metadata": {},
   "outputs": [],
   "source": [
    "#plot null distribution of spearman r values above the 95th percentile for significant cells\n",
    "#function takes a tuning epoch df, sig cell list \n",
    "\n",
    "pursuit.tuning.plot_null_dist(RSC_odd_even_tuning, neurons=RSC_first_second_cells_95)"
   ]
  },
  {
   "cell_type": "code",
   "execution_count": null,
   "id": "26",
   "metadata": {},
   "outputs": [],
   "source": [
    "#plot null distribution of spearman r values above the 95th percentile for significant cells\n",
    "pursuit.tuning.plot_null_dist(PPC_odd_even_tuning, neurons=PPC_first_second_cells_95)"
   ]
  },
  {
   "cell_type": "markdown",
   "id": "27",
   "metadata": {},
   "source": [
    "# Plot tuning curves for the significant cells."
   ]
  },
  {
   "cell_type": "code",
   "execution_count": null,
   "id": "28",
   "metadata": {},
   "outputs": [],
   "source": [
    "#plot tuning heatmap for significant RSC neurons\n",
    "#function takes the cleaned raw data df, circle boundary df, sig cell list, percentile, smoothing window, exclude_r value (which distances from the center to exclude, and optional plot title)\n",
    "\n",
    "RSC_df_sorted, RSC_df_binned = pursuit.tuning.sig_cells_heatmap(RSC_cleaned, RSC_circle_boundaries, RSC_odd_even_cells_95, percentile=95, smoothing_window=3, exclude_r=10, plot_title=\"RSC Max-scored Spike Activity (>95th percentile)\")"
   ]
  },
  {
   "cell_type": "code",
   "execution_count": null,
   "id": "29",
   "metadata": {},
   "outputs": [],
   "source": [
    "#plot tuning heatmap for significant PPC neurons\n",
    "#function takes the cleaned raw data df, circle boundary df, sig cell list, percentile, smoothing window, exclude_r value (which distances from the center to exclude, and optional plot title)\n",
    "\n",
    "PPC_df_sorted, PPC_df_binned = pursuit.tuning.sig_cells_heatmap(PPC_cleaned, PPC_circle_boundaries, PPC_odd_even_cells_95, percentile=95, smoothing_window=3, exclude_r=10, plot_title=\"PPC Max-scored Spike Activity (>95th percentile)\")"
   ]
  },
  {
   "cell_type": "code",
   "execution_count": null,
   "id": "30",
   "metadata": {},
   "outputs": [],
   "source": [
    "#plot the proportion of neurons that peaked in each bin\n",
    "pursuit.tuning.plot_peaks_by_bin(PPC_df_sorted, RSC_df_sorted, title=\"PPC and RSC peak bin per neuron\")"
   ]
  },
  {
   "cell_type": "code",
   "execution_count": null,
   "id": "31",
   "metadata": {},
   "outputs": [],
   "source": [
    "#plot individual significant RSC cell tuning curves\n",
    "\n",
    "pursuit.tuning.plot_sig_tuning_curves(RSC_cleaned, RSC_circle_boundaries, RSC_odd_even_cells_95, percentile=95, exclude_r=10, smoothing_window=3)"
   ]
  },
  {
   "cell_type": "code",
   "execution_count": null,
   "id": "1b79f7d0",
   "metadata": {},
   "outputs": [],
   "source": [
    "#plot individual significant PPC cell tuning curves\n",
    "\n",
    "pursuit.tuning.plot_sig_tuning_curves(PPC_cleaned, PPC_circle_boundaries, PPC_odd_even_cells_95, percentile=95, exclude_r=10, smoothing_window=3)"
   ]
  },
  {
   "cell_type": "code",
   "execution_count": null,
   "id": "28345ef9",
   "metadata": {},
   "outputs": [],
   "source": [
    "#plot mean tuning curve for significant RSC cells with SEM \n",
    "\n",
    "pursuit.tuning.plot_mean_tuning_curve(RSC_cleaned, RSC_circle_boundaries, RSC_odd_even_cells_95, percentile=95, smoothing_window=3, exclude_r=10, region=\"RSC\")"
   ]
  },
  {
   "cell_type": "code",
   "execution_count": null,
   "id": "bf2eacf0",
   "metadata": {},
   "outputs": [],
   "source": [
    "#plot mean tuning curve for significant PPC cells with SEM \n",
    "\n",
    "pursuit.tuning.plot_mean_tuning_curve(PPC_cleaned, PPC_circle_boundaries, PPC_odd_even_cells_95, percentile=95, smoothing_window=3, exclude_r=10, region=\"PPC\")"
   ]
  },
  {
   "cell_type": "code",
   "execution_count": null,
   "id": "78de3b74",
   "metadata": {},
   "outputs": [],
   "source": []
  }
 ],
 "metadata": {
  "kernelspec": {
   "display_name": "pursuit",
   "language": "python",
   "name": "python3"
  },
  "language_info": {
   "codemirror_mode": {
    "name": "ipython",
    "version": 3
   },
   "file_extension": ".py",
   "mimetype": "text/x-python",
   "name": "python",
   "nbconvert_exporter": "python",
   "pygments_lexer": "ipython3",
   "version": "3.13.2"
  }
 },
 "nbformat": 4,
 "nbformat_minor": 5
}
