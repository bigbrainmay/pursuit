{
 "cells": [
  {
   "cell_type": "code",
   "execution_count": 1,
   "id": "0",
   "metadata": {},
   "outputs": [],
   "source": [
    "#import packages and functions\n",
    "\n",
    "%load_ext autoreload\n",
    "%autoreload 2\n",
    "\n",
    "import pursuit_functions as pursuit\n",
    "    \n",
    "import pandas as pd\n",
    "import numpy as np\n",
    "import polars as pl\n",
    "from itertools import product\n",
    "import matplotlib.pyplot as plt\n",
    "import seaborn as sns\n",
    "from tqdm import tqdm \n",
    "from numba import njit\n",
    "\n",
    "from scipy import stats\n",
    "from sklearn.decomposition import PCA\n",
    "from xgboost import XGBClassifier\n",
    "from sklearn.neighbors import KNeighborsClassifier\n",
    "\n",
    "from sklearn.model_selection import cross_val_score\n",
    "from sklearn.preprocessing import StandardScaler\n",
    "from sklearn.utils import resample\n",
    "from sklearn.metrics import accuracy_score, confusion_matrix, ConfusionMatrixDisplay"
   ]
  },
  {
   "cell_type": "code",
   "execution_count": null,
   "id": "1",
   "metadata": {},
   "outputs": [],
   "source": [
    "#load data set\n",
    "\n",
    "#all_pursuit_tasks = pd.read_parquet(\"ca1_ca3_rsc_pursuit_data.parquet\", engine=\"pyarrow\")"
   ]
  },
  {
   "cell_type": "code",
   "execution_count": 4,
   "id": "2",
   "metadata": {},
   "outputs": [],
   "source": [
    "#load data sets\n",
    "\n",
    "RSC_tasks = pd.read_parquet(\"RSC_sessions.parquet\", engine=\"pyarrow\")\n",
    "PPC_tasks = pd.read_parquet(\"PPC_sessions.parquet\", engine=\"pyarrow\")"
   ]
  },
  {
   "cell_type": "markdown",
   "id": "3",
   "metadata": {},
   "source": [
    "# Normalize points and find circle boundaries."
   ]
  },
  {
   "cell_type": "code",
   "execution_count": 5,
   "id": "4",
   "metadata": {},
   "outputs": [],
   "source": [
    "#get all coordinate values below 99th percentile and normalize points for all regions \n",
    "\n",
    "#normalized_sessions = pursuit.tuning.normalize_points(all_pursuit_tasks)\n",
    "RSC_norm_sessions = pursuit.tuning.normalize_points(RSC_tasks)\n",
    "PPC_norm_sessions = pursuit.tuning.normalize_points(PPC_tasks)"
   ]
  },
  {
   "cell_type": "code",
   "execution_count": 6,
   "id": "5",
   "metadata": {},
   "outputs": [
    {
     "name": "stdout",
     "output_type": "stream",
     "text": [
      "60.59943392406157\n",
      "60.94173773808301\n"
     ]
    }
   ],
   "source": [
    "#find the mean center and overall radius of the arena for all normalized data points\n",
    "#you can specify the percentile value to be considered for the overall radius; default is 95th percentile\n",
    "#calculates the individual center point for each session\n",
    "\n",
    "#circle_boundaries, radius = pursuit.tuning.fit_circle_bounds(normalized_sessions)\n",
    "#print(radius)\n",
    "\n",
    "RSC_circle_boundaries, RSC_radius = pursuit.tuning.fit_circle_bounds(RSC_norm_sessions)\n",
    "PPC_circle_boundaries, PPC_radius = pursuit.tuning.fit_circle_bounds(PPC_norm_sessions)\n",
    "print(RSC_radius)\n",
    "print(PPC_radius)"
   ]
  },
  {
   "cell_type": "code",
   "execution_count": 7,
   "id": "6",
   "metadata": {},
   "outputs": [],
   "source": [
    "#find circumference points for plotting using the center coordinates and overall radius\n",
    "#all_circ_points = pursuit.tuning.circumference(circle_boundaries)\n",
    "\n",
    "RSC_circ_points = pursuit.tuning.circumference(RSC_circle_boundaries)\n",
    "PPC_circ_points = pursuit.tuning.circumference(PPC_circle_boundaries)"
   ]
  },
  {
   "cell_type": "markdown",
   "id": "7",
   "metadata": {},
   "source": [
    "# Plot the laser coordinates and boundaries."
   ]
  },
  {
   "cell_type": "code",
   "execution_count": null,
   "id": "8",
   "metadata": {},
   "outputs": [],
   "source": [
    "#plot normalized concatenated laser and rat paths with center point and boundary\n",
    "#the function takes the normalized_sessions, circle_boundaries, and all_circ_points dataframes\n",
    "\n",
    "#pursuit.tuning.plot_arena_bounds(normalized_sessions, circle_boundaries, all_circ_points)\n",
    "\n",
    "#pursuit.tuning.plot_arena_bounds(RSC_norm_sessions, RSC_circle_boundaries, RSC_circ_points)\n",
    "\n",
    "pursuit.tuning.plot_arena_bounds(PPC_norm_sessions, PPC_circle_boundaries, PPC_circ_points)"
   ]
  },
  {
   "cell_type": "markdown",
   "id": "9",
   "metadata": {},
   "source": [
    "# Clean data and pull spike data."
   ]
  },
  {
   "cell_type": "code",
   "execution_count": null,
   "id": "10",
   "metadata": {},
   "outputs": [],
   "source": [
    "# obtain region-specific sessions\n",
    "#RSC_sessions = all_pursuit_tasks[all_pursuit_tasks[\"region\"] == \"RSC\"]\n",
    "#CA1_sessions = all_pursuit_tasks[all_pursuit_tasks[\"region\"] == \"CA1\"]\n",
    "#CA3_sessions = all_pursuit_tasks[all_pursuit_tasks[\"region\"] == \"CA3\"]\n",
    "\n"
   ]
  },
  {
   "cell_type": "code",
   "execution_count": 8,
   "id": "11",
   "metadata": {},
   "outputs": [],
   "source": [
    "#obtain trial block-specific sessions\n",
    "\n",
    "#RSC_pursuit = RSC_sessions[RSC_sessions[\"trial_block\"] == \"pursuit\"]\n",
    "#CA1_pursuit = CA1_sessions[CA1_sessions[\"trial_block\"] == \"pursuit\"]\n",
    "#CA3_pursuit = CA3_sessions[CA3_sessions[\"trial_block\"] == \"pursuit\"]\n",
    "\n",
    "RSC_pursuit = RSC_tasks[RSC_tasks[\"block\"] == \"pursuit\"]\n",
    "PPC_pursuit = PPC_tasks[PPC_tasks[\"block\"] == \"pursuit\"]"
   ]
  },
  {
   "cell_type": "code",
   "execution_count": 9,
   "id": "12",
   "metadata": {},
   "outputs": [],
   "source": [
    "#drop NA values for RSC, CA1, and CA3 sessions\n",
    "\n",
    "#RSC_cleaned = pursuit.tuning.drop_NA_vals(RSC_pursuit)\n",
    "#CA1_cleaned = pursuit.tuning.drop_NA_vals(CA1_pursuit)\n",
    "#CA3_cleaned = pursuit.tuning.drop_NA_vals(CA3_pursuit)\n",
    "\n",
    "RSC_cleaned = pursuit.tuning.drop_NA_vals(RSC_pursuit)\n",
    "PPC_cleaned = pursuit.tuning.drop_NA_vals(PPC_pursuit)"
   ]
  },
  {
   "cell_type": "code",
   "execution_count": null,
   "id": "13",
   "metadata": {},
   "outputs": [],
   "source": [
    "PPC_cleaned"
   ]
  },
  {
   "cell_type": "code",
   "execution_count": 28,
   "id": "170a6449",
   "metadata": {},
   "outputs": [
    {
     "data": {
      "text/plain": [
       "83986"
      ]
     },
     "execution_count": 28,
     "metadata": {},
     "output_type": "execute_result"
    }
   ],
   "source": [
    "len(PPC_cleaned[PPC_cleaned[\"sessFile\"] == \"KB20_05_pursuitRoot.mat\"])"
   ]
  },
  {
   "cell_type": "code",
   "execution_count": 16,
   "id": "c2c7c299",
   "metadata": {},
   "outputs": [
    {
     "data": {
      "text/plain": [
       "<IntegerArray>\n",
       "[0, 1, 3, 2, 4, 5, 6, 8, 7]\n",
       "Length: 9, dtype: Int16"
      ]
     },
     "execution_count": 16,
     "metadata": {},
     "output_type": "execute_result"
    }
   ],
   "source": [
    "PPC_cleaned[PPC_cleaned[\"sessFile\"] == \"KB20_05_pursuitRoot.mat\"][\"spkTable_2\"].values.unique()"
   ]
  },
  {
   "cell_type": "markdown",
   "id": "14",
   "metadata": {},
   "source": [
    "# Normalizing time for bootstrapping."
   ]
  },
  {
   "cell_type": "code",
   "execution_count": 10,
   "id": "16",
   "metadata": {},
   "outputs": [
    {
     "name": "stderr",
     "output_type": "stream",
     "text": [
      "/Users/may/Projects/pursuit/pursuit_functions/tuning.py:184: FutureWarning: The default of observed=False is deprecated and will be changed to True in a future version of pandas. Pass observed=False to retain current behavior or observed=True to adopt the future default and silence this warning.\n",
      "  df[\"rel_time\"] = df.groupby(\"sessFile\")[\"time\"].transform(lambda x: x - x.min())\n",
      "/Users/may/Projects/pursuit/pursuit_functions/tuning.py:184: FutureWarning: The default of observed=False is deprecated and will be changed to True in a future version of pandas. Pass observed=False to retain current behavior or observed=True to adopt the future default and silence this warning.\n",
      "  df[\"rel_time\"] = df.groupby(\"sessFile\")[\"time\"].transform(lambda x: x - x.min())\n"
     ]
    }
   ],
   "source": [
    "#RSC_clean_time = pursuit.tuning.normalize_time(RSC_cleaned)\n",
    "#CA1_clean_time = pursuit.tuning.normalize_time(CA1_cleaned)\n",
    "#CA3_clean_time = pursuit.tuning.normalize_time(CA3_cleaned)\n",
    "\n",
    "RSC_clean_time = pursuit.tuning.normalize_time(RSC_cleaned)\n",
    "PPC_clean_time = pursuit.tuning.normalize_time(PPC_cleaned)"
   ]
  },
  {
   "cell_type": "markdown",
   "id": "17",
   "metadata": {},
   "source": [
    "# Assigning epochs to dataframes with normalized time."
   ]
  },
  {
   "cell_type": "code",
   "execution_count": 33,
   "id": "19",
   "metadata": {},
   "outputs": [
    {
     "name": "stderr",
     "output_type": "stream",
     "text": [
      "<string>:9: FutureWarning: The default of observed=False is deprecated and will be changed to True in a future version of pandas. Pass observed=False to retain current behavior or observed=True to adopt the future default and silence this warning.\n"
     ]
    }
   ],
   "source": [
    "# for epoch_half, True:1, False:2 will result in the first half labeled as 1 (<= cutoff) and the second half labeled as 2\n",
    "# for epoch_odd_even, we take the minutes divided by 2 and find the remainder. If the remainder is 1 (odd), it will be labeled as 1 and if the remainder is 0 (even), it will be labeled as 2\n",
    "\n",
    "#RSC_clean_time_epochs = pursuit.tuning.assign_epochs(RSC_clean_time)\n",
    "#CA1_clean_time_epochs = pursuit.tuning.assign_epochs(CA1_clean_time)\n",
    "#CA3_clean_time_epochs = pursuit.tuning.assign_epochs(CA3_clean_time)\n",
    "\n",
    "#RSC_clean_time_epochs = pursuit.tuning.assign_epochs(RSC_clean_time)\n",
    "PPC_clean_time_epochs = pursuit.tuning.assign_epochs(PPC_clean_time)"
   ]
  },
  {
   "cell_type": "code",
   "execution_count": 36,
   "id": "5f4ccec0",
   "metadata": {},
   "outputs": [
    {
     "data": {
      "text/plain": [
       "({'KB09_12_pursuitRoot.mat': 3,\n",
       "  'KB09_13_pursuitRoot.mat': 2,\n",
       "  'KB09_17_pursuitRoot.mat': 6,\n",
       "  'KB09_18_pursuitRoot.mat': 11,\n",
       "  'KB09_19_pursuitRoot.mat': 6,\n",
       "  'KB09_20_pursuitRoot.mat': 1,\n",
       "  'KB09_22_pursuitRoot.mat': 1,\n",
       "  'KB09_23_pursuitRoot.mat': 1,\n",
       "  'KB09_24_pursuitRoot.mat': 1,\n",
       "  'KB09_25_pursuitRoot.mat': 1,\n",
       "  'KB09_26_pursuitRoot.mat': 1,\n",
       "  'KB10_05_pursuitRoot.mat': 3,\n",
       "  'KB10_07_pursuitRoot.mat': 1,\n",
       "  'KB10_08_pursuitRoot.mat': 4,\n",
       "  'KB19_03_pursuitRoot.mat': 4,\n",
       "  'KB19_04_pursuitRoot.mat': 6,\n",
       "  'KB19_05_pursuitRoot.mat': 9,\n",
       "  'KB19_07_pursuitRoot.mat': 13,\n",
       "  'KB19_08_pursuitRoot.mat': 13,\n",
       "  'KB19_14_pursuitRoot.mat': 6,\n",
       "  'KB19_15_pursuitRoot.mat': 9,\n",
       "  'KB19_16_pursuitRoot.mat': 11,\n",
       "  'KB19_17_pursuitRoot.mat': 10,\n",
       "  'KB19_18_pursuitRoot.mat': 10,\n",
       "  'KB19_19_pursuitRoot.mat': 10,\n",
       "  'KB19_20_pursuitRoot.mat': 10,\n",
       "  'KB19_21_pursuitRoot.mat': 10,\n",
       "  'KB19_22_pursuitRoot.mat': 8,\n",
       "  'KB19_23_pursuitRoot.mat': 8,\n",
       "  'KB19_24_pursuitRoot.mat': 6,\n",
       "  'KB19_25_pursuitRoot.mat': 8,\n",
       "  'KB19_26_pursuitRoot.mat': 11,\n",
       "  'KB19_27_pursuitRoot.mat': 3,\n",
       "  'KB19_29_pursuitRoot.mat': 1,\n",
       "  'KB19_30_pursuitRoot.mat': 5,\n",
       "  'KB19_31_pursuitRoot.mat': 3,\n",
       "  'KB19_32_pursuitRoot.mat': 4,\n",
       "  'KB19_33_pursuitRoot.mat': 3,\n",
       "  'KB19_34_pursuitRoot.mat': 3,\n",
       "  'KB19_35_pursuitRoot.mat': 4,\n",
       "  'KB19_36_pursuitRoot.mat': 4,\n",
       "  'KB19_37_pursuitRoot.mat': 2,\n",
       "  'KB20_02_pursuitRoot.mat': 1,\n",
       "  'KB20_03_pursuitRoot.mat': 4,\n",
       "  'KB20_04_pursuitRoot.mat': 3,\n",
       "  'KB20_05_pursuitRoot.mat': 7,\n",
       "  'KB20_06_pursuitRoot.mat': 4,\n",
       "  'KB20_07_pursuitRoot.mat': 3,\n",
       "  'KB20_09_pursuitRoot.mat': 8,\n",
       "  'KB20_11_pursuitRoot.mat': 2,\n",
       "  'KB20_12_pursuitRoot.mat': 3,\n",
       "  'KB20_13_pursuitRoot.mat': 2,\n",
       "  'KB20_14_pursuitRoot.mat': 3,\n",
       "  'KB20_15_pursuitRoot.mat': 3,\n",
       "  'KB20_19_pursuitRoot.mat': 2,\n",
       "  'KB20_21_pursuitRoot.mat': 4,\n",
       "  'KB20_24_pursuitRoot.mat': 1,\n",
       "  'KB20_25_pursuitRoot.mat': 1,\n",
       "  'LP06_02_pursuitRoot.mat': 12,\n",
       "  'LP06_03_pursuitRoot.mat': 2,\n",
       "  'LP06_04_pursuitRoot.mat': 2,\n",
       "  'LP06_05_pursuitRoot.mat': 3,\n",
       "  'LP06_06_pursuitRoot.mat': 3,\n",
       "  'LP06_14_pursuitRoot.mat': 10,\n",
       "  'LP06_18_pursuitRoot.mat': 8,\n",
       "  'LP06_20_pursuitRoot.mat': 5,\n",
       "  'LP06_22_pursuitRoot.mat': 5,\n",
       "  'LP06_24_pursuitRoot.mat': 5,\n",
       "  'LP06_25_pursuitRoot.mat': 2,\n",
       "  'LP06_28_pursuitRoot.mat': 4,\n",
       "  'LP06_29_pursuitRoot.mat': 9,\n",
       "  'LP06_30_pursuitRoot.mat': 6,\n",
       "  'LP06_34_pursuitRoot.mat': 2,\n",
       "  'LP06_36_pursuitRoot.mat': 2},\n",
       " 367)"
      ]
     },
     "execution_count": 36,
     "metadata": {},
     "output_type": "execute_result"
    }
   ],
   "source": [
    "count_neurons(PPC_clean_time_epochs)"
   ]
  },
  {
   "cell_type": "markdown",
   "id": "20",
   "metadata": {},
   "source": [
    "# Create concise dataframes with only sessFile, laser, epoch, spike, and relative time data."
   ]
  },
  {
   "cell_type": "code",
   "execution_count": 11,
   "id": "22",
   "metadata": {},
   "outputs": [],
   "source": [
    "#make a new df with only sessFile, laser, epoch, spike, and relative time data.\n",
    "\n",
    "#RSC_epoch_laser_spks = pursuit.tuning.epoch_laser_spks(RSC_clean_time_epochs)\n",
    "#CA1_epoch_laser_spks = pursuit.tuning.epoch_laser_spks(CA1_clean_time_epochs)\n",
    "#CA3_epoch_laser_spks = pursuit.tuning.epoch_laser_spks(CA3_clean_time_epochs)\n",
    "\n",
    "RSC_epoch_laser_spks = pursuit.tuning.epoch_laser_spks(RSC_clean_time_epochs)\n",
    "PPC_epoch_laser_spks = pursuit.tuning.epoch_laser_spks(PPC_clean_time_epochs)"
   ]
  },
  {
   "cell_type": "markdown",
   "id": "23",
   "metadata": {},
   "source": [
    "# Pull epoch halves into two data frames for tuning correlation."
   ]
  },
  {
   "cell_type": "code",
   "execution_count": 12,
   "id": "25",
   "metadata": {},
   "outputs": [],
   "source": [
    "#make separate dfs for df subsets used for tuning\n",
    "\n",
    "RSC_epoch_first_half, RSC_epoch_second_half, RSC_epoch_odd_min, RSC_epoch_even_min = pursuit.tuning.pull_epochs(RSC_epoch_laser_spks)\n",
    "PPC_epoch_first_half, PPC_epoch_second_half, PPC_epoch_odd_min, PPC_epoch_even_min = pursuit.tuning.pull_epochs(PPC_epoch_laser_spks)\n",
    "\n",
    "#CA1_epoch_first_half, CA1_epoch_second_half, CA1_epoch_odd_min, CA1_epoch_even_min = pursuit.tuning.pull_epochs(CA1_epoch_laser_spks)\n",
    "#CA3_epoch_first_half, CA3_epoch_second_half, CA3_epoch_odd_min, CA3_epoch_even_min = pursuit.tuning.pull_epochs(CA3_epoch_laser_spks)"
   ]
  },
  {
   "cell_type": "code",
   "execution_count": 30,
   "id": "d2f81268",
   "metadata": {},
   "outputs": [
    {
     "data": {
      "text/plain": [
       "30786"
      ]
     },
     "execution_count": 30,
     "metadata": {},
     "output_type": "execute_result"
    }
   ],
   "source": [
    "len(PPC_epoch_second_half[PPC_epoch_second_half[\"sessFile\"] == \"KB20_05_pursuitRoot.mat\"])"
   ]
  },
  {
   "cell_type": "code",
   "execution_count": 29,
   "id": "4d255e1d",
   "metadata": {},
   "outputs": [
    {
     "data": {
      "text/plain": [
       "51528"
      ]
     },
     "execution_count": 29,
     "metadata": {},
     "output_type": "execute_result"
    }
   ],
   "source": [
    "len(PPC_epoch_first_half[PPC_epoch_first_half[\"sessFile\"] == \"KB20_05_pursuitRoot.mat\"])"
   ]
  },
  {
   "cell_type": "markdown",
   "id": "26",
   "metadata": {},
   "source": [
    "# Bootstrapping."
   ]
  },
  {
   "cell_type": "code",
   "execution_count": 13,
   "id": "32",
   "metadata": {},
   "outputs": [
    {
     "name": "stderr",
     "output_type": "stream",
     "text": [
      "Sessions: 100%|██████████| 52/52 [00:59<00:00,  1.14s/it]\n",
      "Sessions: 100%|██████████| 52/52 [00:49<00:00,  1.04it/s]\n",
      "Sessions: 100%|██████████| 74/74 [01:37<00:00,  1.32s/it]\n",
      "Sessions: 100%|██████████| 74/74 [01:26<00:00,  1.17s/it]\n"
     ]
    }
   ],
   "source": [
    "#bootstrap sessions\n",
    "RSC_first_second_tuning = pursuit.tuning.bootstrap_all_sessions(RSC_epoch_first_half, RSC_epoch_second_half, RSC_circle_boundaries)\n",
    "RSC_odd_even_tuning = pursuit.tuning.bootstrap_all_sessions(RSC_epoch_odd_min, RSC_epoch_even_min, RSC_circle_boundaries)\n",
    "\n",
    "PPC_first_second_tuning = pursuit.tuning.bootstrap_all_sessions(PPC_epoch_first_half, PPC_epoch_second_half, PPC_circle_boundaries)\n",
    "PPC_odd_even_tuning = pursuit.tuning.bootstrap_all_sessions(PPC_epoch_odd_min, PPC_epoch_even_min, PPC_circle_boundaries)\n",
    "\n",
    "#CA1_first_second_tuning = pursuit.tuning.bootstrap_all_sessions(CA1_epoch_first_half, CA1_epoch_second_half, circle_boundaries)\n",
    "#CA1_odd_even_tuning = pursuit.tuning.bootstrap_all_sessions(CA1_epoch_odd_min, CA1_epoch_even_min, circle_boundaries)\n",
    "\n",
    "#CA3_first_second_tuning = pursuit.tuning.bootstrap_all_sessions(CA3_epoch_first_half, CA3_epoch_second_half, circle_boundaries)\n",
    "#CA3_odd_even_tuning = pursuit.tuning.bootstrap_all_sessions(CA3_epoch_odd_min, CA3_epoch_even_min, circle_boundaries)"
   ]
  },
  {
   "cell_type": "code",
   "execution_count": 35,
   "id": "29d28f0b",
   "metadata": {},
   "outputs": [
    {
     "data": {
      "application/vnd.microsoft.datawrangler.viewer.v0+json": {
       "columns": [
        {
         "name": "index",
         "rawType": "int64",
         "type": "integer"
        },
        {
         "name": "sessFile",
         "rawType": "object",
         "type": "string"
        },
        {
         "name": "neuron",
         "rawType": "object",
         "type": "string"
        },
        {
         "name": "bootstrap_iter",
         "rawType": "int64",
         "type": "integer"
        },
        {
         "name": "spearman_r",
         "rawType": "float64",
         "type": "float"
        },
        {
         "name": "p_val",
         "rawType": "float64",
         "type": "float"
        }
       ],
       "ref": "5f94b267-d12c-464c-99c6-1b96712b1a3a",
       "rows": [
        [
         "0",
         "KB10_01_pursuitRoot.mat",
         "spkTable_1",
         "0",
         "0.060150375939849614",
         "0.8011125555760907"
        ],
        [
         "1",
         "KB10_01_pursuitRoot.mat",
         "spkTable_1",
         "1",
         "-0.24360902255639094",
         "0.3006681944004437"
        ],
        [
         "2",
         "KB10_01_pursuitRoot.mat",
         "spkTable_1",
         "2",
         "0.007518796992481202",
         "0.9749025019933399"
        ],
        [
         "3",
         "KB10_01_pursuitRoot.mat",
         "spkTable_1",
         "3",
         "-0.26315789473684204",
         "0.2622871228754285"
        ],
        [
         "4",
         "KB10_01_pursuitRoot.mat",
         "spkTable_1",
         "4",
         "-0.34736842105263155",
         "0.13344922901624715"
        ],
        [
         "5",
         "KB10_01_pursuitRoot.mat",
         "spkTable_1",
         "5",
         "-0.33082706766917286",
         "0.15423604448098624"
        ],
        [
         "6",
         "KB10_01_pursuitRoot.mat",
         "spkTable_1",
         "6",
         "0.1518796992481203",
         "0.5226819111403139"
        ],
        [
         "7",
         "KB10_01_pursuitRoot.mat",
         "spkTable_1",
         "7",
         "0.19999999999999998",
         "0.39787297935196153"
        ],
        [
         "8",
         "KB10_01_pursuitRoot.mat",
         "spkTable_1",
         "8",
         "0.05864661654135337",
         "0.8059928433862233"
        ],
        [
         "9",
         "KB10_01_pursuitRoot.mat",
         "spkTable_1",
         "9",
         "-0.42556390977443603",
         "0.06138492007540436"
        ],
        [
         "10",
         "KB10_01_pursuitRoot.mat",
         "spkTable_1",
         "10",
         "0.13684210526315788",
         "0.5650957921363965"
        ],
        [
         "11",
         "KB10_01_pursuitRoot.mat",
         "spkTable_1",
         "11",
         "0.26165413533834586",
         "0.265124109510353"
        ],
        [
         "12",
         "KB10_01_pursuitRoot.mat",
         "spkTable_1",
         "12",
         "-0.2045112781954887",
         "0.38709023775567686"
        ],
        [
         "13",
         "KB10_01_pursuitRoot.mat",
         "spkTable_1",
         "13",
         "0.13984962406015036",
         "0.5564935505662203"
        ],
        [
         "14",
         "KB10_01_pursuitRoot.mat",
         "spkTable_1",
         "14",
         "-0.15789473684210525",
         "0.5061465835201627"
        ],
        [
         "15",
         "KB10_01_pursuitRoot.mat",
         "spkTable_1",
         "15",
         "0.34736842105263155",
         "0.13344922901624715"
        ],
        [
         "16",
         "KB10_01_pursuitRoot.mat",
         "spkTable_1",
         "16",
         "0.04360902255639097",
         "0.8551479470173743"
        ],
        [
         "17",
         "KB10_01_pursuitRoot.mat",
         "spkTable_1",
         "17",
         "0.35037593984962395",
         "0.12989410232900506"
        ],
        [
         "18",
         "KB10_01_pursuitRoot.mat",
         "spkTable_1",
         "18",
         "0.1744360902255639",
         "0.4620108862392819"
        ],
        [
         "19",
         "KB10_01_pursuitRoot.mat",
         "spkTable_1",
         "19",
         "-0.03308270676691729",
         "0.889875964885619"
        ],
        [
         "20",
         "KB10_01_pursuitRoot.mat",
         "spkTable_1",
         "20",
         "-0.2526315789473684",
         "0.28255005726391946"
        ],
        [
         "21",
         "KB10_01_pursuitRoot.mat",
         "spkTable_1",
         "21",
         "0.11428571428571428",
         "0.6313917305184382"
        ],
        [
         "22",
         "KB10_01_pursuitRoot.mat",
         "spkTable_1",
         "22",
         "0.1894736842105263",
         "0.42366525592686277"
        ],
        [
         "23",
         "KB10_01_pursuitRoot.mat",
         "spkTable_1",
         "23",
         "0.437593984962406",
         "0.05366144000429185"
        ],
        [
         "24",
         "KB10_01_pursuitRoot.mat",
         "spkTable_1",
         "24",
         "0.05714285714285714",
         "0.8108800461568323"
        ],
        [
         "25",
         "KB10_01_pursuitRoot.mat",
         "spkTable_1",
         "25",
         "-0.03909774436090225",
         "0.8700037043301221"
        ],
        [
         "26",
         "KB10_01_pursuitRoot.mat",
         "spkTable_1",
         "26",
         "-0.46917293233082696",
         "0.036896559181429214"
        ],
        [
         "27",
         "KB10_01_pursuitRoot.mat",
         "spkTable_1",
         "27",
         "-0.05714285714285714",
         "0.8108800461568323"
        ],
        [
         "28",
         "KB10_01_pursuitRoot.mat",
         "spkTable_1",
         "28",
         "0.5218045112781955",
         "0.01828494348209759"
        ],
        [
         "29",
         "KB10_01_pursuitRoot.mat",
         "spkTable_1",
         "29",
         "-0.07218045112781954",
         "0.7623392575365604"
        ],
        [
         "30",
         "KB10_01_pursuitRoot.mat",
         "spkTable_1",
         "30",
         "0.35639097744360904",
         "0.12298631080226882"
        ],
        [
         "31",
         "KB10_01_pursuitRoot.mat",
         "spkTable_1",
         "31",
         "0.0631578947368421",
         "0.7913733978200618"
        ],
        [
         "32",
         "KB10_01_pursuitRoot.mat",
         "spkTable_1",
         "32",
         "0.016541353383458645",
         "0.9448174502147446"
        ],
        [
         "33",
         "KB10_01_pursuitRoot.mat",
         "spkTable_1",
         "33",
         "0.019548872180451125",
         "0.9348031235214638"
        ],
        [
         "34",
         "KB10_01_pursuitRoot.mat",
         "spkTable_1",
         "34",
         "0.06616541353383458",
         "0.7816639121085741"
        ],
        [
         "35",
         "KB10_01_pursuitRoot.mat",
         "spkTable_1",
         "35",
         "0.2556390977443609",
         "0.27666444989581596"
        ],
        [
         "36",
         "KB10_01_pursuitRoot.mat",
         "spkTable_1",
         "36",
         "0.28872180451127816",
         "0.21699266668730374"
        ],
        [
         "37",
         "KB10_01_pursuitRoot.mat",
         "spkTable_1",
         "37",
         "0.08721804511278194",
         "0.7146383646582315"
        ],
        [
         "38",
         "KB10_01_pursuitRoot.mat",
         "spkTable_1",
         "38",
         "-0.10526315789473684",
         "0.6587277693915812"
        ],
        [
         "39",
         "KB10_01_pursuitRoot.mat",
         "spkTable_1",
         "39",
         "-0.3533834586466165",
         "0.12640665077932206"
        ],
        [
         "40",
         "KB10_01_pursuitRoot.mat",
         "spkTable_1",
         "40",
         "-0.38947368421052625",
         "0.08961904769837144"
        ],
        [
         "41",
         "KB10_01_pursuitRoot.mat",
         "spkTable_1",
         "41",
         "-0.29473684210526313",
         "0.20713542085215372"
        ],
        [
         "42",
         "KB10_01_pursuitRoot.mat",
         "spkTable_1",
         "42",
         "-0.625563909774436",
         "0.003178354611178857"
        ],
        [
         "43",
         "KB10_01_pursuitRoot.mat",
         "spkTable_1",
         "43",
         "-0.22105263157894736",
         "0.3489737543021465"
        ],
        [
         "44",
         "KB10_01_pursuitRoot.mat",
         "spkTable_1",
         "44",
         "0.2120300751879699",
         "0.36948599387790193"
        ],
        [
         "45",
         "KB10_01_pursuitRoot.mat",
         "spkTable_1",
         "45",
         "0.2150375939849624",
         "0.36257388702455096"
        ],
        [
         "46",
         "KB10_01_pursuitRoot.mat",
         "spkTable_1",
         "46",
         "0.13684210526315788",
         "0.5650957921363965"
        ],
        [
         "47",
         "KB10_01_pursuitRoot.mat",
         "spkTable_1",
         "47",
         "-0.10225563909774435",
         "0.66793535735332"
        ],
        [
         "48",
         "KB10_01_pursuitRoot.mat",
         "spkTable_1",
         "48",
         "-0.010526315789473682",
         "0.9648685868194993"
        ],
        [
         "49",
         "KB10_01_pursuitRoot.mat",
         "spkTable_1",
         "49",
         "-0.29172932330827067",
         "0.21202623258054837"
        ]
       ],
       "shape": {
        "columns": 5,
        "rows": 131088
       }
      },
      "text/html": [
       "<div>\n",
       "<style scoped>\n",
       "    .dataframe tbody tr th:only-of-type {\n",
       "        vertical-align: middle;\n",
       "    }\n",
       "\n",
       "    .dataframe tbody tr th {\n",
       "        vertical-align: top;\n",
       "    }\n",
       "\n",
       "    .dataframe thead th {\n",
       "        text-align: right;\n",
       "    }\n",
       "</style>\n",
       "<table border=\"1\" class=\"dataframe\">\n",
       "  <thead>\n",
       "    <tr style=\"text-align: right;\">\n",
       "      <th></th>\n",
       "      <th>sessFile</th>\n",
       "      <th>neuron</th>\n",
       "      <th>bootstrap_iter</th>\n",
       "      <th>spearman_r</th>\n",
       "      <th>p_val</th>\n",
       "    </tr>\n",
       "  </thead>\n",
       "  <tbody>\n",
       "    <tr>\n",
       "      <th>0</th>\n",
       "      <td>KB10_01_pursuitRoot.mat</td>\n",
       "      <td>spkTable_1</td>\n",
       "      <td>0</td>\n",
       "      <td>0.060150</td>\n",
       "      <td>0.801113</td>\n",
       "    </tr>\n",
       "    <tr>\n",
       "      <th>1</th>\n",
       "      <td>KB10_01_pursuitRoot.mat</td>\n",
       "      <td>spkTable_1</td>\n",
       "      <td>1</td>\n",
       "      <td>-0.243609</td>\n",
       "      <td>0.300668</td>\n",
       "    </tr>\n",
       "    <tr>\n",
       "      <th>2</th>\n",
       "      <td>KB10_01_pursuitRoot.mat</td>\n",
       "      <td>spkTable_1</td>\n",
       "      <td>2</td>\n",
       "      <td>0.007519</td>\n",
       "      <td>0.974903</td>\n",
       "    </tr>\n",
       "    <tr>\n",
       "      <th>3</th>\n",
       "      <td>KB10_01_pursuitRoot.mat</td>\n",
       "      <td>spkTable_1</td>\n",
       "      <td>3</td>\n",
       "      <td>-0.263158</td>\n",
       "      <td>0.262287</td>\n",
       "    </tr>\n",
       "    <tr>\n",
       "      <th>4</th>\n",
       "      <td>KB10_01_pursuitRoot.mat</td>\n",
       "      <td>spkTable_1</td>\n",
       "      <td>4</td>\n",
       "      <td>-0.347368</td>\n",
       "      <td>0.133449</td>\n",
       "    </tr>\n",
       "    <tr>\n",
       "      <th>...</th>\n",
       "      <td>...</td>\n",
       "      <td>...</td>\n",
       "      <td>...</td>\n",
       "      <td>...</td>\n",
       "      <td>...</td>\n",
       "    </tr>\n",
       "    <tr>\n",
       "      <th>131083</th>\n",
       "      <td>LP06_29_pursuitRoot.mat</td>\n",
       "      <td>spkTable_8</td>\n",
       "      <td>933</td>\n",
       "      <td>0.157637</td>\n",
       "      <td>0.506849</td>\n",
       "    </tr>\n",
       "    <tr>\n",
       "      <th>131084</th>\n",
       "      <td>LP06_29_pursuitRoot.mat</td>\n",
       "      <td>spkTable_9</td>\n",
       "      <td>933</td>\n",
       "      <td>-0.039112</td>\n",
       "      <td>0.869955</td>\n",
       "    </tr>\n",
       "    <tr>\n",
       "      <th>131085</th>\n",
       "      <td>LP06_29_pursuitRoot.mat</td>\n",
       "      <td>spkTable_7</td>\n",
       "      <td>934</td>\n",
       "      <td>-0.140060</td>\n",
       "      <td>0.555893</td>\n",
       "    </tr>\n",
       "    <tr>\n",
       "      <th>131086</th>\n",
       "      <td>LP06_29_pursuitRoot.mat</td>\n",
       "      <td>spkTable_8</td>\n",
       "      <td>934</td>\n",
       "      <td>-0.040678</td>\n",
       "      <td>0.864795</td>\n",
       "    </tr>\n",
       "    <tr>\n",
       "      <th>131087</th>\n",
       "      <td>LP06_29_pursuitRoot.mat</td>\n",
       "      <td>spkTable_9</td>\n",
       "      <td>934</td>\n",
       "      <td>0.446032</td>\n",
       "      <td>0.048703</td>\n",
       "    </tr>\n",
       "  </tbody>\n",
       "</table>\n",
       "<p>131088 rows × 5 columns</p>\n",
       "</div>"
      ],
      "text/plain": [
       "                       sessFile      neuron  bootstrap_iter  spearman_r  \\\n",
       "0       KB10_01_pursuitRoot.mat  spkTable_1               0    0.060150   \n",
       "1       KB10_01_pursuitRoot.mat  spkTable_1               1   -0.243609   \n",
       "2       KB10_01_pursuitRoot.mat  spkTable_1               2    0.007519   \n",
       "3       KB10_01_pursuitRoot.mat  spkTable_1               3   -0.263158   \n",
       "4       KB10_01_pursuitRoot.mat  spkTable_1               4   -0.347368   \n",
       "...                         ...         ...             ...         ...   \n",
       "131083  LP06_29_pursuitRoot.mat  spkTable_8             933    0.157637   \n",
       "131084  LP06_29_pursuitRoot.mat  spkTable_9             933   -0.039112   \n",
       "131085  LP06_29_pursuitRoot.mat  spkTable_7             934   -0.140060   \n",
       "131086  LP06_29_pursuitRoot.mat  spkTable_8             934   -0.040678   \n",
       "131087  LP06_29_pursuitRoot.mat  spkTable_9             934    0.446032   \n",
       "\n",
       "           p_val  \n",
       "0       0.801113  \n",
       "1       0.300668  \n",
       "2       0.974903  \n",
       "3       0.262287  \n",
       "4       0.133449  \n",
       "...          ...  \n",
       "131083  0.506849  \n",
       "131084  0.869955  \n",
       "131085  0.555893  \n",
       "131086  0.864795  \n",
       "131087  0.048703  \n",
       "\n",
       "[131088 rows x 5 columns]"
      ]
     },
     "execution_count": 35,
     "metadata": {},
     "output_type": "execute_result"
    }
   ],
   "source": [
    "RSC_first_second_tuning"
   ]
  },
  {
   "cell_type": "code",
   "execution_count": 34,
   "id": "4cf28836",
   "metadata": {},
   "outputs": [
    {
     "data": {
      "application/vnd.microsoft.datawrangler.viewer.v0+json": {
       "columns": [
        {
         "name": "index",
         "rawType": "int64",
         "type": "integer"
        },
        {
         "name": "sessFile",
         "rawType": "object",
         "type": "string"
        },
        {
         "name": "neuron",
         "rawType": "object",
         "type": "string"
        },
        {
         "name": "bootstrap_iter",
         "rawType": "int64",
         "type": "integer"
        },
        {
         "name": "spearman_r",
         "rawType": "float64",
         "type": "float"
        },
        {
         "name": "p_val",
         "rawType": "float64",
         "type": "float"
        }
       ],
       "ref": "d9c66ed5-6ef0-4c27-9c0b-f6b5b5d47761",
       "rows": [
        [
         "0",
         "KB10_01_pursuitRoot.mat",
         "spkTable_1",
         "0",
         "0.3969924812030075",
         "0.08307130670785144"
        ],
        [
         "1",
         "KB10_01_pursuitRoot.mat",
         "spkTable_1",
         "1",
         "-0.05263157894736842",
         "0.825581450455932"
        ],
        [
         "2",
         "KB10_01_pursuitRoot.mat",
         "spkTable_1",
         "2",
         "0.019548872180451125",
         "0.9348031235214638"
        ],
        [
         "3",
         "KB10_01_pursuitRoot.mat",
         "spkTable_1",
         "3",
         "0.0015037593984962405",
         "0.9949797739432688"
        ],
        [
         "4",
         "KB10_01_pursuitRoot.mat",
         "spkTable_1",
         "4",
         "0.26766917293233083",
         "0.2538915426582106"
        ],
        [
         "5",
         "KB10_01_pursuitRoot.mat",
         "spkTable_1",
         "5",
         "-0.14736842105263157",
         "0.5352473458918693"
        ],
        [
         "6",
         "KB10_01_pursuitRoot.mat",
         "spkTable_1",
         "6",
         "0.4270676691729323",
         "0.060376047595293976"
        ],
        [
         "7",
         "KB10_01_pursuitRoot.mat",
         "spkTable_1",
         "7",
         "-0.013533834586466165",
         "0.9548397533571387"
        ],
        [
         "8",
         "KB10_01_pursuitRoot.mat",
         "spkTable_1",
         "8",
         "-0.11127819548872178",
         "0.6404548402871415"
        ],
        [
         "9",
         "KB10_01_pursuitRoot.mat",
         "spkTable_1",
         "9",
         "-0.07368421052631578",
         "0.757528699864343"
        ],
        [
         "10",
         "KB10_01_pursuitRoot.mat",
         "spkTable_1",
         "10",
         "0.41353383458646614",
         "0.06992073829262123"
        ],
        [
         "11",
         "KB10_01_pursuitRoot.mat",
         "spkTable_1",
         "11",
         "0.37744360902255636",
         "0.10087319118710468"
        ],
        [
         "12",
         "KB10_01_pursuitRoot.mat",
         "spkTable_1",
         "12",
         "-0.06466165413533834",
         "0.7865148626867856"
        ],
        [
         "13",
         "KB10_01_pursuitRoot.mat",
         "spkTable_1",
         "13",
         "0.030075187969924807",
         "0.8998365956859304"
        ],
        [
         "14",
         "KB10_01_pursuitRoot.mat",
         "spkTable_1",
         "14",
         "0.007518796992481202",
         "0.9749025019933399"
        ],
        [
         "15",
         "KB10_01_pursuitRoot.mat",
         "spkTable_1",
         "15",
         "0.13233082706766916",
         "0.5781074593622941"
        ],
        [
         "16",
         "KB10_01_pursuitRoot.mat",
         "spkTable_1",
         "16",
         "0.23458646616541348",
         "0.3194764651496698"
        ],
        [
         "17",
         "KB10_01_pursuitRoot.mat",
         "spkTable_1",
         "17",
         "0.14285714285714285",
         "0.5479501508336087"
        ],
        [
         "18",
         "KB10_01_pursuitRoot.mat",
         "spkTable_1",
         "18",
         "0.30526315789473685",
         "0.19060938739632305"
        ],
        [
         "19",
         "KB10_01_pursuitRoot.mat",
         "spkTable_1",
         "19",
         "0.306766917293233",
         "0.18832319847855758"
        ],
        [
         "20",
         "KB10_01_pursuitRoot.mat",
         "spkTable_1",
         "20",
         "0.02706766917293233",
         "0.9098116651774512"
        ],
        [
         "21",
         "KB10_01_pursuitRoot.mat",
         "spkTable_1",
         "21",
         "-0.6541353383458646",
         "0.0017551954128432132"
        ],
        [
         "22",
         "KB10_01_pursuitRoot.mat",
         "spkTable_1",
         "22",
         "-0.4195488721804511",
         "0.065548285182185"
        ],
        [
         "23",
         "KB10_01_pursuitRoot.mat",
         "spkTable_1",
         "23",
         "-0.3233082706766917",
         "0.16438973703865015"
        ],
        [
         "24",
         "KB10_01_pursuitRoot.mat",
         "spkTable_1",
         "24",
         "-0.14285714285714285",
         "0.5479501508336087"
        ],
        [
         "25",
         "KB10_01_pursuitRoot.mat",
         "spkTable_1",
         "25",
         "-0.08270676691729321",
         "0.7288508763559796"
        ],
        [
         "26",
         "KB10_01_pursuitRoot.mat",
         "spkTable_1",
         "26",
         "0.10827067669172932",
         "0.6495672222012883"
        ],
        [
         "27",
         "KB10_01_pursuitRoot.mat",
         "spkTable_1",
         "27",
         "0.07518796992481201",
         "0.7527267095067718"
        ],
        [
         "28",
         "KB10_01_pursuitRoot.mat",
         "spkTable_1",
         "28",
         "0.29323308270676685",
         "0.2095713888030253"
        ],
        [
         "29",
         "KB10_01_pursuitRoot.mat",
         "spkTable_1",
         "29",
         "0.6571428571428571",
         "0.0016430876042342415"
        ],
        [
         "30",
         "KB10_01_pursuitRoot.mat",
         "spkTable_1",
         "30",
         "0.19097744360902258",
         "0.41992697220250474"
        ],
        [
         "31",
         "KB10_01_pursuitRoot.mat",
         "spkTable_1",
         "31",
         "0.18646616541353384",
         "0.43119491043425096"
        ],
        [
         "32",
         "KB10_01_pursuitRoot.mat",
         "spkTable_1",
         "32",
         "0.18496240601503755",
         "0.4349861436228526"
        ],
        [
         "33",
         "KB10_01_pursuitRoot.mat",
         "spkTable_1",
         "33",
         "0.007518796992481202",
         "0.9749025019933399"
        ],
        [
         "34",
         "KB10_01_pursuitRoot.mat",
         "spkTable_1",
         "34",
         "0.4015037593984962",
         "0.07931658537453377"
        ],
        [
         "35",
         "KB10_01_pursuitRoot.mat",
         "spkTable_1",
         "35",
         "0.44060150375939844",
         "0.05185183693270709"
        ],
        [
         "36",
         "KB10_01_pursuitRoot.mat",
         "spkTable_1",
         "36",
         "0.2300751879699248",
         "0.3291382464700846"
        ],
        [
         "37",
         "KB10_01_pursuitRoot.mat",
         "spkTable_1",
         "37",
         "0.4330827067669173",
         "0.05646561004225937"
        ],
        [
         "38",
         "KB10_01_pursuitRoot.mat",
         "spkTable_1",
         "38",
         "0.2902255639097744",
         "0.21449998226074232"
        ],
        [
         "39",
         "KB10_01_pursuitRoot.mat",
         "spkTable_1",
         "39",
         "-0.09473684210526315",
         "0.6911525963694354"
        ],
        [
         "40",
         "KB10_01_pursuitRoot.mat",
         "spkTable_1",
         "40",
         "-0.0037608126014236722",
         "0.9874451117594092"
        ],
        [
         "41",
         "KB10_01_pursuitRoot.mat",
         "spkTable_1",
         "41",
         "0.10075187969924812",
         "0.6725564354857818"
        ],
        [
         "42",
         "KB10_01_pursuitRoot.mat",
         "spkTable_1",
         "42",
         "0.29774436090225564",
         "0.20231998601897422"
        ],
        [
         "43",
         "KB10_01_pursuitRoot.mat",
         "spkTable_1",
         "43",
         "0.33082706766917286",
         "0.15423604448098624"
        ],
        [
         "44",
         "KB10_01_pursuitRoot.mat",
         "spkTable_1",
         "44",
         "0.20601503759398496",
         "0.3835325530925867"
        ],
        [
         "45",
         "KB10_01_pursuitRoot.mat",
         "spkTable_1",
         "45",
         "0.13233082706766916",
         "0.5781074593622941"
        ],
        [
         "46",
         "KB10_01_pursuitRoot.mat",
         "spkTable_1",
         "46",
         "-0.22406015037593985",
         "0.34228635081121406"
        ],
        [
         "47",
         "KB10_01_pursuitRoot.mat",
         "spkTable_1",
         "47",
         "0.07669172932330826",
         "0.7479334475419401"
        ],
        [
         "48",
         "KB10_01_pursuitRoot.mat",
         "spkTable_1",
         "48",
         "-0.10225563909774435",
         "0.66793535735332"
        ],
        [
         "49",
         "KB10_01_pursuitRoot.mat",
         "spkTable_1",
         "49",
         "0.04060150375939849",
         "0.8650468790077722"
        ]
       ],
       "shape": {
        "columns": 5,
        "rows": 125002
       }
      },
      "text/html": [
       "<div>\n",
       "<style scoped>\n",
       "    .dataframe tbody tr th:only-of-type {\n",
       "        vertical-align: middle;\n",
       "    }\n",
       "\n",
       "    .dataframe tbody tr th {\n",
       "        vertical-align: top;\n",
       "    }\n",
       "\n",
       "    .dataframe thead th {\n",
       "        text-align: right;\n",
       "    }\n",
       "</style>\n",
       "<table border=\"1\" class=\"dataframe\">\n",
       "  <thead>\n",
       "    <tr style=\"text-align: right;\">\n",
       "      <th></th>\n",
       "      <th>sessFile</th>\n",
       "      <th>neuron</th>\n",
       "      <th>bootstrap_iter</th>\n",
       "      <th>spearman_r</th>\n",
       "      <th>p_val</th>\n",
       "    </tr>\n",
       "  </thead>\n",
       "  <tbody>\n",
       "    <tr>\n",
       "      <th>0</th>\n",
       "      <td>KB10_01_pursuitRoot.mat</td>\n",
       "      <td>spkTable_1</td>\n",
       "      <td>0</td>\n",
       "      <td>0.396992</td>\n",
       "      <td>0.083071</td>\n",
       "    </tr>\n",
       "    <tr>\n",
       "      <th>1</th>\n",
       "      <td>KB10_01_pursuitRoot.mat</td>\n",
       "      <td>spkTable_1</td>\n",
       "      <td>1</td>\n",
       "      <td>-0.052632</td>\n",
       "      <td>0.825581</td>\n",
       "    </tr>\n",
       "    <tr>\n",
       "      <th>2</th>\n",
       "      <td>KB10_01_pursuitRoot.mat</td>\n",
       "      <td>spkTable_1</td>\n",
       "      <td>2</td>\n",
       "      <td>0.019549</td>\n",
       "      <td>0.934803</td>\n",
       "    </tr>\n",
       "    <tr>\n",
       "      <th>3</th>\n",
       "      <td>KB10_01_pursuitRoot.mat</td>\n",
       "      <td>spkTable_1</td>\n",
       "      <td>3</td>\n",
       "      <td>0.001504</td>\n",
       "      <td>0.994980</td>\n",
       "    </tr>\n",
       "    <tr>\n",
       "      <th>4</th>\n",
       "      <td>KB10_01_pursuitRoot.mat</td>\n",
       "      <td>spkTable_1</td>\n",
       "      <td>4</td>\n",
       "      <td>0.267669</td>\n",
       "      <td>0.253892</td>\n",
       "    </tr>\n",
       "    <tr>\n",
       "      <th>...</th>\n",
       "      <td>...</td>\n",
       "      <td>...</td>\n",
       "      <td>...</td>\n",
       "      <td>...</td>\n",
       "      <td>...</td>\n",
       "    </tr>\n",
       "    <tr>\n",
       "      <th>124997</th>\n",
       "      <td>LP06_29_pursuitRoot.mat</td>\n",
       "      <td>spkTable_8</td>\n",
       "      <td>857</td>\n",
       "      <td>0.315275</td>\n",
       "      <td>0.175737</td>\n",
       "    </tr>\n",
       "    <tr>\n",
       "      <th>124998</th>\n",
       "      <td>LP06_29_pursuitRoot.mat</td>\n",
       "      <td>spkTable_9</td>\n",
       "      <td>857</td>\n",
       "      <td>0.285714</td>\n",
       "      <td>0.222035</td>\n",
       "    </tr>\n",
       "    <tr>\n",
       "      <th>124999</th>\n",
       "      <td>LP06_29_pursuitRoot.mat</td>\n",
       "      <td>spkTable_7</td>\n",
       "      <td>858</td>\n",
       "      <td>-0.283133</td>\n",
       "      <td>0.226424</td>\n",
       "    </tr>\n",
       "    <tr>\n",
       "      <th>125000</th>\n",
       "      <td>LP06_29_pursuitRoot.mat</td>\n",
       "      <td>spkTable_8</td>\n",
       "      <td>858</td>\n",
       "      <td>0.155179</td>\n",
       "      <td>0.513581</td>\n",
       "    </tr>\n",
       "    <tr>\n",
       "      <th>125001</th>\n",
       "      <td>LP06_29_pursuitRoot.mat</td>\n",
       "      <td>spkTable_9</td>\n",
       "      <td>858</td>\n",
       "      <td>0.123308</td>\n",
       "      <td>0.604509</td>\n",
       "    </tr>\n",
       "  </tbody>\n",
       "</table>\n",
       "<p>125002 rows × 5 columns</p>\n",
       "</div>"
      ],
      "text/plain": [
       "                       sessFile      neuron  bootstrap_iter  spearman_r  \\\n",
       "0       KB10_01_pursuitRoot.mat  spkTable_1               0    0.396992   \n",
       "1       KB10_01_pursuitRoot.mat  spkTable_1               1   -0.052632   \n",
       "2       KB10_01_pursuitRoot.mat  spkTable_1               2    0.019549   \n",
       "3       KB10_01_pursuitRoot.mat  spkTable_1               3    0.001504   \n",
       "4       KB10_01_pursuitRoot.mat  spkTable_1               4    0.267669   \n",
       "...                         ...         ...             ...         ...   \n",
       "124997  LP06_29_pursuitRoot.mat  spkTable_8             857    0.315275   \n",
       "124998  LP06_29_pursuitRoot.mat  spkTable_9             857    0.285714   \n",
       "124999  LP06_29_pursuitRoot.mat  spkTable_7             858   -0.283133   \n",
       "125000  LP06_29_pursuitRoot.mat  spkTable_8             858    0.155179   \n",
       "125001  LP06_29_pursuitRoot.mat  spkTable_9             858    0.123308   \n",
       "\n",
       "           p_val  \n",
       "0       0.083071  \n",
       "1       0.825581  \n",
       "2       0.934803  \n",
       "3       0.994980  \n",
       "4       0.253892  \n",
       "...          ...  \n",
       "124997  0.175737  \n",
       "124998  0.222035  \n",
       "124999  0.226424  \n",
       "125000  0.513581  \n",
       "125001  0.604509  \n",
       "\n",
       "[125002 rows x 5 columns]"
      ]
     },
     "execution_count": 34,
     "metadata": {},
     "output_type": "execute_result"
    }
   ],
   "source": [
    "RSC_odd_even_tuning"
   ]
  },
  {
   "cell_type": "code",
   "execution_count": 14,
   "id": "33",
   "metadata": {},
   "outputs": [
    {
     "data": {
      "application/vnd.microsoft.datawrangler.viewer.v0+json": {
       "columns": [
        {
         "name": "index",
         "rawType": "int64",
         "type": "integer"
        },
        {
         "name": "sessFile",
         "rawType": "object",
         "type": "string"
        },
        {
         "name": "neuron",
         "rawType": "object",
         "type": "string"
        },
        {
         "name": "bootstrap_iter",
         "rawType": "int64",
         "type": "integer"
        },
        {
         "name": "spearman_r",
         "rawType": "float64",
         "type": "float"
        },
        {
         "name": "p_val",
         "rawType": "float64",
         "type": "float"
        }
       ],
       "ref": "38f1574b-6f5d-4c08-b91e-3f64bba6869e",
       "rows": [
        [
         "0",
         "KB09_12_pursuitRoot.mat",
         "spkTable_1",
         "0",
         "0.431578947368421",
         "0.05742465038435194"
        ],
        [
         "1",
         "KB09_12_pursuitRoot.mat",
         "spkTable_3",
         "0",
         "0.04962406015037594",
         "0.8354138453754828"
        ],
        [
         "2",
         "KB09_12_pursuitRoot.mat",
         "spkTable_1",
         "1",
         "0.11278195488721804",
         "0.6359170579042353"
        ],
        [
         "3",
         "KB09_12_pursuitRoot.mat",
         "spkTable_3",
         "1",
         "0.04661654135338346",
         "0.8452698052894374"
        ],
        [
         "4",
         "KB09_12_pursuitRoot.mat",
         "spkTable_1",
         "2",
         "0.13684210526315788",
         "0.5650957921363965"
        ],
        [
         "5",
         "KB09_12_pursuitRoot.mat",
         "spkTable_3",
         "2",
         "-0.06466165413533834",
         "0.7865148626867856"
        ],
        [
         "6",
         "KB09_12_pursuitRoot.mat",
         "spkTable_1",
         "3",
         "-0.04962406015037594",
         "0.8354138453754828"
        ],
        [
         "7",
         "KB09_12_pursuitRoot.mat",
         "spkTable_3",
         "3",
         "0.23458646616541348",
         "0.3194764651496698"
        ],
        [
         "8",
         "KB09_12_pursuitRoot.mat",
         "spkTable_1",
         "4",
         "0.29774436090225564",
         "0.20231998601897422"
        ],
        [
         "9",
         "KB09_12_pursuitRoot.mat",
         "spkTable_3",
         "4",
         "-0.24962406015037594",
         "0.28851258969719185"
        ],
        [
         "10",
         "KB09_12_pursuitRoot.mat",
         "spkTable_1",
         "5",
         "-0.1263157894736842",
         "0.5956535128148985"
        ],
        [
         "11",
         "KB09_12_pursuitRoot.mat",
         "spkTable_3",
         "5",
         "0.31729323308270674",
         "0.1728368864071423"
        ],
        [
         "12",
         "KB09_12_pursuitRoot.mat",
         "spkTable_1",
         "6",
         "0.018045112781954885",
         "0.9398091995407436"
        ],
        [
         "13",
         "KB09_12_pursuitRoot.mat",
         "spkTable_3",
         "6",
         "0.39999999999999997",
         "0.08055387210850923"
        ],
        [
         "14",
         "KB09_12_pursuitRoot.mat",
         "spkTable_1",
         "7",
         "0.20150375939849624",
         "0.3942605047612736"
        ],
        [
         "15",
         "KB09_12_pursuitRoot.mat",
         "spkTable_3",
         "7",
         "-0.193984962406015",
         "0.4125038246613568"
        ],
        [
         "16",
         "KB09_12_pursuitRoot.mat",
         "spkTable_1",
         "8",
         "-0.009022556390977442",
         "0.9698849998123449"
        ],
        [
         "17",
         "KB09_12_pursuitRoot.mat",
         "spkTable_3",
         "8",
         "-0.06766917293233082",
         "0.7768207117441497"
        ],
        [
         "18",
         "KB09_12_pursuitRoot.mat",
         "spkTable_1",
         "9",
         "-0.20300751879699244",
         "0.39066623935419653"
        ],
        [
         "19",
         "KB09_12_pursuitRoot.mat",
         "spkTable_3",
         "9",
         "0.312781954887218",
         "0.17936353052759138"
        ],
        [
         "20",
         "KB09_12_pursuitRoot.mat",
         "spkTable_1",
         "10",
         "-0.2150375939849624",
         "0.36257388702455096"
        ],
        [
         "21",
         "KB09_12_pursuitRoot.mat",
         "spkTable_3",
         "10",
         "0.1894736842105263",
         "0.42366525592686277"
        ],
        [
         "22",
         "KB09_12_pursuitRoot.mat",
         "spkTable_1",
         "11",
         "-0.23609022556390977",
         "0.3162939707830972"
        ],
        [
         "23",
         "KB09_12_pursuitRoot.mat",
         "spkTable_3",
         "11",
         "0.38796992481203",
         "0.0909728657975423"
        ],
        [
         "24",
         "KB09_12_pursuitRoot.mat",
         "spkTable_1",
         "12",
         "-0.12781954887218044",
         "0.5912462398946646"
        ],
        [
         "25",
         "KB09_12_pursuitRoot.mat",
         "spkTable_3",
         "12",
         "-0.3924812030075188",
         "0.08695594245899085"
        ],
        [
         "26",
         "KB09_12_pursuitRoot.mat",
         "spkTable_1",
         "13",
         "-0.2120300751879699",
         "0.36948599387790193"
        ],
        [
         "27",
         "KB09_12_pursuitRoot.mat",
         "spkTable_3",
         "13",
         "0.1894736842105263",
         "0.42366525592686277"
        ],
        [
         "28",
         "KB09_12_pursuitRoot.mat",
         "spkTable_1",
         "14",
         "-0.07969924812030074",
         "0.73837374901493"
        ],
        [
         "29",
         "KB09_12_pursuitRoot.mat",
         "spkTable_3",
         "14",
         "0.13984962406015036",
         "0.5564935505662203"
        ],
        [
         "30",
         "KB09_12_pursuitRoot.mat",
         "spkTable_1",
         "15",
         "0.16541353383458643",
         "0.4858377042773383"
        ],
        [
         "31",
         "KB09_12_pursuitRoot.mat",
         "spkTable_3",
         "15",
         "-0.156390977443609",
         "0.5102566899029022"
        ],
        [
         "32",
         "KB09_12_pursuitRoot.mat",
         "spkTable_1",
         "16",
         "0.35488721804511275",
         "0.12468812756013875"
        ],
        [
         "33",
         "KB09_12_pursuitRoot.mat",
         "spkTable_3",
         "16",
         "0.07969924812030074",
         "0.73837374901493"
        ],
        [
         "34",
         "KB09_12_pursuitRoot.mat",
         "spkTable_1",
         "17",
         "0.27368421052631575",
         "0.24296636906130623"
        ],
        [
         "35",
         "KB09_12_pursuitRoot.mat",
         "spkTable_3",
         "17",
         "0.2902255639097744",
         "0.21449998226074232"
        ],
        [
         "36",
         "KB09_12_pursuitRoot.mat",
         "spkTable_1",
         "18",
         "-0.13082706766917293",
         "0.5824730901969897"
        ],
        [
         "37",
         "KB09_12_pursuitRoot.mat",
         "spkTable_3",
         "18",
         "0.0015037593984962405",
         "0.9949797739432688"
        ],
        [
         "38",
         "KB09_12_pursuitRoot.mat",
         "spkTable_1",
         "19",
         "0.1819548872180451",
         "0.44262106677574986"
        ],
        [
         "39",
         "KB09_12_pursuitRoot.mat",
         "spkTable_3",
         "19",
         "-0.2120300751879699",
         "0.36948599387790193"
        ],
        [
         "40",
         "KB09_12_pursuitRoot.mat",
         "spkTable_1",
         "20",
         "-0.02706766917293233",
         "0.9098116651774512"
        ],
        [
         "41",
         "KB09_12_pursuitRoot.mat",
         "spkTable_3",
         "20",
         "0.21052631578947367",
         "0.3729699095048"
        ],
        [
         "42",
         "KB09_12_pursuitRoot.mat",
         "spkTable_1",
         "21",
         "-0.09924812030075188",
         "0.6771888443218218"
        ],
        [
         "43",
         "KB09_12_pursuitRoot.mat",
         "spkTable_3",
         "21",
         "0.4120300751879699",
         "0.0710472186641245"
        ],
        [
         "44",
         "KB09_12_pursuitRoot.mat",
         "spkTable_1",
         "22",
         "0.03157894736842105",
         "0.8948543863933638"
        ],
        [
         "45",
         "KB09_12_pursuitRoot.mat",
         "spkTable_3",
         "22",
         "0.312781954887218",
         "0.17936353052759138"
        ],
        [
         "46",
         "KB09_12_pursuitRoot.mat",
         "spkTable_1",
         "23",
         "0.009022556390977442",
         "0.9698849998123449"
        ],
        [
         "47",
         "KB09_12_pursuitRoot.mat",
         "spkTable_3",
         "23",
         "0.1639097744360902",
         "0.4898669433807742"
        ],
        [
         "48",
         "KB09_12_pursuitRoot.mat",
         "spkTable_1",
         "24",
         "0.47368421052631576",
         "0.034879991379496524"
        ],
        [
         "49",
         "KB09_12_pursuitRoot.mat",
         "spkTable_3",
         "24",
         "-0.16992481203007515",
         "0.47384906489411216"
        ]
       ],
       "shape": {
        "columns": 5,
        "rows": 348083
       }
      },
      "text/html": [
       "<div>\n",
       "<style scoped>\n",
       "    .dataframe tbody tr th:only-of-type {\n",
       "        vertical-align: middle;\n",
       "    }\n",
       "\n",
       "    .dataframe tbody tr th {\n",
       "        vertical-align: top;\n",
       "    }\n",
       "\n",
       "    .dataframe thead th {\n",
       "        text-align: right;\n",
       "    }\n",
       "</style>\n",
       "<table border=\"1\" class=\"dataframe\">\n",
       "  <thead>\n",
       "    <tr style=\"text-align: right;\">\n",
       "      <th></th>\n",
       "      <th>sessFile</th>\n",
       "      <th>neuron</th>\n",
       "      <th>bootstrap_iter</th>\n",
       "      <th>spearman_r</th>\n",
       "      <th>p_val</th>\n",
       "    </tr>\n",
       "  </thead>\n",
       "  <tbody>\n",
       "    <tr>\n",
       "      <th>0</th>\n",
       "      <td>KB09_12_pursuitRoot.mat</td>\n",
       "      <td>spkTable_1</td>\n",
       "      <td>0</td>\n",
       "      <td>0.431579</td>\n",
       "      <td>0.057425</td>\n",
       "    </tr>\n",
       "    <tr>\n",
       "      <th>1</th>\n",
       "      <td>KB09_12_pursuitRoot.mat</td>\n",
       "      <td>spkTable_3</td>\n",
       "      <td>0</td>\n",
       "      <td>0.049624</td>\n",
       "      <td>0.835414</td>\n",
       "    </tr>\n",
       "    <tr>\n",
       "      <th>2</th>\n",
       "      <td>KB09_12_pursuitRoot.mat</td>\n",
       "      <td>spkTable_1</td>\n",
       "      <td>1</td>\n",
       "      <td>0.112782</td>\n",
       "      <td>0.635917</td>\n",
       "    </tr>\n",
       "    <tr>\n",
       "      <th>3</th>\n",
       "      <td>KB09_12_pursuitRoot.mat</td>\n",
       "      <td>spkTable_3</td>\n",
       "      <td>1</td>\n",
       "      <td>0.046617</td>\n",
       "      <td>0.845270</td>\n",
       "    </tr>\n",
       "    <tr>\n",
       "      <th>4</th>\n",
       "      <td>KB09_12_pursuitRoot.mat</td>\n",
       "      <td>spkTable_1</td>\n",
       "      <td>2</td>\n",
       "      <td>0.136842</td>\n",
       "      <td>0.565096</td>\n",
       "    </tr>\n",
       "    <tr>\n",
       "      <th>...</th>\n",
       "      <td>...</td>\n",
       "      <td>...</td>\n",
       "      <td>...</td>\n",
       "      <td>...</td>\n",
       "      <td>...</td>\n",
       "    </tr>\n",
       "    <tr>\n",
       "      <th>348078</th>\n",
       "      <td>LP06_36_pursuitRoot.mat</td>\n",
       "      <td>spkTable_2</td>\n",
       "      <td>938</td>\n",
       "      <td>0.105719</td>\n",
       "      <td>0.657338</td>\n",
       "    </tr>\n",
       "    <tr>\n",
       "      <th>348079</th>\n",
       "      <td>LP06_36_pursuitRoot.mat</td>\n",
       "      <td>spkTable_1</td>\n",
       "      <td>939</td>\n",
       "      <td>0.030839</td>\n",
       "      <td>0.897307</td>\n",
       "    </tr>\n",
       "    <tr>\n",
       "      <th>348080</th>\n",
       "      <td>LP06_36_pursuitRoot.mat</td>\n",
       "      <td>spkTable_2</td>\n",
       "      <td>939</td>\n",
       "      <td>0.146351</td>\n",
       "      <td>0.538101</td>\n",
       "    </tr>\n",
       "    <tr>\n",
       "      <th>348081</th>\n",
       "      <td>LP06_36_pursuitRoot.mat</td>\n",
       "      <td>spkTable_1</td>\n",
       "      <td>940</td>\n",
       "      <td>0.482136</td>\n",
       "      <td>0.031334</td>\n",
       "    </tr>\n",
       "    <tr>\n",
       "      <th>348082</th>\n",
       "      <td>LP06_36_pursuitRoot.mat</td>\n",
       "      <td>spkTable_2</td>\n",
       "      <td>940</td>\n",
       "      <td>0.034612</td>\n",
       "      <td>0.884815</td>\n",
       "    </tr>\n",
       "  </tbody>\n",
       "</table>\n",
       "<p>348083 rows × 5 columns</p>\n",
       "</div>"
      ],
      "text/plain": [
       "                       sessFile      neuron  bootstrap_iter  spearman_r  \\\n",
       "0       KB09_12_pursuitRoot.mat  spkTable_1               0    0.431579   \n",
       "1       KB09_12_pursuitRoot.mat  spkTable_3               0    0.049624   \n",
       "2       KB09_12_pursuitRoot.mat  spkTable_1               1    0.112782   \n",
       "3       KB09_12_pursuitRoot.mat  spkTable_3               1    0.046617   \n",
       "4       KB09_12_pursuitRoot.mat  spkTable_1               2    0.136842   \n",
       "...                         ...         ...             ...         ...   \n",
       "348078  LP06_36_pursuitRoot.mat  spkTable_2             938    0.105719   \n",
       "348079  LP06_36_pursuitRoot.mat  spkTable_1             939    0.030839   \n",
       "348080  LP06_36_pursuitRoot.mat  spkTable_2             939    0.146351   \n",
       "348081  LP06_36_pursuitRoot.mat  spkTable_1             940    0.482136   \n",
       "348082  LP06_36_pursuitRoot.mat  spkTable_2             940    0.034612   \n",
       "\n",
       "           p_val  \n",
       "0       0.057425  \n",
       "1       0.835414  \n",
       "2       0.635917  \n",
       "3       0.845270  \n",
       "4       0.565096  \n",
       "...          ...  \n",
       "348078  0.657338  \n",
       "348079  0.897307  \n",
       "348080  0.538101  \n",
       "348081  0.031334  \n",
       "348082  0.884815  \n",
       "\n",
       "[348083 rows x 5 columns]"
      ]
     },
     "execution_count": 14,
     "metadata": {},
     "output_type": "execute_result"
    }
   ],
   "source": [
    "PPC_first_second_tuning"
   ]
  },
  {
   "cell_type": "code",
   "execution_count": 15,
   "id": "34",
   "metadata": {},
   "outputs": [
    {
     "data": {
      "application/vnd.microsoft.datawrangler.viewer.v0+json": {
       "columns": [
        {
         "name": "index",
         "rawType": "int64",
         "type": "integer"
        },
        {
         "name": "sessFile",
         "rawType": "object",
         "type": "string"
        },
        {
         "name": "neuron",
         "rawType": "object",
         "type": "string"
        },
        {
         "name": "bootstrap_iter",
         "rawType": "int64",
         "type": "integer"
        },
        {
         "name": "spearman_r",
         "rawType": "float64",
         "type": "float"
        },
        {
         "name": "p_val",
         "rawType": "float64",
         "type": "float"
        }
       ],
       "ref": "bc0baa5b-edea-406f-89d3-419982e21cff",
       "rows": [
        [
         "0",
         "KB09_12_pursuitRoot.mat",
         "spkTable_1",
         "0",
         "-0.07518796992481201",
         "0.7527267095067718"
        ],
        [
         "1",
         "KB09_12_pursuitRoot.mat",
         "spkTable_2",
         "0",
         "0.10418326261503831",
         "0.662028539858512"
        ],
        [
         "2",
         "KB09_12_pursuitRoot.mat",
         "spkTable_3",
         "0",
         "0.12561114088755065",
         "0.5977234210548006"
        ],
        [
         "3",
         "KB09_12_pursuitRoot.mat",
         "spkTable_1",
         "1",
         "-0.10526315789473684",
         "0.6587277693915812"
        ],
        [
         "4",
         "KB09_12_pursuitRoot.mat",
         "spkTable_2",
         "1",
         "0.1186893108788849",
         "0.6182127150849761"
        ],
        [
         "5",
         "KB09_12_pursuitRoot.mat",
         "spkTable_3",
         "1",
         "-0.25648741941709446",
         "0.2750182284387283"
        ],
        [
         "6",
         "KB09_12_pursuitRoot.mat",
         "spkTable_1",
         "2",
         "-0.13233082706766916",
         "0.5781074593622941"
        ],
        [
         "7",
         "KB09_12_pursuitRoot.mat",
         "spkTable_2",
         "2",
         "0.05617960714933885",
         "0.8140141540860334"
        ],
        [
         "8",
         "KB09_12_pursuitRoot.mat",
         "spkTable_3",
         "2",
         "-0.21436631828114935",
         "0.3641102095357407"
        ],
        [
         "9",
         "KB09_12_pursuitRoot.mat",
         "spkTable_1",
         "3",
         "-0.08270676691729321",
         "0.7288508763559796"
        ],
        [
         "10",
         "KB09_12_pursuitRoot.mat",
         "spkTable_2",
         "3",
         "-0.34174530655881186",
         "0.14027964602341325"
        ],
        [
         "11",
         "KB09_12_pursuitRoot.mat",
         "spkTable_3",
         "3",
         "0.11926260346124903",
         "0.6165050924332938"
        ],
        [
         "12",
         "KB09_12_pursuitRoot.mat",
         "spkTable_1",
         "4",
         "-0.009022556390977442",
         "0.9698849998123449"
        ],
        [
         "13",
         "KB09_12_pursuitRoot.mat",
         "spkTable_2",
         "4",
         "0.052436927074914416",
         "0.826217080129709"
        ],
        [
         "14",
         "KB09_12_pursuitRoot.mat",
         "spkTable_3",
         "4",
         "0.0458819137373688",
         "0.8476806823268924"
        ],
        [
         "15",
         "KB09_12_pursuitRoot.mat",
         "spkTable_1",
         "5",
         "-0.1263157894736842",
         "0.5956535128148985"
        ],
        [
         "16",
         "KB09_12_pursuitRoot.mat",
         "spkTable_2",
         "5",
         "0.14796600756234315",
         "0.5335749095132136"
        ],
        [
         "17",
         "KB09_12_pursuitRoot.mat",
         "spkTable_3",
         "5",
         "0.365550984858381",
         "0.1129764144687819"
        ],
        [
         "18",
         "KB09_12_pursuitRoot.mat",
         "spkTable_1",
         "6",
         "0.09022556390977443",
         "0.7052130308607131"
        ],
        [
         "19",
         "KB09_12_pursuitRoot.mat",
         "spkTable_2",
         "6",
         "-0.11896358330318633",
         "0.6173955250024418"
        ],
        [
         "20",
         "KB09_12_pursuitRoot.mat",
         "spkTable_3",
         "6",
         "0.3384731341281305",
         "0.14436551726709304"
        ],
        [
         "21",
         "KB09_12_pursuitRoot.mat",
         "spkTable_1",
         "7",
         "0.07368421052631578",
         "0.757528699864343"
        ],
        [
         "22",
         "KB09_12_pursuitRoot.mat",
         "spkTable_2",
         "7",
         "-0.12862066750225934",
         "0.5889039012087119"
        ],
        [
         "23",
         "KB09_12_pursuitRoot.mat",
         "spkTable_3",
         "7",
         "-0.16021061682064844",
         "0.49984806651858116"
        ],
        [
         "24",
         "KB09_12_pursuitRoot.mat",
         "spkTable_1",
         "8",
         "0.06917293233082707",
         "0.7719854265259412"
        ],
        [
         "25",
         "KB09_12_pursuitRoot.mat",
         "spkTable_2",
         "8",
         "-0.33223645774878274",
         "0.1523823520585671"
        ],
        [
         "26",
         "KB09_12_pursuitRoot.mat",
         "spkTable_3",
         "8",
         "-0.29033473282990746",
         "0.21431975756473076"
        ],
        [
         "27",
         "KB09_12_pursuitRoot.mat",
         "spkTable_1",
         "9",
         "0.003007518796992481",
         "0.9899597295184989"
        ],
        [
         "28",
         "KB09_12_pursuitRoot.mat",
         "spkTable_2",
         "9",
         "0.03620359643394727",
         "0.8795566484070322"
        ],
        [
         "29",
         "KB09_12_pursuitRoot.mat",
         "spkTable_3",
         "9",
         "-0.17374954218577365",
         "0.46380267903271566"
        ],
        [
         "30",
         "KB09_12_pursuitRoot.mat",
         "spkTable_1",
         "10",
         "0.28120300751879695",
         "0.22974103217104477"
        ],
        [
         "31",
         "KB09_12_pursuitRoot.mat",
         "spkTable_2",
         "10",
         "-0.1379647111918897",
         "0.5618780391460516"
        ],
        [
         "32",
         "KB09_12_pursuitRoot.mat",
         "spkTable_3",
         "10",
         "0.3550207095743947",
         "0.12453637946191343"
        ],
        [
         "33",
         "KB09_12_pursuitRoot.mat",
         "spkTable_1",
         "11",
         "0.156390977443609",
         "0.5102566899029022"
        ],
        [
         "34",
         "KB09_12_pursuitRoot.mat",
         "spkTable_2",
         "11",
         "-0.0669471787899248",
         "0.7791450809777145"
        ],
        [
         "35",
         "KB09_12_pursuitRoot.mat",
         "spkTable_3",
         "11",
         "0.13915006625267587",
         "0.5584892394017351"
        ],
        [
         "36",
         "KB09_12_pursuitRoot.mat",
         "spkTable_1",
         "12",
         "0.19248120300751878",
         "0.4162064734197989"
        ],
        [
         "37",
         "KB09_12_pursuitRoot.mat",
         "spkTable_2",
         "12",
         "0.21540104484852654",
         "0.3617436215517952"
        ],
        [
         "38",
         "KB09_12_pursuitRoot.mat",
         "spkTable_3",
         "12",
         "0.05942083910249402",
         "0.8034793139066475"
        ],
        [
         "39",
         "KB09_12_pursuitRoot.mat",
         "spkTable_1",
         "13",
         "0.24812030075187969",
         "0.291522687103458"
        ],
        [
         "40",
         "KB09_12_pursuitRoot.mat",
         "spkTable_2",
         "13",
         "-0.2508300769907101",
         "0.28611237484067836"
        ],
        [
         "41",
         "KB09_12_pursuitRoot.mat",
         "spkTable_3",
         "13",
         "0.29259122039076174",
         "0.2106168997531179"
        ],
        [
         "42",
         "KB09_12_pursuitRoot.mat",
         "spkTable_1",
         "14",
         "0.025563909774436087",
         "0.9148041683144317"
        ],
        [
         "43",
         "KB09_12_pursuitRoot.mat",
         "spkTable_2",
         "14",
         "-0.0657215322973927",
         "0.7830950218722211"
        ],
        [
         "44",
         "KB09_12_pursuitRoot.mat",
         "spkTable_3",
         "14",
         "0.4512975121708407",
         "0.04579157520345797"
        ],
        [
         "45",
         "KB09_12_pursuitRoot.mat",
         "spkTable_1",
         "15",
         "0.2120300751879699",
         "0.36948599387790193"
        ],
        [
         "46",
         "KB09_12_pursuitRoot.mat",
         "spkTable_2",
         "15",
         "-0.4781947073908452",
         "0.032950710029873646"
        ],
        [
         "47",
         "KB09_12_pursuitRoot.mat",
         "spkTable_3",
         "15",
         "0.13839790373239116",
         "0.5606385368545207"
        ],
        [
         "48",
         "KB09_12_pursuitRoot.mat",
         "spkTable_1",
         "16",
         "0.27368421052631575",
         "0.24296636906130623"
        ],
        [
         "49",
         "KB09_12_pursuitRoot.mat",
         "spkTable_2",
         "16",
         "-0.11457373459684486",
         "0.6305264112431848"
        ]
       ],
       "shape": {
        "columns": 5,
        "rows": 330010
       }
      },
      "text/html": [
       "<div>\n",
       "<style scoped>\n",
       "    .dataframe tbody tr th:only-of-type {\n",
       "        vertical-align: middle;\n",
       "    }\n",
       "\n",
       "    .dataframe tbody tr th {\n",
       "        vertical-align: top;\n",
       "    }\n",
       "\n",
       "    .dataframe thead th {\n",
       "        text-align: right;\n",
       "    }\n",
       "</style>\n",
       "<table border=\"1\" class=\"dataframe\">\n",
       "  <thead>\n",
       "    <tr style=\"text-align: right;\">\n",
       "      <th></th>\n",
       "      <th>sessFile</th>\n",
       "      <th>neuron</th>\n",
       "      <th>bootstrap_iter</th>\n",
       "      <th>spearman_r</th>\n",
       "      <th>p_val</th>\n",
       "    </tr>\n",
       "  </thead>\n",
       "  <tbody>\n",
       "    <tr>\n",
       "      <th>0</th>\n",
       "      <td>KB09_12_pursuitRoot.mat</td>\n",
       "      <td>spkTable_1</td>\n",
       "      <td>0</td>\n",
       "      <td>-0.075188</td>\n",
       "      <td>0.752727</td>\n",
       "    </tr>\n",
       "    <tr>\n",
       "      <th>1</th>\n",
       "      <td>KB09_12_pursuitRoot.mat</td>\n",
       "      <td>spkTable_2</td>\n",
       "      <td>0</td>\n",
       "      <td>0.104183</td>\n",
       "      <td>0.662029</td>\n",
       "    </tr>\n",
       "    <tr>\n",
       "      <th>2</th>\n",
       "      <td>KB09_12_pursuitRoot.mat</td>\n",
       "      <td>spkTable_3</td>\n",
       "      <td>0</td>\n",
       "      <td>0.125611</td>\n",
       "      <td>0.597723</td>\n",
       "    </tr>\n",
       "    <tr>\n",
       "      <th>3</th>\n",
       "      <td>KB09_12_pursuitRoot.mat</td>\n",
       "      <td>spkTable_1</td>\n",
       "      <td>1</td>\n",
       "      <td>-0.105263</td>\n",
       "      <td>0.658728</td>\n",
       "    </tr>\n",
       "    <tr>\n",
       "      <th>4</th>\n",
       "      <td>KB09_12_pursuitRoot.mat</td>\n",
       "      <td>spkTable_2</td>\n",
       "      <td>1</td>\n",
       "      <td>0.118689</td>\n",
       "      <td>0.618213</td>\n",
       "    </tr>\n",
       "    <tr>\n",
       "      <th>...</th>\n",
       "      <td>...</td>\n",
       "      <td>...</td>\n",
       "      <td>...</td>\n",
       "      <td>...</td>\n",
       "      <td>...</td>\n",
       "    </tr>\n",
       "    <tr>\n",
       "      <th>330005</th>\n",
       "      <td>LP06_36_pursuitRoot.mat</td>\n",
       "      <td>spkTable_2</td>\n",
       "      <td>834</td>\n",
       "      <td>0.260150</td>\n",
       "      <td>0.267980</td>\n",
       "    </tr>\n",
       "    <tr>\n",
       "      <th>330006</th>\n",
       "      <td>LP06_36_pursuitRoot.mat</td>\n",
       "      <td>spkTable_1</td>\n",
       "      <td>835</td>\n",
       "      <td>-0.058647</td>\n",
       "      <td>0.805993</td>\n",
       "    </tr>\n",
       "    <tr>\n",
       "      <th>330007</th>\n",
       "      <td>LP06_36_pursuitRoot.mat</td>\n",
       "      <td>spkTable_2</td>\n",
       "      <td>835</td>\n",
       "      <td>0.298609</td>\n",
       "      <td>0.200950</td>\n",
       "    </tr>\n",
       "    <tr>\n",
       "      <th>330008</th>\n",
       "      <td>LP06_36_pursuitRoot.mat</td>\n",
       "      <td>spkTable_1</td>\n",
       "      <td>836</td>\n",
       "      <td>-0.566917</td>\n",
       "      <td>0.009146</td>\n",
       "    </tr>\n",
       "    <tr>\n",
       "      <th>330009</th>\n",
       "      <td>LP06_36_pursuitRoot.mat</td>\n",
       "      <td>spkTable_2</td>\n",
       "      <td>836</td>\n",
       "      <td>-0.436090</td>\n",
       "      <td>0.054584</td>\n",
       "    </tr>\n",
       "  </tbody>\n",
       "</table>\n",
       "<p>330010 rows × 5 columns</p>\n",
       "</div>"
      ],
      "text/plain": [
       "                       sessFile      neuron  bootstrap_iter  spearman_r  \\\n",
       "0       KB09_12_pursuitRoot.mat  spkTable_1               0   -0.075188   \n",
       "1       KB09_12_pursuitRoot.mat  spkTable_2               0    0.104183   \n",
       "2       KB09_12_pursuitRoot.mat  spkTable_3               0    0.125611   \n",
       "3       KB09_12_pursuitRoot.mat  spkTable_1               1   -0.105263   \n",
       "4       KB09_12_pursuitRoot.mat  spkTable_2               1    0.118689   \n",
       "...                         ...         ...             ...         ...   \n",
       "330005  LP06_36_pursuitRoot.mat  spkTable_2             834    0.260150   \n",
       "330006  LP06_36_pursuitRoot.mat  spkTable_1             835   -0.058647   \n",
       "330007  LP06_36_pursuitRoot.mat  spkTable_2             835    0.298609   \n",
       "330008  LP06_36_pursuitRoot.mat  spkTable_1             836   -0.566917   \n",
       "330009  LP06_36_pursuitRoot.mat  spkTable_2             836   -0.436090   \n",
       "\n",
       "           p_val  \n",
       "0       0.752727  \n",
       "1       0.662029  \n",
       "2       0.597723  \n",
       "3       0.658728  \n",
       "4       0.618213  \n",
       "...          ...  \n",
       "330005  0.267980  \n",
       "330006  0.805993  \n",
       "330007  0.200950  \n",
       "330008  0.009146  \n",
       "330009  0.054584  \n",
       "\n",
       "[330010 rows x 5 columns]"
      ]
     },
     "execution_count": 15,
     "metadata": {},
     "output_type": "execute_result"
    }
   ],
   "source": [
    "PPC_odd_even_tuning"
   ]
  },
  {
   "cell_type": "code",
   "execution_count": 25,
   "id": "557f0afe",
   "metadata": {},
   "outputs": [],
   "source": [
    "\n",
    "def count_n(dataframe, spk_prefix=\"spkTable\"):\n",
    "\n",
    "    group = dataframe.groupby([\"sessFile\", \"neuron\"])\n",
    "\n",
    "    total_neurons = group.size()\n",
    "\n",
    "    return total_neurons"
   ]
  },
  {
   "cell_type": "code",
   "execution_count": 35,
   "id": "ee01a495",
   "metadata": {},
   "outputs": [],
   "source": [
    "def count_neurons(dataframe, spk_prefix=\"spkTable\"):\n",
    "\n",
    "    # Create an empty dictionary to hold the counts for each session.\n",
    "    session_neuron_counts = {}\n",
    "\n",
    "    # Iterate over unique sessions.\n",
    "    for sess in dataframe[\"sessFile\"].unique():\n",
    "        # Select only rows for that session.\n",
    "        session = dataframe[dataframe[\"sessFile\"] == sess]\n",
    "        \n",
    "        # Identify spkTable columns that are not entirely NaN for this session.\n",
    "        spk_cols = [col for col in session.columns \n",
    "                    if col.startswith(spk_prefix) and not session[col].isna().all()\n",
    "        ]\n",
    "        \n",
    "        # Store the count for this session.\n",
    "        session_neuron_counts[sess] = len(spk_cols)\n",
    "\n",
    "    # Sum the counts over all sessions\n",
    "    total_neurons = sum(session_neuron_counts.values())\n",
    "\n",
    "    return session_neuron_counts, total_neurons"
   ]
  },
  {
   "cell_type": "code",
   "execution_count": 33,
   "id": "9ab3cfda",
   "metadata": {},
   "outputs": [
    {
     "data": {
      "text/plain": [
       "({'KB10_01_pursuitRoot.mat': 1,\n",
       "  'KB10_02_pursuitRoot.mat': 2,\n",
       "  'KB10_03_pursuitRoot.mat': 1,\n",
       "  'KB10_04_pursuitRoot.mat': 2,\n",
       "  'KB10_06_pursuitRoot.mat': 2,\n",
       "  'KB10_07_pursuitRoot.mat': 2,\n",
       "  'KB10_08_pursuitRoot.mat': 1,\n",
       "  'KB10_09_pursuitRoot.mat': 3,\n",
       "  'KB10_10_pursuitRoot.mat': 5,\n",
       "  'KB10_11_pursuitRoot.mat': 4,\n",
       "  'KB10_13_pursuitRoot.mat': 2,\n",
       "  'KB10_15_pursuitRoot.mat': 1,\n",
       "  'KB10_17_pursuitRoot.mat': 1,\n",
       "  'KB10_20_pursuitRoot.mat': 1,\n",
       "  'KB20_02_pursuitRoot.mat': 3,\n",
       "  'KB20_03_pursuitRoot.mat': 4,\n",
       "  'KB20_04_pursuitRoot.mat': 2,\n",
       "  'KB20_05_pursuitRoot.mat': 2,\n",
       "  'KB20_06_pursuitRoot.mat': 2,\n",
       "  'KB20_07_pursuitRoot.mat': 2,\n",
       "  'KB20_09_pursuitRoot.mat': 2,\n",
       "  'KB20_10_pursuitRoot.mat': 3,\n",
       "  'KB20_11_pursuitRoot.mat': 1,\n",
       "  'KB20_12_pursuitRoot.mat': 3,\n",
       "  'KB20_13_pursuitRoot.mat': 1,\n",
       "  'KB20_14_pursuitRoot.mat': 3,\n",
       "  'KB20_15_pursuitRoot.mat': 3,\n",
       "  'KB20_19_pursuitRoot.mat': 4,\n",
       "  'KB20_21_pursuitRoot.mat': 2,\n",
       "  'KB20_22_pursuitRoot.mat': 1,\n",
       "  'KB20_24_pursuitRoot.mat': 4,\n",
       "  'KB20_25_pursuitRoot.mat': 1,\n",
       "  'KB20_26_pursuitRoot.mat': 4,\n",
       "  'KB20_34_pursuitRoot.mat': 2,\n",
       "  'KB20_35_pursuitRoot.mat': 3,\n",
       "  'LP03_01_pursuitRoot.mat': 6,\n",
       "  'LP03_03_pursuitRoot.mat': 2,\n",
       "  'LP03_04_pursuitRoot.mat': 11,\n",
       "  'LP03_05_pursuitRoot.mat': 6,\n",
       "  'LP03_06_pursuitRoot.mat': 3,\n",
       "  'LP03_07_pursuitRoot.mat': 3,\n",
       "  'LP03_10_pursuitRoot.mat': 1,\n",
       "  'LP03_12_pursuitRoot.mat': 2,\n",
       "  'LP03_17_pursuitRoot.mat': 5,\n",
       "  'LP03_18_pursuitRoot.mat': 4,\n",
       "  'LP03_20_pursuitRoot.mat': 2,\n",
       "  'LP03_24_pursuitRoot.mat': 1,\n",
       "  'LP03_25_pursuitRoot.mat': 2,\n",
       "  'LP03_26_pursuitRoot.mat': 2,\n",
       "  'LP06_18_pursuitRoot.mat': 2,\n",
       "  'LP06_24_pursuitRoot.mat': 1,\n",
       "  'LP06_29_pursuitRoot.mat': 3},\n",
       " 136)"
      ]
     },
     "execution_count": 33,
     "metadata": {},
     "output_type": "execute_result"
    }
   ],
   "source": [
    "count_neurons(RSC_cleaned)"
   ]
  },
  {
   "cell_type": "code",
   "execution_count": 32,
   "id": "4bfca6f6",
   "metadata": {},
   "outputs": [
    {
     "data": {
      "text/plain": [
       "({'KB09_12_pursuitRoot.mat': 3,\n",
       "  'KB09_13_pursuitRoot.mat': 2,\n",
       "  'KB09_17_pursuitRoot.mat': 6,\n",
       "  'KB09_18_pursuitRoot.mat': 11,\n",
       "  'KB09_19_pursuitRoot.mat': 6,\n",
       "  'KB09_20_pursuitRoot.mat': 1,\n",
       "  'KB09_22_pursuitRoot.mat': 1,\n",
       "  'KB09_23_pursuitRoot.mat': 1,\n",
       "  'KB09_24_pursuitRoot.mat': 1,\n",
       "  'KB09_25_pursuitRoot.mat': 1,\n",
       "  'KB09_26_pursuitRoot.mat': 1,\n",
       "  'KB10_05_pursuitRoot.mat': 3,\n",
       "  'KB10_07_pursuitRoot.mat': 1,\n",
       "  'KB10_08_pursuitRoot.mat': 4,\n",
       "  'KB19_03_pursuitRoot.mat': 4,\n",
       "  'KB19_04_pursuitRoot.mat': 6,\n",
       "  'KB19_05_pursuitRoot.mat': 9,\n",
       "  'KB19_07_pursuitRoot.mat': 13,\n",
       "  'KB19_08_pursuitRoot.mat': 13,\n",
       "  'KB19_14_pursuitRoot.mat': 6,\n",
       "  'KB19_15_pursuitRoot.mat': 9,\n",
       "  'KB19_16_pursuitRoot.mat': 11,\n",
       "  'KB19_17_pursuitRoot.mat': 10,\n",
       "  'KB19_18_pursuitRoot.mat': 10,\n",
       "  'KB19_19_pursuitRoot.mat': 10,\n",
       "  'KB19_20_pursuitRoot.mat': 10,\n",
       "  'KB19_21_pursuitRoot.mat': 10,\n",
       "  'KB19_22_pursuitRoot.mat': 8,\n",
       "  'KB19_23_pursuitRoot.mat': 8,\n",
       "  'KB19_24_pursuitRoot.mat': 6,\n",
       "  'KB19_25_pursuitRoot.mat': 8,\n",
       "  'KB19_26_pursuitRoot.mat': 11,\n",
       "  'KB19_27_pursuitRoot.mat': 3,\n",
       "  'KB19_29_pursuitRoot.mat': 1,\n",
       "  'KB19_30_pursuitRoot.mat': 5,\n",
       "  'KB19_31_pursuitRoot.mat': 3,\n",
       "  'KB19_32_pursuitRoot.mat': 4,\n",
       "  'KB19_33_pursuitRoot.mat': 3,\n",
       "  'KB19_34_pursuitRoot.mat': 3,\n",
       "  'KB19_35_pursuitRoot.mat': 4,\n",
       "  'KB19_36_pursuitRoot.mat': 4,\n",
       "  'KB19_37_pursuitRoot.mat': 2,\n",
       "  'KB20_02_pursuitRoot.mat': 1,\n",
       "  'KB20_03_pursuitRoot.mat': 4,\n",
       "  'KB20_04_pursuitRoot.mat': 3,\n",
       "  'KB20_05_pursuitRoot.mat': 7,\n",
       "  'KB20_06_pursuitRoot.mat': 4,\n",
       "  'KB20_07_pursuitRoot.mat': 3,\n",
       "  'KB20_09_pursuitRoot.mat': 8,\n",
       "  'KB20_11_pursuitRoot.mat': 2,\n",
       "  'KB20_12_pursuitRoot.mat': 3,\n",
       "  'KB20_13_pursuitRoot.mat': 2,\n",
       "  'KB20_14_pursuitRoot.mat': 3,\n",
       "  'KB20_15_pursuitRoot.mat': 3,\n",
       "  'KB20_19_pursuitRoot.mat': 2,\n",
       "  'KB20_21_pursuitRoot.mat': 4,\n",
       "  'KB20_24_pursuitRoot.mat': 1,\n",
       "  'KB20_25_pursuitRoot.mat': 1,\n",
       "  'LP06_02_pursuitRoot.mat': 12,\n",
       "  'LP06_03_pursuitRoot.mat': 2,\n",
       "  'LP06_04_pursuitRoot.mat': 2,\n",
       "  'LP06_05_pursuitRoot.mat': 3,\n",
       "  'LP06_06_pursuitRoot.mat': 3,\n",
       "  'LP06_14_pursuitRoot.mat': 10,\n",
       "  'LP06_18_pursuitRoot.mat': 8,\n",
       "  'LP06_20_pursuitRoot.mat': 5,\n",
       "  'LP06_22_pursuitRoot.mat': 5,\n",
       "  'LP06_24_pursuitRoot.mat': 5,\n",
       "  'LP06_25_pursuitRoot.mat': 2,\n",
       "  'LP06_28_pursuitRoot.mat': 4,\n",
       "  'LP06_29_pursuitRoot.mat': 9,\n",
       "  'LP06_30_pursuitRoot.mat': 6,\n",
       "  'LP06_34_pursuitRoot.mat': 2,\n",
       "  'LP06_36_pursuitRoot.mat': 2},\n",
       " 367)"
      ]
     },
     "execution_count": 32,
     "metadata": {},
     "output_type": "execute_result"
    }
   ],
   "source": [
    "count_neurons(PPC_cleaned)"
   ]
  },
  {
   "cell_type": "code",
   "execution_count": 37,
   "id": "d2afb9d0",
   "metadata": {},
   "outputs": [
    {
     "data": {
      "application/vnd.microsoft.datawrangler.viewer.v0+json": {
       "columns": [
        {
         "name": "('sessFile', 'neuron')",
         "rawType": "object",
         "type": "unknown"
        },
        {
         "name": "0",
         "rawType": "int64",
         "type": "integer"
        }
       ],
       "ref": "f9438dc8-d031-4def-b8e2-c835e1366d9d",
       "rows": [
        [
         "('KB10_01_pursuitRoot.mat', 'spkTable_1')",
         "1001"
        ],
        [
         "('KB10_02_pursuitRoot.mat', 'spkTable_1')",
         "1001"
        ],
        [
         "('KB10_02_pursuitRoot.mat', 'spkTable_2')",
         "1001"
        ],
        [
         "('KB10_03_pursuitRoot.mat', 'spkTable_1')",
         "1001"
        ],
        [
         "('KB10_04_pursuitRoot.mat', 'spkTable_1')",
         "1001"
        ],
        [
         "('KB10_04_pursuitRoot.mat', 'spkTable_2')",
         "1001"
        ],
        [
         "('KB10_06_pursuitRoot.mat', 'spkTable_1')",
         "1001"
        ],
        [
         "('KB10_06_pursuitRoot.mat', 'spkTable_2')",
         "1001"
        ],
        [
         "('KB10_07_pursuitRoot.mat', 'spkTable_1')",
         "1001"
        ],
        [
         "('KB10_07_pursuitRoot.mat', 'spkTable_2')",
         "1001"
        ],
        [
         "('KB10_08_pursuitRoot.mat', 'spkTable_2')",
         "993"
        ],
        [
         "('KB10_09_pursuitRoot.mat', 'spkTable_2')",
         "881"
        ],
        [
         "('KB10_09_pursuitRoot.mat', 'spkTable_3')",
         "881"
        ],
        [
         "('KB10_09_pursuitRoot.mat', 'spkTable_4')",
         "881"
        ],
        [
         "('KB10_10_pursuitRoot.mat', 'spkTable_2')",
         "1001"
        ],
        [
         "('KB10_10_pursuitRoot.mat', 'spkTable_3')",
         "1001"
        ],
        [
         "('KB10_10_pursuitRoot.mat', 'spkTable_4')",
         "1001"
        ],
        [
         "('KB10_10_pursuitRoot.mat', 'spkTable_5')",
         "1001"
        ],
        [
         "('KB10_10_pursuitRoot.mat', 'spkTable_6')",
         "1001"
        ],
        [
         "('KB10_11_pursuitRoot.mat', 'spkTable_1')",
         "1001"
        ],
        [
         "('KB10_11_pursuitRoot.mat', 'spkTable_2')",
         "1001"
        ],
        [
         "('KB10_11_pursuitRoot.mat', 'spkTable_3')",
         "1001"
        ],
        [
         "('KB10_11_pursuitRoot.mat', 'spkTable_4')",
         "1001"
        ],
        [
         "('KB10_13_pursuitRoot.mat', 'spkTable_1')",
         "1001"
        ],
        [
         "('KB10_13_pursuitRoot.mat', 'spkTable_2')",
         "1001"
        ],
        [
         "('KB10_15_pursuitRoot.mat', 'spkTable_1')",
         "1001"
        ],
        [
         "('KB10_17_pursuitRoot.mat', 'spkTable_3')",
         "1001"
        ],
        [
         "('KB10_20_pursuitRoot.mat', 'spkTable_1')",
         "1001"
        ],
        [
         "('KB20_02_pursuitRoot.mat', 'spkTable_2')",
         "979"
        ],
        [
         "('KB20_02_pursuitRoot.mat', 'spkTable_3')",
         "979"
        ],
        [
         "('KB20_02_pursuitRoot.mat', 'spkTable_4')",
         "979"
        ],
        [
         "('KB20_03_pursuitRoot.mat', 'spkTable_5')",
         "883"
        ],
        [
         "('KB20_03_pursuitRoot.mat', 'spkTable_6')",
         "883"
        ],
        [
         "('KB20_03_pursuitRoot.mat', 'spkTable_7')",
         "883"
        ],
        [
         "('KB20_03_pursuitRoot.mat', 'spkTable_8')",
         "883"
        ],
        [
         "('KB20_04_pursuitRoot.mat', 'spkTable_4')",
         "929"
        ],
        [
         "('KB20_04_pursuitRoot.mat', 'spkTable_5')",
         "929"
        ],
        [
         "('KB20_05_pursuitRoot.mat', 'spkTable_8')",
         "1001"
        ],
        [
         "('KB20_05_pursuitRoot.mat', 'spkTable_9')",
         "1001"
        ],
        [
         "('KB20_06_pursuitRoot.mat', 'spkTable_5')",
         "935"
        ],
        [
         "('KB20_06_pursuitRoot.mat', 'spkTable_6')",
         "935"
        ],
        [
         "('KB20_07_pursuitRoot.mat', 'spkTable_4')",
         "1001"
        ],
        [
         "('KB20_07_pursuitRoot.mat', 'spkTable_5')",
         "1001"
        ],
        [
         "('KB20_09_pursuitRoot.mat', 'spkTable_10')",
         "927"
        ],
        [
         "('KB20_09_pursuitRoot.mat', 'spkTable_9')",
         "927"
        ],
        [
         "('KB20_10_pursuitRoot.mat', 'spkTable_1')",
         "1001"
        ],
        [
         "('KB20_10_pursuitRoot.mat', 'spkTable_2')",
         "1001"
        ],
        [
         "('KB20_10_pursuitRoot.mat', 'spkTable_3')",
         "1001"
        ],
        [
         "('KB20_11_pursuitRoot.mat', 'spkTable_3')",
         "909"
        ],
        [
         "('KB20_12_pursuitRoot.mat', 'spkTable_4')",
         "1001"
        ]
       ],
       "shape": {
        "columns": 1,
        "rows": 136
       }
      },
      "text/plain": [
       "sessFile                 neuron    \n",
       "KB10_01_pursuitRoot.mat  spkTable_1    1001\n",
       "KB10_02_pursuitRoot.mat  spkTable_1    1001\n",
       "                         spkTable_2    1001\n",
       "KB10_03_pursuitRoot.mat  spkTable_1    1001\n",
       "KB10_04_pursuitRoot.mat  spkTable_1    1001\n",
       "                                       ... \n",
       "LP06_18_pursuitRoot.mat  spkTable_6    1001\n",
       "LP06_24_pursuitRoot.mat  spkTable_4     985\n",
       "LP06_29_pursuitRoot.mat  spkTable_7     935\n",
       "                         spkTable_8     935\n",
       "                         spkTable_9     935\n",
       "Length: 136, dtype: int64"
      ]
     },
     "execution_count": 37,
     "metadata": {},
     "output_type": "execute_result"
    }
   ],
   "source": [
    "count_n(RSC_first_second_tuning)"
   ]
  },
  {
   "cell_type": "code",
   "execution_count": 38,
   "id": "301eb001",
   "metadata": {},
   "outputs": [
    {
     "data": {
      "application/vnd.microsoft.datawrangler.viewer.v0+json": {
       "columns": [
        {
         "name": "('sessFile', 'neuron')",
         "rawType": "object",
         "type": "unknown"
        },
        {
         "name": "0",
         "rawType": "int64",
         "type": "integer"
        }
       ],
       "ref": "0bb2f4b1-dbdf-4ac9-93e1-6df4210370d0",
       "rows": [
        [
         "('KB10_01_pursuitRoot.mat', 'spkTable_1')",
         "1001"
        ],
        [
         "('KB10_02_pursuitRoot.mat', 'spkTable_1')",
         "1001"
        ],
        [
         "('KB10_02_pursuitRoot.mat', 'spkTable_2')",
         "1001"
        ],
        [
         "('KB10_03_pursuitRoot.mat', 'spkTable_1')",
         "1001"
        ],
        [
         "('KB10_04_pursuitRoot.mat', 'spkTable_1')",
         "1001"
        ],
        [
         "('KB10_04_pursuitRoot.mat', 'spkTable_2')",
         "1001"
        ],
        [
         "('KB10_06_pursuitRoot.mat', 'spkTable_1')",
         "933"
        ],
        [
         "('KB10_06_pursuitRoot.mat', 'spkTable_2')",
         "933"
        ],
        [
         "('KB10_07_pursuitRoot.mat', 'spkTable_1')",
         "1001"
        ],
        [
         "('KB10_07_pursuitRoot.mat', 'spkTable_2')",
         "1001"
        ],
        [
         "('KB10_08_pursuitRoot.mat', 'spkTable_2')",
         "873"
        ],
        [
         "('KB10_09_pursuitRoot.mat', 'spkTable_2')",
         "881"
        ],
        [
         "('KB10_09_pursuitRoot.mat', 'spkTable_3')",
         "881"
        ],
        [
         "('KB10_09_pursuitRoot.mat', 'spkTable_4')",
         "881"
        ],
        [
         "('KB10_10_pursuitRoot.mat', 'spkTable_2')",
         "1001"
        ],
        [
         "('KB10_10_pursuitRoot.mat', 'spkTable_3')",
         "1001"
        ],
        [
         "('KB10_10_pursuitRoot.mat', 'spkTable_4')",
         "1001"
        ],
        [
         "('KB10_10_pursuitRoot.mat', 'spkTable_5')",
         "1001"
        ],
        [
         "('KB10_10_pursuitRoot.mat', 'spkTable_6')",
         "1001"
        ],
        [
         "('KB10_11_pursuitRoot.mat', 'spkTable_1')",
         "1001"
        ],
        [
         "('KB10_11_pursuitRoot.mat', 'spkTable_2')",
         "1001"
        ],
        [
         "('KB10_11_pursuitRoot.mat', 'spkTable_3')",
         "1001"
        ],
        [
         "('KB10_11_pursuitRoot.mat', 'spkTable_4')",
         "1001"
        ],
        [
         "('KB10_13_pursuitRoot.mat', 'spkTable_1')",
         "979"
        ],
        [
         "('KB10_13_pursuitRoot.mat', 'spkTable_2')",
         "979"
        ],
        [
         "('KB10_15_pursuitRoot.mat', 'spkTable_1')",
         "1001"
        ],
        [
         "('KB10_17_pursuitRoot.mat', 'spkTable_3')",
         "1001"
        ],
        [
         "('KB10_20_pursuitRoot.mat', 'spkTable_1')",
         "887"
        ],
        [
         "('KB20_02_pursuitRoot.mat', 'spkTable_2')",
         "801"
        ],
        [
         "('KB20_02_pursuitRoot.mat', 'spkTable_3')",
         "801"
        ],
        [
         "('KB20_02_pursuitRoot.mat', 'spkTable_4')",
         "801"
        ],
        [
         "('KB20_03_pursuitRoot.mat', 'spkTable_5')",
         "759"
        ],
        [
         "('KB20_03_pursuitRoot.mat', 'spkTable_6')",
         "759"
        ],
        [
         "('KB20_03_pursuitRoot.mat', 'spkTable_7')",
         "759"
        ],
        [
         "('KB20_03_pursuitRoot.mat', 'spkTable_8')",
         "759"
        ],
        [
         "('KB20_04_pursuitRoot.mat', 'spkTable_4')",
         "793"
        ],
        [
         "('KB20_04_pursuitRoot.mat', 'spkTable_5')",
         "793"
        ],
        [
         "('KB20_05_pursuitRoot.mat', 'spkTable_8')",
         "841"
        ],
        [
         "('KB20_05_pursuitRoot.mat', 'spkTable_9')",
         "841"
        ],
        [
         "('KB20_06_pursuitRoot.mat', 'spkTable_5')",
         "747"
        ],
        [
         "('KB20_06_pursuitRoot.mat', 'spkTable_6')",
         "747"
        ],
        [
         "('KB20_07_pursuitRoot.mat', 'spkTable_4')",
         "1001"
        ],
        [
         "('KB20_07_pursuitRoot.mat', 'spkTable_5')",
         "1001"
        ],
        [
         "('KB20_09_pursuitRoot.mat', 'spkTable_10')",
         "819"
        ],
        [
         "('KB20_09_pursuitRoot.mat', 'spkTable_9')",
         "819"
        ],
        [
         "('KB20_10_pursuitRoot.mat', 'spkTable_1')",
         "917"
        ],
        [
         "('KB20_10_pursuitRoot.mat', 'spkTable_2')",
         "917"
        ],
        [
         "('KB20_10_pursuitRoot.mat', 'spkTable_3')",
         "917"
        ],
        [
         "('KB20_11_pursuitRoot.mat', 'spkTable_3')",
         "799"
        ],
        [
         "('KB20_12_pursuitRoot.mat', 'spkTable_4')",
         "1001"
        ]
       ],
       "shape": {
        "columns": 1,
        "rows": 136
       }
      },
      "text/plain": [
       "sessFile                 neuron    \n",
       "KB10_01_pursuitRoot.mat  spkTable_1    1001\n",
       "KB10_02_pursuitRoot.mat  spkTable_1    1001\n",
       "                         spkTable_2    1001\n",
       "KB10_03_pursuitRoot.mat  spkTable_1    1001\n",
       "KB10_04_pursuitRoot.mat  spkTable_1    1001\n",
       "                                       ... \n",
       "LP06_18_pursuitRoot.mat  spkTable_6    1001\n",
       "LP06_24_pursuitRoot.mat  spkTable_4     941\n",
       "LP06_29_pursuitRoot.mat  spkTable_7     859\n",
       "                         spkTable_8     859\n",
       "                         spkTable_9     859\n",
       "Length: 136, dtype: int64"
      ]
     },
     "execution_count": 38,
     "metadata": {},
     "output_type": "execute_result"
    }
   ],
   "source": [
    "count_n(RSC_odd_even_tuning)"
   ]
  },
  {
   "cell_type": "code",
   "execution_count": 27,
   "id": "1e30e967",
   "metadata": {},
   "outputs": [
    {
     "data": {
      "application/vnd.microsoft.datawrangler.viewer.v0+json": {
       "columns": [
        {
         "name": "('sessFile', 'neuron')",
         "rawType": "object",
         "type": "unknown"
        },
        {
         "name": "0",
         "rawType": "int64",
         "type": "integer"
        }
       ],
       "ref": "62b82c12-9587-4266-aede-12da594e3a54",
       "rows": [
        [
         "('KB09_12_pursuitRoot.mat', 'spkTable_1')",
         "861"
        ],
        [
         "('KB09_12_pursuitRoot.mat', 'spkTable_3')",
         "861"
        ],
        [
         "('KB09_13_pursuitRoot.mat', 'spkTable_1')",
         "679"
        ],
        [
         "('KB09_13_pursuitRoot.mat', 'spkTable_2')",
         "679"
        ],
        [
         "('KB09_17_pursuitRoot.mat', 'spkTable_1')",
         "1001"
        ],
        [
         "('KB09_17_pursuitRoot.mat', 'spkTable_2')",
         "1001"
        ],
        [
         "('KB09_17_pursuitRoot.mat', 'spkTable_3')",
         "1001"
        ],
        [
         "('KB09_17_pursuitRoot.mat', 'spkTable_4')",
         "1001"
        ],
        [
         "('KB09_17_pursuitRoot.mat', 'spkTable_5')",
         "1001"
        ],
        [
         "('KB09_17_pursuitRoot.mat', 'spkTable_6')",
         "1001"
        ],
        [
         "('KB09_18_pursuitRoot.mat', 'spkTable_1')",
         "817"
        ],
        [
         "('KB09_18_pursuitRoot.mat', 'spkTable_10')",
         "817"
        ],
        [
         "('KB09_18_pursuitRoot.mat', 'spkTable_11')",
         "817"
        ],
        [
         "('KB09_18_pursuitRoot.mat', 'spkTable_2')",
         "817"
        ],
        [
         "('KB09_18_pursuitRoot.mat', 'spkTable_3')",
         "817"
        ],
        [
         "('KB09_18_pursuitRoot.mat', 'spkTable_4')",
         "817"
        ],
        [
         "('KB09_18_pursuitRoot.mat', 'spkTable_5')",
         "817"
        ],
        [
         "('KB09_18_pursuitRoot.mat', 'spkTable_6')",
         "817"
        ],
        [
         "('KB09_18_pursuitRoot.mat', 'spkTable_7')",
         "817"
        ],
        [
         "('KB09_18_pursuitRoot.mat', 'spkTable_8')",
         "817"
        ],
        [
         "('KB09_18_pursuitRoot.mat', 'spkTable_9')",
         "817"
        ],
        [
         "('KB09_19_pursuitRoot.mat', 'spkTable_1')",
         "975"
        ],
        [
         "('KB09_19_pursuitRoot.mat', 'spkTable_2')",
         "975"
        ],
        [
         "('KB09_19_pursuitRoot.mat', 'spkTable_3')",
         "975"
        ],
        [
         "('KB09_19_pursuitRoot.mat', 'spkTable_4')",
         "975"
        ],
        [
         "('KB09_19_pursuitRoot.mat', 'spkTable_5')",
         "975"
        ],
        [
         "('KB09_19_pursuitRoot.mat', 'spkTable_6')",
         "975"
        ],
        [
         "('KB09_20_pursuitRoot.mat', 'spkTable_1')",
         "1001"
        ],
        [
         "('KB09_22_pursuitRoot.mat', 'spkTable_1')",
         "713"
        ],
        [
         "('KB09_23_pursuitRoot.mat', 'spkTable_1')",
         "683"
        ],
        [
         "('KB09_24_pursuitRoot.mat', 'spkTable_1')",
         "475"
        ],
        [
         "('KB09_25_pursuitRoot.mat', 'spkTable_1')",
         "1001"
        ],
        [
         "('KB09_26_pursuitRoot.mat', 'spkTable_1')",
         "1001"
        ],
        [
         "('KB10_05_pursuitRoot.mat', 'spkTable_1')",
         "1001"
        ],
        [
         "('KB10_05_pursuitRoot.mat', 'spkTable_2')",
         "1001"
        ],
        [
         "('KB10_05_pursuitRoot.mat', 'spkTable_3')",
         "1001"
        ],
        [
         "('KB10_07_pursuitRoot.mat', 'spkTable_3')",
         "1001"
        ],
        [
         "('KB10_08_pursuitRoot.mat', 'spkTable_1')",
         "993"
        ],
        [
         "('KB10_08_pursuitRoot.mat', 'spkTable_3')",
         "993"
        ],
        [
         "('KB10_08_pursuitRoot.mat', 'spkTable_4')",
         "993"
        ],
        [
         "('KB10_08_pursuitRoot.mat', 'spkTable_5')",
         "993"
        ],
        [
         "('KB19_03_pursuitRoot.mat', 'spkTable_1')",
         "1001"
        ],
        [
         "('KB19_03_pursuitRoot.mat', 'spkTable_2')",
         "1001"
        ],
        [
         "('KB19_03_pursuitRoot.mat', 'spkTable_3')",
         "1001"
        ],
        [
         "('KB19_03_pursuitRoot.mat', 'spkTable_4')",
         "1001"
        ],
        [
         "('KB19_04_pursuitRoot.mat', 'spkTable_1')",
         "931"
        ],
        [
         "('KB19_04_pursuitRoot.mat', 'spkTable_2')",
         "931"
        ],
        [
         "('KB19_04_pursuitRoot.mat', 'spkTable_3')",
         "931"
        ],
        [
         "('KB19_04_pursuitRoot.mat', 'spkTable_4')",
         "931"
        ],
        [
         "('KB19_04_pursuitRoot.mat', 'spkTable_5')",
         "931"
        ]
       ],
       "shape": {
        "columns": 1,
        "rows": 363
       }
      },
      "text/plain": [
       "sessFile                 neuron    \n",
       "KB09_12_pursuitRoot.mat  spkTable_1     861\n",
       "                         spkTable_3     861\n",
       "KB09_13_pursuitRoot.mat  spkTable_1     679\n",
       "                         spkTable_2     679\n",
       "KB09_17_pursuitRoot.mat  spkTable_1    1001\n",
       "                                       ... \n",
       "LP06_30_pursuitRoot.mat  spkTable_6     681\n",
       "LP06_34_pursuitRoot.mat  spkTable_1     665\n",
       "                         spkTable_2     665\n",
       "LP06_36_pursuitRoot.mat  spkTable_1     941\n",
       "                         spkTable_2     941\n",
       "Length: 363, dtype: int64"
      ]
     },
     "execution_count": 27,
     "metadata": {},
     "output_type": "execute_result"
    }
   ],
   "source": [
    "count_n(PPC_first_second_tuning)"
   ]
  },
  {
   "cell_type": "code",
   "execution_count": 26,
   "id": "f9578a26",
   "metadata": {},
   "outputs": [
    {
     "data": {
      "application/vnd.microsoft.datawrangler.viewer.v0+json": {
       "columns": [
        {
         "name": "('sessFile', 'neuron')",
         "rawType": "object",
         "type": "unknown"
        },
        {
         "name": "0",
         "rawType": "int64",
         "type": "integer"
        }
       ],
       "ref": "c855d381-45d1-4c67-b222-91dd9c001d7d",
       "rows": [
        [
         "('KB09_12_pursuitRoot.mat', 'spkTable_1')",
         "573"
        ],
        [
         "('KB09_12_pursuitRoot.mat', 'spkTable_2')",
         "573"
        ],
        [
         "('KB09_12_pursuitRoot.mat', 'spkTable_3')",
         "573"
        ],
        [
         "('KB09_13_pursuitRoot.mat', 'spkTable_1')",
         "611"
        ],
        [
         "('KB09_13_pursuitRoot.mat', 'spkTable_2')",
         "611"
        ],
        [
         "('KB09_17_pursuitRoot.mat', 'spkTable_1')",
         "1001"
        ],
        [
         "('KB09_17_pursuitRoot.mat', 'spkTable_2')",
         "1001"
        ],
        [
         "('KB09_17_pursuitRoot.mat', 'spkTable_3')",
         "1001"
        ],
        [
         "('KB09_17_pursuitRoot.mat', 'spkTable_4')",
         "1001"
        ],
        [
         "('KB09_17_pursuitRoot.mat', 'spkTable_5')",
         "1001"
        ],
        [
         "('KB09_17_pursuitRoot.mat', 'spkTable_6')",
         "1001"
        ],
        [
         "('KB09_18_pursuitRoot.mat', 'spkTable_1')",
         "681"
        ],
        [
         "('KB09_18_pursuitRoot.mat', 'spkTable_10')",
         "681"
        ],
        [
         "('KB09_18_pursuitRoot.mat', 'spkTable_11')",
         "681"
        ],
        [
         "('KB09_18_pursuitRoot.mat', 'spkTable_2')",
         "681"
        ],
        [
         "('KB09_18_pursuitRoot.mat', 'spkTable_3')",
         "681"
        ],
        [
         "('KB09_18_pursuitRoot.mat', 'spkTable_4')",
         "681"
        ],
        [
         "('KB09_18_pursuitRoot.mat', 'spkTable_5')",
         "681"
        ],
        [
         "('KB09_18_pursuitRoot.mat', 'spkTable_6')",
         "681"
        ],
        [
         "('KB09_18_pursuitRoot.mat', 'spkTable_7')",
         "681"
        ],
        [
         "('KB09_18_pursuitRoot.mat', 'spkTable_8')",
         "681"
        ],
        [
         "('KB09_18_pursuitRoot.mat', 'spkTable_9')",
         "681"
        ],
        [
         "('KB09_19_pursuitRoot.mat', 'spkTable_1')",
         "791"
        ],
        [
         "('KB09_19_pursuitRoot.mat', 'spkTable_2')",
         "791"
        ],
        [
         "('KB09_19_pursuitRoot.mat', 'spkTable_3')",
         "791"
        ],
        [
         "('KB09_19_pursuitRoot.mat', 'spkTable_4')",
         "791"
        ],
        [
         "('KB09_19_pursuitRoot.mat', 'spkTable_5')",
         "791"
        ],
        [
         "('KB09_19_pursuitRoot.mat', 'spkTable_6')",
         "791"
        ],
        [
         "('KB09_20_pursuitRoot.mat', 'spkTable_1')",
         "1001"
        ],
        [
         "('KB09_22_pursuitRoot.mat', 'spkTable_1')",
         "591"
        ],
        [
         "('KB09_23_pursuitRoot.mat', 'spkTable_1')",
         "639"
        ],
        [
         "('KB09_24_pursuitRoot.mat', 'spkTable_1')",
         "331"
        ],
        [
         "('KB09_25_pursuitRoot.mat', 'spkTable_1')",
         "953"
        ],
        [
         "('KB09_26_pursuitRoot.mat', 'spkTable_1')",
         "879"
        ],
        [
         "('KB10_05_pursuitRoot.mat', 'spkTable_1')",
         "973"
        ],
        [
         "('KB10_05_pursuitRoot.mat', 'spkTable_2')",
         "973"
        ],
        [
         "('KB10_05_pursuitRoot.mat', 'spkTable_3')",
         "973"
        ],
        [
         "('KB10_07_pursuitRoot.mat', 'spkTable_3')",
         "1001"
        ],
        [
         "('KB10_08_pursuitRoot.mat', 'spkTable_1')",
         "873"
        ],
        [
         "('KB10_08_pursuitRoot.mat', 'spkTable_3')",
         "873"
        ],
        [
         "('KB10_08_pursuitRoot.mat', 'spkTable_4')",
         "873"
        ],
        [
         "('KB10_08_pursuitRoot.mat', 'spkTable_5')",
         "873"
        ],
        [
         "('KB19_03_pursuitRoot.mat', 'spkTable_1')",
         "985"
        ],
        [
         "('KB19_03_pursuitRoot.mat', 'spkTable_2')",
         "985"
        ],
        [
         "('KB19_03_pursuitRoot.mat', 'spkTable_3')",
         "985"
        ],
        [
         "('KB19_03_pursuitRoot.mat', 'spkTable_4')",
         "985"
        ],
        [
         "('KB19_04_pursuitRoot.mat', 'spkTable_1')",
         "975"
        ],
        [
         "('KB19_04_pursuitRoot.mat', 'spkTable_2')",
         "975"
        ],
        [
         "('KB19_04_pursuitRoot.mat', 'spkTable_3')",
         "975"
        ],
        [
         "('KB19_04_pursuitRoot.mat', 'spkTable_4')",
         "975"
        ]
       ],
       "shape": {
        "columns": 1,
        "rows": 366
       }
      },
      "text/plain": [
       "sessFile                 neuron    \n",
       "KB09_12_pursuitRoot.mat  spkTable_1    573\n",
       "                         spkTable_2    573\n",
       "                         spkTable_3    573\n",
       "KB09_13_pursuitRoot.mat  spkTable_1    611\n",
       "                         spkTable_2    611\n",
       "                                      ... \n",
       "LP06_30_pursuitRoot.mat  spkTable_6    527\n",
       "LP06_34_pursuitRoot.mat  spkTable_1    599\n",
       "                         spkTable_2    599\n",
       "LP06_36_pursuitRoot.mat  spkTable_1    837\n",
       "                         spkTable_2    837\n",
       "Length: 366, dtype: int64"
      ]
     },
     "execution_count": 26,
     "metadata": {},
     "output_type": "execute_result"
    }
   ],
   "source": [
    "count_n(PPC_odd_even_tuning)"
   ]
  },
  {
   "cell_type": "markdown",
   "id": "35",
   "metadata": {},
   "source": [
    "# Find cells with corr values over the 95th and 99th percentiles and compare them to the true tuning values."
   ]
  },
  {
   "cell_type": "code",
   "execution_count": null,
   "id": "37",
   "metadata": {},
   "outputs": [],
   "source": [
    "#plot null distribution of spearman r values with true, 95th, 99th percentile lines for all cells\n",
    "pursuit.tuning.plot_null_dist(RSC_first_second_tuning)"
   ]
  },
  {
   "cell_type": "code",
   "execution_count": null,
   "id": "39",
   "metadata": {},
   "outputs": [],
   "source": [
    "#ID significant cells above 95th and 99th corr values\n",
    "RSC_first_second_cells_95 = pursuit.tuning.get_significant_cells(RSC_first_second_tuning, percentile=95)\n",
    "RSC_first_second_cells_99 = pursuit.tuning.get_significant_cells(RSC_first_second_tuning, percentile=99)\n"
   ]
  },
  {
   "cell_type": "code",
   "execution_count": null,
   "id": "40",
   "metadata": {},
   "outputs": [],
   "source": [
    "#plot null distribution of spearman r values with true, 95th, 99th percentile lines for significant cells\n",
    "pursuit.tuning.plot_null_dist(RSC_first_second_tuning, neurons=RSC_first_second_cells_95)"
   ]
  },
  {
   "cell_type": "code",
   "execution_count": null,
   "id": "42",
   "metadata": {},
   "outputs": [],
   "source": [
    "# plot heatmaps of significant cells and return two dataframes; one for peak-sorted neurons ready to plot and one with binned tuning values \n",
    "df_sorted , df_binned = pursuit.tuning.sig_cells_heatmap(RSC_cleaned, circle_boundaries, RSC_first_second_cells_95, percentile=95)"
   ]
  },
  {
   "cell_type": "code",
   "execution_count": null,
   "id": "44",
   "metadata": {},
   "outputs": [],
   "source": [
    "#plot at total laser occupancy per bin per session (and save to pdf bc there's a lot of plots)\n",
    "\n",
    "pursuit.tuning.occ_dist_to_pdf(df_binned)"
   ]
  },
  {
   "cell_type": "code",
   "execution_count": null,
   "id": "46",
   "metadata": {},
   "outputs": [],
   "source": [
    "#plot individual significant cell tuning curves\n",
    "\n",
    "pursuit.tuning.plot_sig_tuning_curves(RSC_cleaned, circle_boundaries, RSC_first_second_cells_95)"
   ]
  },
  {
   "cell_type": "markdown",
   "id": "47",
   "metadata": {},
   "source": [
    "# ignore everything under here for now"
   ]
  },
  {
   "cell_type": "markdown",
   "id": "48",
   "metadata": {},
   "source": [
    "# Investigating time shifts."
   ]
  },
  {
   "cell_type": "code",
   "execution_count": null,
   "id": "49",
   "metadata": {},
   "outputs": [],
   "source": [
    "def unique_time_entries(dataframe):\n",
    "    all_sessions = []\n",
    "\n",
    "    for sessFile in dataframe[\"sessFile\"].unique():\n",
    "        session = dataframe[dataframe[\"sessFile\"] == sessFile]\n",
    "        session_times = session[\"time\"]\n",
    "\n",
    "        times_unique = session_times.astype(\"float64\").nunique()\n",
    "        times_count = session_times.astype(\"float64\").value_counts().to_dict()\n",
    "\n",
    "        all_sessions.append({\n",
    "            \"sessFile\": sessFile,\n",
    "            \"times_unique\": times_unique,\n",
    "            \"unique_times_count\": times_count\n",
    "        })\n",
    "\n",
    "    return pd.DataFrame(all_sessions)"
   ]
  },
  {
   "cell_type": "code",
   "execution_count": null,
   "id": "50",
   "metadata": {},
   "outputs": [],
   "source": [
    "RSC_sessions_times = unique_time_entries(RSC_sessions)\n",
    "RSC_sessions_times"
   ]
  },
  {
   "cell_type": "code",
   "execution_count": null,
   "id": "51",
   "metadata": {},
   "outputs": [],
   "source": [
    "def inspect_time_counts(session_row):\n",
    "    times= session_row[\"unique_times_count\"]\n",
    "    sorted_times = sorted(times.items())\n",
    "    return pd.DataFrame(sorted_times, columns=[\"time\", \"count\"])"
   ]
  },
  {
   "cell_type": "code",
   "execution_count": null,
   "id": "52",
   "metadata": {},
   "outputs": [],
   "source": [
    "lp03_25 = RSC_sessions_times[RSC_sessions_times[\"sessFile\"] == \"LP03_25_pursuitRoot.mat\"]\n",
    "\n",
    "lp03_25_row = lp03_25.iloc[0]\n",
    "\n",
    "lp03_25_inspection = inspect_time_counts(lp03_25_row)\n",
    "\n",
    "\n",
    "lp03_25_inspection"
   ]
  },
  {
   "cell_type": "markdown",
   "id": "53",
   "metadata": {},
   "source": [
    "# Find distance of laser points to boundary and bin data by distance."
   ]
  },
  {
   "cell_type": "code",
   "execution_count": null,
   "id": "54",
   "metadata": {},
   "outputs": [],
   "source": [
    "#find distance of normalized laser points to circle boundary by each session\n",
    "#function takes the normalized laser/spikes and circle boundaries dataframes\n",
    "\n",
    "RSC_laser_spks_bounds = pursuit.tuning.dist_to_bounds(RSC_laser_spks, circle_boundaries)\n",
    "CA1_laser_spks_bounds = pursuit.tuning.dist_to_bounds(CA1_laser_spks, circle_boundaries)\n",
    "CA3_laser_spks_bounds = pursuit.tuning.dist_to_bounds(CA3_laser_spks, circle_boundaries)"
   ]
  },
  {
   "cell_type": "code",
   "execution_count": null,
   "id": "55",
   "metadata": {},
   "outputs": [],
   "source": [
    "CA3_laser_spks_bounds.head(50)"
   ]
  },
  {
   "cell_type": "code",
   "execution_count": null,
   "id": "56",
   "metadata": {},
   "outputs": [],
   "source": [
    "#bin the data!\n",
    "RSC_laser_spikes_binned = pursuit.tuning.bin_spikes_laser(RSC_laser_spks_bounds)\n",
    "CA1_laser_spikes_binned = pursuit.tuning.bin_spikes_laser(CA1_laser_spks_bounds)\n",
    "CA3_laser_spikes_binned = pursuit.tuning.bin_spikes_laser(CA3_laser_spks_bounds)"
   ]
  },
  {
   "cell_type": "markdown",
   "id": "57",
   "metadata": {},
   "source": [
    "# Normalize spike counts, smooth data, peak sort neurons, and plot tuning curves."
   ]
  },
  {
   "cell_type": "code",
   "execution_count": null,
   "id": "58",
   "metadata": {},
   "outputs": [],
   "source": [
    "#calculate raw tuning curves\n",
    "RSC_tuning = pursuit.tuning.calculate_tuning(RSC_laser_spikes_binned)\n",
    "CA1_tuning = pursuit.tuning.calculate_tuning(CA1_laser_spikes_binned)\n",
    "CA3_tuning = pursuit.tuning.calculate_tuning(CA3_laser_spikes_binned)"
   ]
  },
  {
   "cell_type": "code",
   "execution_count": null,
   "id": "59",
   "metadata": {},
   "outputs": [],
   "source": [
    "#plot all neuron tuning curves for a sanity check\n",
    "\n",
    "pursuit.tuning.plot_tuning_curves(CA3_tuning)"
   ]
  },
  {
   "cell_type": "code",
   "execution_count": null,
   "id": "60",
   "metadata": {},
   "outputs": [],
   "source": [
    "# z-score and normalize data\n",
    "RSC_z_scored = pursuit.tuning.z_score_norm(RSC_tuning)\n",
    "CA1_z_scored = pursuit.tuning.z_score_norm(CA1_tuning)\n",
    "CA3_z_scored = pursuit.tuning.z_score_norm(CA3_tuning)"
   ]
  },
  {
   "cell_type": "code",
   "execution_count": null,
   "id": "61",
   "metadata": {},
   "outputs": [],
   "source": [
    "# apply smoothing and pivot data\n",
    "RSC_smoothed = pursuit.tuning.pivot_smooth(RSC_z_scored)\n",
    "CA1_smoothed = pursuit.tuning.pivot_smooth(CA1_z_scored)\n",
    "CA3_smoothed = pursuit.tuning.pivot_smooth(CA3_z_scored)"
   ]
  },
  {
   "cell_type": "code",
   "execution_count": null,
   "id": "62",
   "metadata": {},
   "outputs": [],
   "source": [
    "# peak sort the data\n",
    "RSC_smoothed_sorted = pursuit.tuning.peak_sort(RSC_smoothed)\n",
    "CA1_smoothed_sorted = pursuit.tuning.peak_sort(CA1_smoothed)\n",
    "CA3_smoothed_sorted = pursuit.tuning.peak_sort(CA3_smoothed)"
   ]
  },
  {
   "cell_type": "code",
   "execution_count": null,
   "id": "63",
   "metadata": {},
   "outputs": [],
   "source": [
    "#plot heatmaps\n",
    "pursuit.tuning.heatmap(RSC_smoothed_sorted)\n",
    "pursuit.tuning.heatmap(CA1_smoothed_sorted)\n",
    "pursuit.tuning.heatmap(CA3_smoothed_sorted)"
   ]
  },
  {
   "cell_type": "markdown",
   "id": "64",
   "metadata": {},
   "source": [
    "# Calculate neuron counts"
   ]
  },
  {
   "cell_type": "code",
   "execution_count": null,
   "id": "65",
   "metadata": {},
   "outputs": [],
   "source": [
    "RSC_count = pursuit.tuning.count_neurons(RSC_cleaned)\n",
    "CA1_count = pursuit.tuning.count_neurons(CA1_cleaned)\n",
    "CA3_count = pursuit.tuning.count_neurons(CA3_cleaned)"
   ]
  },
  {
   "cell_type": "code",
   "execution_count": null,
   "id": "66",
   "metadata": {},
   "outputs": [],
   "source": [
    "RSC_count\n"
   ]
  },
  {
   "cell_type": "code",
   "execution_count": null,
   "id": "67",
   "metadata": {},
   "outputs": [],
   "source": [
    "CA1_count"
   ]
  },
  {
   "cell_type": "code",
   "execution_count": null,
   "id": "68",
   "metadata": {},
   "outputs": [],
   "source": [
    "CA3_count"
   ]
  },
  {
   "cell_type": "code",
   "execution_count": null,
   "id": "69",
   "metadata": {},
   "outputs": [],
   "source": []
  }
 ],
 "metadata": {
  "kernelspec": {
   "display_name": "pursuit",
   "language": "python",
   "name": "python3"
  },
  "language_info": {
   "codemirror_mode": {
    "name": "ipython",
    "version": 3
   },
   "file_extension": ".py",
   "mimetype": "text/x-python",
   "name": "python",
   "nbconvert_exporter": "python",
   "pygments_lexer": "ipython3",
   "version": "3.13.2"
  }
 },
 "nbformat": 4,
 "nbformat_minor": 5
}
