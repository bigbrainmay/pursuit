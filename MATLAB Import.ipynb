{
 "cells": [
  {
   "cell_type": "code",
   "execution_count": null,
   "id": "0",
   "metadata": {},
   "outputs": [],
   "source": [
    "from pathlib import Path\n",
    "import scipy.io as sio\n",
    "import pandas as pd\n",
    "import numpy as np\n",
    "import matplotlib as plt\n",
    "import pursuit_functions as pursuit\n",
    "import pyarrow as pa\n",
    "import re\n",
    "\n",
    "pd.set_option('display.max_columns', 100)  # Show more columns (default is 20)\n",
    "\n",
    "%load_ext autoreload\n",
    "%autoreload 2"
   ]
  },
  {
   "cell_type": "code",
   "execution_count": null,
   "id": "1",
   "metadata": {},
   "outputs": [],
   "source": [
    "#load region files\n",
    "#data_dir = Path(\"/Users/may/Projects/nitzPurusitData\")\n",
    "data_dir = Path(r\"Z:\\Data\\Andy\\nitzPurusitData\")\n",
    "#data_dir = Path(\"/Volumes/ASA_Lab/Data/Xiaoxiao/ppcRscEVCPoster/pursuitSessionFiles\")\n",
    "\n",
    "\n",
    "region_directories = pursuit.file_reader.load_region_files(data_dir, prefix='sl')"
   ]
  },
  {
   "cell_type": "code",
   "execution_count": null,
   "id": "2",
   "metadata": {},
   "outputs": [],
   "source": [
    "#convert loaded region directory files into dataframes\n",
    "rsc_directory = pd.DataFrame(region_directories['slRsc'])\n",
    "ppc_directory = pd.DataFrame(region_directories['slPar']) "
   ]
  },
  {
   "cell_type": "code",
   "execution_count": null,
   "id": "3",
   "metadata": {},
   "outputs": [],
   "source": [
    "#unpack block indices\n",
    "pursuit.df_utils.unpack_block_indices(rsc_directory)\n",
    "pursuit.df_utils.unpack_block_indices(ppc_directory)"
   ]
  },
  {
   "cell_type": "code",
   "execution_count": null,
   "id": "4",
   "metadata": {},
   "outputs": [],
   "source": [
    "#load pursuit session files\n",
    "#data_dir2 = Path(\"/Users/may/Projects/nitzPurusitData/Sessions\")\n",
    "data_dir2 = Path(r\"Z:\\Data\\Andy\\nitzPurusitData\\Sessions\")\n",
    "\n",
    "rsc_files = rsc_directory[\"sessFile\"].unique().tolist()\n",
    "ppc_files = ppc_directory[\"sessFile\"].unique().tolist()\n",
    "include_files = list(set(rsc_files) | set(ppc_files))\n",
    "\n",
    "session_files = pursuit.file_reader.load_session_files(data_dir2, include_files=include_files)\n"
   ]
  },
  {
   "cell_type": "code",
   "execution_count": null,
   "id": "5",
   "metadata": {},
   "outputs": [],
   "source": [
    "#convert extracted pursuit session file data into dataframes\n",
    "session_dfs = pursuit.df_utils.convert_sessions_to_dfs(session_files)"
   ]
  },
  {
   "cell_type": "code",
   "execution_count": null,
   "id": "6",
   "metadata": {},
   "outputs": [],
   "source": [
    "#filter for valid cells by region using region directory dfs\n",
    "rsc_session_dfs = pursuit.df_utils.filter_spkTables(rsc_directory, session_dfs)\n",
    "ppc_session_dfs = pursuit.df_utils.filter_spkTables(ppc_directory, session_dfs)"
   ]
  },
  {
   "cell_type": "code",
   "execution_count": null,
   "id": "7",
   "metadata": {},
   "outputs": [],
   "source": [
    "#build region dfs\n",
    "rsc_df = pursuit.df_utils.build_region_df(rsc_directory, rsc_session_dfs)\n",
    "ppc_df = pursuit.df_utils.build_region_df(ppc_directory, ppc_session_dfs)"
   ]
  },
  {
   "cell_type": "code",
   "execution_count": null,
   "id": "8",
   "metadata": {},
   "outputs": [],
   "source": [
    "#verify sessFile, spkTable group counts (neurons) \n",
    "pursuit.df_utils.count_neurons(rsc_df)"
   ]
  },
  {
   "cell_type": "code",
   "execution_count": null,
   "id": "9",
   "metadata": {},
   "outputs": [],
   "source": [
    "#verify sessFile, spkTable group counts (neurons) \n",
    "pursuit.df_utils.count_neurons(ppc_df)"
   ]
  },
  {
   "cell_type": "code",
   "execution_count": null,
   "id": "10",
   "metadata": {},
   "outputs": [],
   "source": [
    "#save files to parquet\n",
    "pursuit.df_utils.save_to_parquet(rsc_df, filename=\"RSC_sessions\")\n",
    "pursuit.df_utils.save_to_parquet(ppc_df, filename=\"PPC_sessions\")"
   ]
  }
 ],
 "metadata": {
  "kernelspec": {
   "display_name": "pursuit",
   "language": "python",
   "name": "python3"
  },
  "language_info": {
   "codemirror_mode": {
    "name": "ipython",
    "version": 3
   },
   "file_extension": ".py",
   "mimetype": "text/x-python",
   "name": "python",
   "nbconvert_exporter": "python",
   "pygments_lexer": "ipython3",
   "version": "3.13.2"
  }
 },
 "nbformat": 4,
 "nbformat_minor": 5
}
