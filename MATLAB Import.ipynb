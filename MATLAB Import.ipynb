{
 "cells": [
  {
   "cell_type": "code",
   "execution_count": null,
   "id": "0",
   "metadata": {},
   "outputs": [],
   "source": [
    "from pathlib import Path\n",
    "import scipy.io as sio\n",
    "import pandas as pd\n",
    "import numpy as np\n",
    "import matplotlib as plt\n",
    "import pursuit_functions as pursuit\n",
    "import pyarrow as pa\n",
    "import re\n",
    "\n",
    "pd.set_option('display.max_columns', 100)  # Show more columns (default is 20)\n",
    "\n",
    "%load_ext autoreload\n",
    "%autoreload 2"
   ]
  },
  {
   "cell_type": "code",
   "execution_count": null,
   "id": "1",
   "metadata": {},
   "outputs": [],
   "source": [
    "#load region files\n",
    "#data_dir = Path(\"/Users/may/Projects/nitzPurusitData\")\n",
    "data_dir = Path(r\"Z:\\Data\\Andy\\nitzPurusitData\")\n",
    "#data_dir = Path(\"/Volumes/ASA_Lab/Data/Xiaoxiao/ppcRscEVCPoster/pursuitSessionFiles\")\n",
    "\n",
    "\n",
    "region_directories = pursuit.file_reader.load_region_files(data_dir, prefix='sl')"
   ]
  },
  {
   "cell_type": "code",
   "execution_count": null,
   "id": "2",
   "metadata": {},
   "outputs": [],
   "source": [
    "#convert loaded region directory files into dataframes\n",
    "rsc_directory = pd.DataFrame(region_directories['slRsc'])\n",
    "ppc_directory = pd.DataFrame(region_directories['slPar']) "
   ]
  },
  {
   "cell_type": "code",
   "execution_count": null,
   "id": "3",
   "metadata": {},
   "outputs": [],
   "source": [
    "#unpack block indices\n",
    "pursuit.df_utils.unpack_block_indices(rsc_directory)\n",
    "pursuit.df_utils.unpack_block_indices(ppc_directory)"
   ]
  },
  {
   "cell_type": "code",
   "execution_count": null,
   "id": "4",
   "metadata": {},
   "outputs": [],
   "source": [
    "rsc_directory"
   ]
  },
  {
   "cell_type": "code",
   "execution_count": null,
   "id": "5",
   "metadata": {},
   "outputs": [],
   "source": [
    "def unpack_block_indices(df):\n",
    "    blocks = [\"FE1\", \"pursuit\", \"FE2\"]\n",
    "\n",
    "    for i, blocks in enumerate(blocks):\n",
    "        df[f\"{blocks}_start\"] = df[\"blocks\"].apply(lambda x: x[i][0] if len(x) > i else None)\n",
    "        df[f\"{blocks}_end\"]   = df[\"blocks\"].apply(lambda x: x[i][1] if len(x) > i else None)\n",
    "    \n",
    "    return df\n"
   ]
  },
  {
   "cell_type": "code",
   "execution_count": null,
   "id": "6",
   "metadata": {},
   "outputs": [],
   "source": [
    "unpack_block_indices(rsc_directory)\n",
    "unpack_block_indices(ppc_directory)"
   ]
  },
  {
   "cell_type": "code",
   "execution_count": null,
   "id": "7",
   "metadata": {},
   "outputs": [],
   "source": [
    "#load pursuit session files\n",
    "#data_dir2 = Path(\"/Users/may/Projects/nitzPurusitData/Sessions\")\n",
    "data_dir2 = Path(r\"Z:\\Data\\Andy\\nitzPurusitData\\Sessions\")\n",
    "\n",
    "rsc_files = rsc_directory[\"sessFile\"].unique().tolist()\n",
    "ppc_files = ppc_directory[\"sessFile\"].unique().tolist()\n",
    "include_files = list(set(rsc_files) | set(ppc_files))\n",
    "\n",
    "session_files = pursuit.file_reader.load_session_files(data_dir2, include_files=include_files)\n"
   ]
  },
  {
   "cell_type": "code",
   "execution_count": null,
   "id": "8",
   "metadata": {},
   "outputs": [],
   "source": [
    "#convert extracted pursuit session file data into dataframes\n",
    "def convert_sessions_to_dfs(session_files_df):\n",
    "    session_dfs = {\n",
    "        filename: pd.DataFrame(file_data).convert_dtypes(dtype_backend=\"pyarrow\")\n",
    "        for filename, file_data in session_files_df.items()\n",
    "    }\n",
    "    return session_dfs "
   ]
  },
  {
   "cell_type": "code",
   "execution_count": null,
   "id": "9",
   "metadata": {},
   "outputs": [],
   "source": [
    "session_dfs = convert_sessions_to_dfs(session_files)"
   ]
  },
  {
   "cell_type": "code",
   "execution_count": null,
   "id": "10",
   "metadata": {},
   "outputs": [],
   "source": [
    "session_dfs[\"KB10_01_pursuitRoot.mat\"].head()"
   ]
  },
  {
   "cell_type": "code",
   "execution_count": null,
   "id": "11",
   "metadata": {},
   "outputs": [],
   "source": [
    "#filter for valid cells \n",
    "def filter_spkTables(region_df, session_dfs):\n",
    "\n",
    "    filtered_dfs = {}\n",
    "\n",
    "    grouped = region_df.groupby(\"sessFile\")[\"cellIndex\"].apply(list) \n",
    "\n",
    "    for session, df in session_dfs.items():\n",
    "        if session not in grouped:\n",
    "            continue\n",
    "        \n",
    "        valid_cells = [str(c) for c in grouped[session]]\n",
    "        \n",
    "        keep_spk_cols = [\n",
    "            col for col in df.columns\n",
    "            if col.startswith(\"spkTable\") and any(re.fullmatch(rf\"spkTable_?{cell}\", col) for cell in valid_cells)\n",
    "        ]\n",
    "        \n",
    "        non_spk_cols = [c for c in df.columns if not c.startswith(\"spkTable\")]\n",
    "        keep_cols = non_spk_cols + keep_spk_cols\n",
    "        filtered_dfs[session] = df[keep_cols].copy()\n",
    "    \n",
    "    return filtered_dfs"
   ]
  },
  {
   "cell_type": "code",
   "execution_count": null,
   "id": "12",
   "metadata": {},
   "outputs": [],
   "source": [
    "rsc_session_dfs = filter_spkTables(rsc_directory, session_dfs)"
   ]
  },
  {
   "cell_type": "code",
   "execution_count": null,
   "id": "13",
   "metadata": {},
   "outputs": [],
   "source": [
    "rsc_session_dfs[\"KB10_09_pursuitRoot.mat\"].head()"
   ]
  },
  {
   "cell_type": "code",
   "execution_count": null,
   "id": "14",
   "metadata": {},
   "outputs": [],
   "source": [
    "rsc_session_dfs[\"KB10_01_pursuitRoot.mat\"]"
   ]
  },
  {
   "cell_type": "code",
   "execution_count": null,
   "id": "15",
   "metadata": {},
   "outputs": [],
   "source": [
    "def build_region_df(region_df, session_dfs):\n",
    "    max_cell = region_df[\"cellIndex\"].max()\n",
    "    print(\"Highest cellIndex:\", max_cell)\n",
    "\n",
    "    all_spk_cols = [f\"spkTable_{i}\" for i in range (1, max_cell + 1)]\n",
    "\n",
    "    dfs = [] \n",
    "\n",
    "    for sessFile, df in session_dfs.items():\n",
    "        df = df.copy()\n",
    "\n",
    "        for col in all_spk_cols:\n",
    "            if col not in df.columns:\n",
    "                df[col] = np.nan\n",
    "\n",
    "        non_spk_cols = [c for c in df.columns if not c.startswith(\"spkTable\")]\n",
    "        df = df[non_spk_cols + all_spk_cols]\n",
    "\n",
    "        \n",
    "        df[\"sessIdx\"] = df.index\n",
    "        df[\"sessFile\"] = sessFile\n",
    "\n",
    "        dfs.append(df)\n",
    "\n",
    "        session_row = region_df.loc[region_df[\"sessFile\"] == sessFile].iloc[0]\n",
    "\n",
    "        blocks = np.full(len(df),  np.nan, dtype=object)\n",
    "        for block_id in [\"FE1\", \"pursuit\", \"FE2\"]:\n",
    "            start_val = session_row[f\"{block_id}_start\"]\n",
    "            end_val = session_row[f\"{block_id}_end\"]\n",
    "\n",
    "            if pd.notna(start_val) and pd.notna(end_val):\n",
    "                start, end = int(start_val), int(end_val)\n",
    "                mask = (df[\"sessIdx\"] >= start) & (df[\"sessIdx\"] <= end)\n",
    "                blocks[mask] = block_id\n",
    "\n",
    "        df[\"block\"] = blocks\n",
    "\n",
    "        dfs.append(df)\n",
    "\n",
    "    big_df = pd.concat(dfs, axis=0)\n",
    "    return big_df\n"
   ]
  },
  {
   "cell_type": "code",
   "execution_count": null,
   "id": "16",
   "metadata": {},
   "outputs": [],
   "source": [
    "rsc_df = build_region_df(rsc_directory, rsc_session_dfs)"
   ]
  },
  {
   "cell_type": "code",
   "execution_count": null,
   "id": "17",
   "metadata": {},
   "outputs": [],
   "source": [
    "rsc_df"
   ]
  },
  {
   "cell_type": "code",
   "execution_count": null,
   "id": "18",
   "metadata": {},
   "outputs": [],
   "source": [
    "def count_neurons(region_df):\n",
    "    grand_total = 0\n",
    "    groups = region_df.groupby(\"sessFile\")\n",
    "    \n",
    "    for sessFile, group in groups:\n",
    "        spk_cols = [col for col in group.columns if col.startswith(\"spkTable\")]\n",
    "        spk_cols = [col for col in spk_cols if group[col].notna().any()]\n",
    "        spk_count = len(spk_cols)\n",
    "        print(f\"{sessFile}: {spk_count} spkTable columns\")\n",
    "        grand_total += spk_count\n",
    "    \n",
    "    print(f\"\\nGrand total: {grand_total} (session, column) combos\")\n"
   ]
  },
  {
   "cell_type": "code",
   "execution_count": null,
   "id": "19",
   "metadata": {},
   "outputs": [],
   "source": [
    "count_neurons(rsc_df)"
   ]
  },
  {
   "cell_type": "code",
   "execution_count": null,
   "id": "20",
   "metadata": {},
   "outputs": [],
   "source": [
    "def count_spkTables(session_dfs):\n",
    "    grand_total = 0\n",
    "    for session, df in session_dfs.items():\n",
    "        spk_cols = [col for col in df.columns if col.startswith(\"spkTable\")]\n",
    "        spk_count = len(spk_cols)\n",
    "        print(f\"{session}: {spk_count} spkTable columns\")\n",
    "        grand_total += spk_count\n",
    "    \n",
    "    print(f\"\\nGrand total: {grand_total} (session, column) combos\")\n"
   ]
  },
  {
   "cell_type": "code",
   "execution_count": null,
   "id": "21",
   "metadata": {},
   "outputs": [],
   "source": [
    "count_spkTables(rsc_session_dfs)"
   ]
  },
  {
   "cell_type": "code",
   "execution_count": null,
   "id": "22",
   "metadata": {},
   "outputs": [],
   "source": [
    "rsc_session_dfs[\"KB10_01_pursuitRoot.mat\"].head()"
   ]
  },
  {
   "cell_type": "code",
   "execution_count": null,
   "id": "23",
   "metadata": {},
   "outputs": [],
   "source": [
    "def make_region_df(region_df, session_dfs, region: str):    \n",
    "    region_dfs = {}\n",
    "\n",
    "    dfs = []\n",
    "    for session in region_df[\"sessFile\"].unique():\n",
    "        if session in session_dfs:\n",
    "            df = session_dfs[session].copy()\n",
    "            df['region'] = region\n",
    "            dfs.append(df)\n",
    "\n",
    "    if dfs:\n",
    "        region_dfs[region] = pd.concat(dfs, ignore_index=True)\n",
    "    \n",
    "    return region_dfs   \n"
   ]
  }
 ],
 "metadata": {
  "kernelspec": {
   "display_name": "pursuit",
   "language": "python",
   "name": "python3"
  },
  "language_info": {
   "codemirror_mode": {
    "name": "ipython",
    "version": 3
   },
   "file_extension": ".py",
   "mimetype": "text/x-python",
   "name": "python",
   "nbconvert_exporter": "python",
   "pygments_lexer": "ipython3",
   "version": "3.13.2"
  }
 },
 "nbformat": 4,
 "nbformat_minor": 5
}
